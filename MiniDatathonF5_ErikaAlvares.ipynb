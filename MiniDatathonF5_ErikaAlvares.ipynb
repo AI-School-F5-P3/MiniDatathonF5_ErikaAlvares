{
  "nbformat": 4,
  "nbformat_minor": 0,
  "metadata": {
    "colab": {
      "provenance": [],
      "toc_visible": true,
      "authorship_tag": "ABX9TyOKD5r27Z5snrYzWp7b1qRL",
      "include_colab_link": true
    },
    "kernelspec": {
      "name": "python3",
      "display_name": "Python 3"
    },
    "language_info": {
      "name": "python"
    }
  },
  "cells": [
    {
      "cell_type": "markdown",
      "metadata": {
        "id": "view-in-github",
        "colab_type": "text"
      },
      "source": [
        "<a href=\"https://colab.research.google.com/github/ea-analisisdatos/MiniDatathonF5_ErikaAlvares/blob/main/MiniDatathonF5_ErikaAlvares.ipynb\" target=\"_parent\"><img src=\"https://colab.research.google.com/assets/colab-badge.svg\" alt=\"Open In Colab\"/></a>"
      ]
    },
    {
      "cell_type": "markdown",
      "source": [
        "# **MiniDatathonF5: USA Covid 19**\n",
        "El objectivo del proyecto es usar Python para cargar los datos relativos a la incidencia de Covid-19 en Estados Unidos utilizando una [API pública](https://covidtracking.com/data/api).\n",
        "\n",
        "Una vez cargados los datos, hacer una exploración de esos datos y elaborar un informe con las conclusiones y los descubrimientos.\n",
        "Contadnos la historia que habéis leído en los datos.\n",
        "\n",
        "## 📊 **Análisis Exploratorio de Datos (EDA)**\n",
        "\n",
        "El trabajo en este notebook esta basado en el **Proyecto de Seguimiento de la COVID-19, lanzado por The Atlantic** y la base de datos se encuentra en la pagina web de [**The COVID tranking Project**](https://covidtracking.com/data/api).\n",
        "\n",
        "\n",
        "🧑 **Alumna:** [Erika Alvares](https://www.erikaalvares.es/)"
      ],
      "metadata": {
        "id": "M3ud_COFDtoJ"
      }
    },
    {
      "cell_type": "markdown",
      "source": [],
      "metadata": {
        "id": "oZRlQBRufdDw"
      }
    },
    {
      "cell_type": "markdown",
      "source": [
        "# ▶ **Paso 1: Definición del Problema y Recopilación de Datos**"
      ],
      "metadata": {
        "id": "qwcfVPEtI-Vs"
      }
    },
    {
      "cell_type": "markdown",
      "source": [
        "## ⁉ **Definición del Problema y Recopilación de Datos**\n"
      ],
      "metadata": {
        "id": "0UbOthddNCK_"
      }
    },
    {
      "cell_type": "markdown",
      "source": [
        "📑 **Objetivo de Investigación**\n",
        "\n",
        "Debido a la extensión y la variedad de datos en el CSV proporcionado, nos enfocaremos en un **análisis exploratorio de los casos confirmados de COVID-19** y las **muertes asociadas en diferentes estados de EE.UU**.\n",
        "\n",
        "Nuestro **objetivo principal** será **identificar patrones temporales y geográficos en la propagación del virus**, centrándonos en cómo las **tasas de infección y mortalidad** variaron entre los estados a lo largo del tiempo."
      ],
      "metadata": {
        "id": "xxF1d5osq-1b"
      }
    },
    {
      "cell_type": "markdown",
      "source": [
        "**Recopilación de datos necesarios**\n",
        "\n",
        "Dado que el dataset es amplio y el tiempo es limitado, enfocaremos nuestro EDA en las siguientes columnas clave:\n",
        "\n",
        "- **date:** Para analizar la evolución temporal.\n",
        "- **state:** Para comparar diferentes estados.\n",
        "- **positive:** Casos confirmados de COVID-19.\n",
        "- **death:** Muertes confirmadas debido a COVID-19.\n",
        "- **hospitalizedCurrently:** Personas actualmente hospitalizadas, como un indicador de la presión sobre el sistema de salud.\n",
        "\n",
        "Creo que este enfoque permitirá obtener insights relevantes y accionables sin diluir el análisis en detalles demasiado técnicos o periféricos."
      ],
      "metadata": {
        "id": "2S0Gx12H5Eif"
      }
    },
    {
      "cell_type": "markdown",
      "source": [
        "## 🗒 **Diccionario de Datos**\n",
        "\n",
        "Este [diccionario](https://covidtracking.com/about-data/data-definitions#state-metadata) de datos nos ayudará a entender la utilidad y el propósito de cada columna en el dataset. Esto será fundamental a medida que profundicemos en el análisis y saquemos conclusiones a partir de estos datos.\n"
      ],
      "metadata": {
        "id": "4jOaXnjOj99C"
      }
    },
    {
      "cell_type": "markdown",
      "source": [
        "\n",
        "| **Nombre de la Columna**          | **Descripción**                                                                                      | **Tipo de Dato** |\n",
        "|-----------------------------------|------------------------------------------------------------------------------------------------------|------------------|\n",
        "| `date`                            | Fecha en que se reportaron los datos.                                                                | Entero (int64)   |\n",
        "| `state`                           | Abreviatura del estado de EE.UU. para el cual se reportan los datos.                                 | Cadena de texto (object) |\n",
        "| `positive`                        | Total de casos positivos confirmados hasta la fecha.                                                 | Flotante (float64) |\n",
        "| `probableCases`                   | Casos probables de COVID-19, según definición estatal.                                               | Flotante (float64) |\n",
        "| `negative`                        | Número de personas con pruebas PCR negativas.                                                        | Flotante (float64) |\n",
        "| `pending`                         | Pruebas virales pendientes de resultado.                                                             | Flotante (float64) |\n",
        "| `totalTestResultsSource`          | Fuente de los resultados totales de pruebas.                                                         | Cadena de texto (object) |\n",
        "| `totalTestResults`                | Total de resultados de pruebas disponibles.                                                          | Flotante (float64) |\n",
        "| `hospitalizedCurrently`           | Número de personas actualmente hospitalizadas por COVID-19.                                          | Flotante (float64) |\n",
        "| `hospitalizedCumulative`          | Total de personas que han sido hospitalizadas por COVID-19 desde el inicio de la pandemia.           | Flotante (float64) |\n",
        "| `inIcuCurrently`                  | Pacientes actuales en UCI debido a COVID-19.                                                         | Flotante (float64) |\n",
        "| `inIcuCumulative`                 | Total de personas que han estado en UCI por COVID-19 desde el inicio de la pandemia.                 | Flotante (float64) |\n",
        "| `onVentilatorCurrently`           | Personas actualmente en ventiladores debido a COVID-19.                                              | Flotante (float64) |\n",
        "| `onVentilatorCumulative`          | Total de personas que han necesitado ventiladores debido a COVID-19.                                 | Flotante (float64) |\n",
        "| `recovered`                       | Total de personas que se han recuperado de COVID-19.                                                 | Flotante (float64) |\n",
        "| `lastUpdateEt`                    | Fecha y hora de la última actualización en hora del Este (ET).                                       | Cadena de texto (object) |\n",
        "| `dateModified`                    | Fecha y hora de la última modificación de los datos.                                                 | Cadena de texto (object) |\n",
        "| `checkTimeEt`                     | Hora en la que se verificaron los datos (ET).                                                        | Cadena de texto (object) |\n",
        "| `death`                           | Total de muertes confirmadas o probables por COVID-19.                                               | Flotante (float64) |\n",
        "| `hospitalized`                    | Número total de personas hospitalizadas por COVID-19.                                                | Flotante (float64) |\n",
        "| `hospitalizedDischarged`          | Personas dadas de alta tras hospitalización por COVID-19.                                            | Flotante (float64) |\n",
        "| `dateChecked`                     | Fecha y hora en que se verificaron los datos.                                                        | Cadena de texto (object) |\n",
        "| `totalTestsViral`                 | Total de pruebas PCR realizadas (o especímenes probados).                                            | Flotante (float64) |\n",
        "| `positiveTestsViral`              | Total de pruebas PCR positivas (o especímenes probados).                                             | Flotante (float64) |\n",
        "| `negativeTestsViral`              | Total de pruebas PCR negativas (o especímenes probados).                                             | Flotante (float64) |\n",
        "| `positiveCasesViral`              | Número total de casos virales confirmados.                                                           | Flotante (float64) |\n",
        "| `deathConfirmed`                  | Muertes confirmadas por COVID-19 según definición estatal.                                           | Flotante (float64) |\n",
        "| `deathProbable`                   | Muertes probables por COVID-19, no confirmadas.                                                      | Flotante (float64) |\n",
        "| `totalTestEncountersViral`        | Total de encuentros de pruebas virales por persona por día.                                          | Flotante (float64) |\n",
        "| `totalTestsPeopleViral`           | Total de personas sometidas a pruebas virales (única vez por persona).                               | Flotante (float64) |\n",
        "| `totalTestsAntibody`              | Total de pruebas de anticuerpos realizadas.                                                          | Flotante (float64) |\n",
        "| `positiveTestsAntibody`           | Total de pruebas de anticuerpos que resultaron positivas.                                            | Flotante (float64) |\n",
        "| `negativeTestsAntibody`           | Total de pruebas de anticuerpos que resultaron negativas.                                            | Flotante (float64) |\n",
        "| `totalTestsPeopleAntibody`        | Total de personas que se sometieron a pruebas de anticuerpos.                                        | Flotante (float64) |\n",
        "| `positiveTestsPeopleAntibody`     | Total de personas con pruebas de anticuerpos positivas.                                              | Flotante (float64) |\n",
        "| `negativeTestsPeopleAntibody`     | Total de personas con pruebas de anticuerpos negativas.                                              | Flotante (float64) |\n",
        "| `totalTestsPeopleAntigen`         | Total de personas sometidas a pruebas de antígenos.                                                  | Flotante (float64) |\n",
        "| `positiveTestsPeopleAntigen`      | Total de personas con pruebas de antígenos positivas.                                                | Flotante (float64) |\n",
        "| `totalTestsAntigen`               | Total de pruebas de antígenos realizadas.                                                            | Flotante (float64) |\n",
        "| `positiveTestsAntigen`            | Total de pruebas de antígenos que resultaron positivas.                                              | Flotante (float64) |\n",
        "| `fips`                            | Código Federal de Información de Procesamiento Estándar (FIPS) para el estado.                       | Entero (int64)   |\n",
        "| `positiveIncrease`                | Incremento diario en el número de casos positivos.                                                   | Entero (int64)   |\n",
        "| `negativeIncrease`                | Incremento diario en el número de pruebas negativas.                                                 | Entero (int64)   |\n",
        "| `total`                           | Número total de pruebas realizadas (positivas + negativas).                                          | Entero (int64)   |\n",
        "| `totalTestResultsIncrease`        | Incremento diario en el número de resultados de pruebas disponibles.                                 | Entero (int64)   |\n",
        "| `posNeg`                          | Suma total de casos positivos y negativos.                                                           | Entero (int64)   |\n",
        "| `dataQualityGrade`                | Calificación de la calidad de los datos (no utilizada en este dataset).                              | Flotante (float64) |\n",
        "| `deathIncrease`                   | Incremento diario en el número de muertes.                                                           | Entero (int64)   |\n",
        "| `hospitalizedIncrease`            | Incremento diario en el número de hospitalizaciones.                                                 | Entero (int64)   |\n",
        "| `hash`                            | Identificador único para el registro.                                                                | Cadena de texto (object) |\n",
        "| `commercialScore`                 | Puntuación comercial de los datos (no detallada).                                                    | Entero (int64)   |\n",
        "| `negativeRegularScore`            | Puntuación negativa regular de los datos.                                                            | Entero (int64)   |\n",
        "| `negativeScore`                   | Puntuación negativa de los datos.                                                                    | Entero (int64)   |\n",
        "| `positiveScore`                   | Puntuación positiva de los datos.                                                                    | Entero (int64)   |\n",
        "| `score`                           | Puntuación total de los datos.                                                                       | Entero (int64)   |\n",
        "| `grade`                           | Calificación de la calidad de los datos (no utilizada en este dataset).                              | Flotante (float64) |\n"
      ],
      "metadata": {
        "id": "BaHW6CK1pkaC"
      }
    },
    {
      "cell_type": "markdown",
      "source": [
        "# ▶ **Paso 2: Extracción de los Datos**"
      ],
      "metadata": {
        "id": "FC55xNo8Gz-9"
      }
    },
    {
      "cell_type": "markdown",
      "source": [
        "## **1 - Instalación de Librerías**\n",
        "Primero, asegurémonos de que todas las librerías necesarias estén instaladas en el entorno de Google Colab."
      ],
      "metadata": {
        "id": "gJOPZHTLDrWA"
      }
    },
    {
      "cell_type": "code",
      "execution_count": 80,
      "metadata": {
        "colab": {
          "base_uri": "https://localhost:8080/"
        },
        "collapsed": true,
        "id": "cWdidivmCXvO",
        "outputId": "3a455051-7872-4de2-9202-72770245c63d"
      },
      "outputs": [
        {
          "output_type": "stream",
          "name": "stdout",
          "text": [
            "Requirement already satisfied: pandas in /usr/local/lib/python3.10/dist-packages (2.1.4)\n",
            "Requirement already satisfied: matplotlib in /usr/local/lib/python3.10/dist-packages (3.7.1)\n",
            "Requirement already satisfied: seaborn in /usr/local/lib/python3.10/dist-packages (0.13.1)\n",
            "Requirement already satisfied: bokeh in /usr/local/lib/python3.10/dist-packages (3.4.3)\n",
            "Requirement already satisfied: numpy<2,>=1.22.4 in /usr/local/lib/python3.10/dist-packages (from pandas) (1.26.4)\n",
            "Requirement already satisfied: python-dateutil>=2.8.2 in /usr/local/lib/python3.10/dist-packages (from pandas) (2.8.2)\n",
            "Requirement already satisfied: pytz>=2020.1 in /usr/local/lib/python3.10/dist-packages (from pandas) (2024.1)\n",
            "Requirement already satisfied: tzdata>=2022.1 in /usr/local/lib/python3.10/dist-packages (from pandas) (2024.1)\n",
            "Requirement already satisfied: contourpy>=1.0.1 in /usr/local/lib/python3.10/dist-packages (from matplotlib) (1.2.1)\n",
            "Requirement already satisfied: cycler>=0.10 in /usr/local/lib/python3.10/dist-packages (from matplotlib) (0.12.1)\n",
            "Requirement already satisfied: fonttools>=4.22.0 in /usr/local/lib/python3.10/dist-packages (from matplotlib) (4.53.1)\n",
            "Requirement already satisfied: kiwisolver>=1.0.1 in /usr/local/lib/python3.10/dist-packages (from matplotlib) (1.4.5)\n",
            "Requirement already satisfied: packaging>=20.0 in /usr/local/lib/python3.10/dist-packages (from matplotlib) (24.1)\n",
            "Requirement already satisfied: pillow>=6.2.0 in /usr/local/lib/python3.10/dist-packages (from matplotlib) (9.4.0)\n",
            "Requirement already satisfied: pyparsing>=2.3.1 in /usr/local/lib/python3.10/dist-packages (from matplotlib) (3.1.2)\n",
            "Requirement already satisfied: Jinja2>=2.9 in /usr/local/lib/python3.10/dist-packages (from bokeh) (3.1.4)\n",
            "Requirement already satisfied: PyYAML>=3.10 in /usr/local/lib/python3.10/dist-packages (from bokeh) (6.0.2)\n",
            "Requirement already satisfied: tornado>=6.2 in /usr/local/lib/python3.10/dist-packages (from bokeh) (6.3.3)\n",
            "Requirement already satisfied: xyzservices>=2021.09.1 in /usr/local/lib/python3.10/dist-packages (from bokeh) (2024.6.0)\n",
            "Requirement already satisfied: MarkupSafe>=2.0 in /usr/local/lib/python3.10/dist-packages (from Jinja2>=2.9->bokeh) (2.1.5)\n",
            "Requirement already satisfied: six>=1.5 in /usr/local/lib/python3.10/dist-packages (from python-dateutil>=2.8.2->pandas) (1.16.0)\n",
            "Requirement already satisfied: plotly in /usr/local/lib/python3.10/dist-packages (5.15.0)\n",
            "Requirement already satisfied: tenacity>=6.2.0 in /usr/local/lib/python3.10/dist-packages (from plotly) (9.0.0)\n",
            "Requirement already satisfied: packaging in /usr/local/lib/python3.10/dist-packages (from plotly) (24.1)\n"
          ]
        }
      ],
      "source": [
        "# Instalación de librerías necesarias\n",
        "!pip install pandas matplotlib seaborn bokeh\n",
        "\n",
        "# permite crear gráficos más dinámicos y personalizables\n",
        "!pip install plotly\n",
        "\n"
      ]
    },
    {
      "cell_type": "markdown",
      "source": [
        "## **2 -  Carga y Verificación Inicial de los Datos**"
      ],
      "metadata": {
        "id": "iUgfN0MJUx3D"
      }
    },
    {
      "cell_type": "markdown",
      "source": [
        "### **Carga de los Datos desde la API**\n",
        "\n",
        "Ahora, cargaremos los datos desde la API pública:"
      ],
      "metadata": {
        "id": "jUz54QcqECs9"
      }
    },
    {
      "source": [
        "import requests\n",
        "import pandas as pd\n",
        "from io import StringIO  # Import StringIO directly from io\n",
        "\n",
        "# Establecer un número máximo de columnas a mostrar\n",
        "pd.set_option('display.max_columns', None)\n",
        "\n",
        "# También puedes establecer el número máximo de filas si es necesario\n",
        "pd.set_option('display.max_rows', None)\n",
        "\n",
        "# URL de la API\n",
        "url = \"https://api.covidtracking.com/v1/states/daily.csv\"\n",
        "\n",
        "# Solicitud GET para obtener los datos\n",
        "response = requests.get(url)\n",
        "\n",
        "# Verificar si la solicitud fue exitosa y cargar los datos en un DataFrame\n",
        "if response.status_code == 200:\n",
        "    data = pd.read_csv(StringIO(response.text))  # Use StringIO directly\n",
        "    print(\"Datos cargados exitosamente.\")\n",
        "else:\n",
        "    print(\"Error al cargar los datos.\")"
      ],
      "cell_type": "code",
      "metadata": {
        "colab": {
          "base_uri": "https://localhost:8080/"
        },
        "collapsed": true,
        "id": "GkGCQi_pGawd",
        "outputId": "ebdfee08-d7cc-4c05-dd97-0d3f955b56f6"
      },
      "execution_count": 42,
      "outputs": [
        {
          "output_type": "stream",
          "name": "stdout",
          "text": [
            "Datos cargados exitosamente.\n"
          ]
        }
      ]
    },
    {
      "cell_type": "code",
      "source": [
        "# Seleccionamos solo las columnas de interés\n",
        "columns_of_interest = ['date', 'state', 'positive', 'death', 'hospitalizedCurrently']\n",
        "\n",
        "# Crear un DataFrame separado con solo las columnas de interés\n",
        "data_interes = data[columns_of_interest].copy()\n"
      ],
      "metadata": {
        "id": "SLr4WEiJ1UWo"
      },
      "execution_count": 71,
      "outputs": []
    },
    {
      "cell_type": "markdown",
      "source": [
        "### **Verificación Inicial de los Datos**\n",
        "\n",
        "Vamos a realizar una exploración inicial para entender la estructura de los datos:"
      ],
      "metadata": {
        "id": "VzymhkSGGmA6"
      }
    },
    {
      "cell_type": "code",
      "source": [
        "# Verificar las dimensiones del conjunto de datos\n",
        "data.shape"
      ],
      "metadata": {
        "colab": {
          "base_uri": "https://localhost:8080/"
        },
        "id": "_IbRoGqpMr4q",
        "outputId": "2ab08124-a538-4c34-b999-8f551737cb64"
      },
      "execution_count": 44,
      "outputs": [
        {
          "output_type": "execute_result",
          "data": {
            "text/plain": [
              "(20780, 56)"
            ]
          },
          "metadata": {},
          "execution_count": 44
        }
      ]
    },
    {
      "cell_type": "code",
      "source": [
        "# Mostrar las primeras filas del DataFrame\n",
        "data.head()\n"
      ],
      "metadata": {
        "colab": {
          "base_uri": "https://localhost:8080/",
          "height": 313
        },
        "collapsed": true,
        "id": "Goe7GNNqGxOf",
        "outputId": "46a6d417-ba33-41c8-f11d-baa26cce1e09"
      },
      "execution_count": 45,
      "outputs": [
        {
          "output_type": "execute_result",
          "data": {
            "text/plain": [
              "       date state  positive  probableCases   negative  pending  \\\n",
              "0  20210307    AK   56886.0            NaN        NaN      NaN   \n",
              "1  20210307    AL  499819.0       107742.0  1931711.0      NaN   \n",
              "2  20210307    AR  324818.0        69092.0  2480716.0      NaN   \n",
              "3  20210307    AS       0.0            NaN     2140.0      NaN   \n",
              "4  20210307    AZ  826454.0        56519.0  3073010.0      NaN   \n",
              "\n",
              "  totalTestResultsSource  totalTestResults  hospitalizedCurrently  \\\n",
              "0        totalTestsViral         1731628.0                   33.0   \n",
              "1  totalTestsPeopleViral         2323788.0                  494.0   \n",
              "2        totalTestsViral         2736442.0                  335.0   \n",
              "3        totalTestsViral            2140.0                    NaN   \n",
              "4        totalTestsViral         7908105.0                  963.0   \n",
              "\n",
              "   hospitalizedCumulative  inIcuCurrently  inIcuCumulative  \\\n",
              "0                  1293.0             NaN              NaN   \n",
              "1                 45976.0             NaN           2676.0   \n",
              "2                 14926.0           141.0              NaN   \n",
              "3                     NaN             NaN              NaN   \n",
              "4                 57907.0           273.0              NaN   \n",
              "\n",
              "   onVentilatorCurrently  onVentilatorCumulative  recovered     lastUpdateEt  \\\n",
              "0                    2.0                     NaN        NaN   3/5/2021 03:59   \n",
              "1                    NaN                  1515.0   295690.0   3/7/2021 11:00   \n",
              "2                   65.0                  1533.0   315517.0   3/7/2021 00:00   \n",
              "3                    NaN                     NaN        NaN  12/1/2020 00:00   \n",
              "4                  143.0                     NaN        NaN   3/7/2021 00:00   \n",
              "\n",
              "           dateModified  checkTimeEt    death  hospitalized  \\\n",
              "0  2021-03-05T03:59:00Z  03/04 22:59    305.0        1293.0   \n",
              "1  2021-03-07T11:00:00Z  03/07 06:00  10148.0       45976.0   \n",
              "2  2021-03-07T00:00:00Z  03/06 19:00   5319.0       14926.0   \n",
              "3  2020-12-01T00:00:00Z  11/30 19:00      0.0           NaN   \n",
              "4  2021-03-07T00:00:00Z  03/06 19:00  16328.0       57907.0   \n",
              "\n",
              "   hospitalizedDischarged           dateChecked  totalTestsViral  \\\n",
              "0                     NaN  2021-03-05T03:59:00Z        1731628.0   \n",
              "1                     NaN  2021-03-07T11:00:00Z              NaN   \n",
              "2                     NaN  2021-03-07T00:00:00Z        2736442.0   \n",
              "3                     NaN  2020-12-01T00:00:00Z           2140.0   \n",
              "4                118932.0  2021-03-07T00:00:00Z        7908105.0   \n",
              "\n",
              "   positiveTestsViral  negativeTestsViral  positiveCasesViral  deathConfirmed  \\\n",
              "0             68693.0           1660758.0                 NaN             NaN   \n",
              "1                 NaN                 NaN            392077.0          7963.0   \n",
              "2                 NaN           2480716.0            255726.0          4308.0   \n",
              "3                 NaN                 NaN                 0.0             NaN   \n",
              "4                 NaN                 NaN            769935.0         14403.0   \n",
              "\n",
              "   deathProbable  totalTestEncountersViral  totalTestsPeopleViral  \\\n",
              "0            NaN                       NaN                    NaN   \n",
              "1         2185.0                       NaN              2323788.0   \n",
              "2         1011.0                       NaN                    NaN   \n",
              "3            NaN                       NaN                    NaN   \n",
              "4         1925.0                       NaN              3842945.0   \n",
              "\n",
              "   totalTestsAntibody  positiveTestsAntibody  negativeTestsAntibody  \\\n",
              "0                 NaN                    NaN                    NaN   \n",
              "1                 NaN                    NaN                    NaN   \n",
              "2                 NaN                    NaN                    NaN   \n",
              "3                 NaN                    NaN                    NaN   \n",
              "4            580569.0                    NaN                    NaN   \n",
              "\n",
              "   totalTestsPeopleAntibody  positiveTestsPeopleAntibody  \\\n",
              "0                       NaN                          NaN   \n",
              "1                  119757.0                          NaN   \n",
              "2                       NaN                          NaN   \n",
              "3                       NaN                          NaN   \n",
              "4                  444089.0                          NaN   \n",
              "\n",
              "   negativeTestsPeopleAntibody  totalTestsPeopleAntigen  \\\n",
              "0                          NaN                      NaN   \n",
              "1                          NaN                      NaN   \n",
              "2                          NaN                 481311.0   \n",
              "3                          NaN                      NaN   \n",
              "4                          NaN                      NaN   \n",
              "\n",
              "   positiveTestsPeopleAntigen  totalTestsAntigen  positiveTestsAntigen  fips  \\\n",
              "0                         NaN                NaN                   NaN     2   \n",
              "1                         NaN                NaN                   NaN     1   \n",
              "2                     81803.0                NaN                   NaN     5   \n",
              "3                         NaN                NaN                   NaN    60   \n",
              "4                         NaN                NaN                   NaN     4   \n",
              "\n",
              "   positiveIncrease  negativeIncrease    total  totalTestResultsIncrease  \\\n",
              "0                 0                 0    56886                         0   \n",
              "1               408              2087  2431530                      2347   \n",
              "2               165              3267  2805534                      3380   \n",
              "3                 0                 0     2140                         0   \n",
              "4              1335             13678  3899464                     45110   \n",
              "\n",
              "    posNeg  dataQualityGrade  deathIncrease  hospitalizedIncrease  \\\n",
              "0    56886               NaN              0                     0   \n",
              "1  2431530               NaN             -1                     0   \n",
              "2  2805534               NaN             22                    11   \n",
              "3     2140               NaN              0                     0   \n",
              "4  3899464               NaN              5                    44   \n",
              "\n",
              "                                       hash  commercialScore  \\\n",
              "0  dc4bccd4bb885349d7e94d6fed058e285d4be164                0   \n",
              "1  997207b430824ea40b8eb8506c19a93e07bc972e                0   \n",
              "2  50921aeefba3e30d31623aa495b47fb2ecc72fae                0   \n",
              "3  f77912d0b80d579fbb6202fa1a90554fc4dc1443                0   \n",
              "4  0437a7a96f4471666f775e63e86923eb5cbd8cdf                0   \n",
              "\n",
              "   negativeRegularScore  negativeScore  positiveScore  score  grade  \n",
              "0                     0              0              0      0    NaN  \n",
              "1                     0              0              0      0    NaN  \n",
              "2                     0              0              0      0    NaN  \n",
              "3                     0              0              0      0    NaN  \n",
              "4                     0              0              0      0    NaN  "
            ],
            "text/html": [
              "\n",
              "  <div id=\"df-96c8cce6-a918-4625-8ed9-df55943d8f5a\" class=\"colab-df-container\">\n",
              "    <div>\n",
              "<style scoped>\n",
              "    .dataframe tbody tr th:only-of-type {\n",
              "        vertical-align: middle;\n",
              "    }\n",
              "\n",
              "    .dataframe tbody tr th {\n",
              "        vertical-align: top;\n",
              "    }\n",
              "\n",
              "    .dataframe thead th {\n",
              "        text-align: right;\n",
              "    }\n",
              "</style>\n",
              "<table border=\"1\" class=\"dataframe\">\n",
              "  <thead>\n",
              "    <tr style=\"text-align: right;\">\n",
              "      <th></th>\n",
              "      <th>date</th>\n",
              "      <th>state</th>\n",
              "      <th>positive</th>\n",
              "      <th>probableCases</th>\n",
              "      <th>negative</th>\n",
              "      <th>pending</th>\n",
              "      <th>totalTestResultsSource</th>\n",
              "      <th>totalTestResults</th>\n",
              "      <th>hospitalizedCurrently</th>\n",
              "      <th>hospitalizedCumulative</th>\n",
              "      <th>inIcuCurrently</th>\n",
              "      <th>inIcuCumulative</th>\n",
              "      <th>onVentilatorCurrently</th>\n",
              "      <th>onVentilatorCumulative</th>\n",
              "      <th>recovered</th>\n",
              "      <th>lastUpdateEt</th>\n",
              "      <th>dateModified</th>\n",
              "      <th>checkTimeEt</th>\n",
              "      <th>death</th>\n",
              "      <th>hospitalized</th>\n",
              "      <th>hospitalizedDischarged</th>\n",
              "      <th>dateChecked</th>\n",
              "      <th>totalTestsViral</th>\n",
              "      <th>positiveTestsViral</th>\n",
              "      <th>negativeTestsViral</th>\n",
              "      <th>positiveCasesViral</th>\n",
              "      <th>deathConfirmed</th>\n",
              "      <th>deathProbable</th>\n",
              "      <th>totalTestEncountersViral</th>\n",
              "      <th>totalTestsPeopleViral</th>\n",
              "      <th>totalTestsAntibody</th>\n",
              "      <th>positiveTestsAntibody</th>\n",
              "      <th>negativeTestsAntibody</th>\n",
              "      <th>totalTestsPeopleAntibody</th>\n",
              "      <th>positiveTestsPeopleAntibody</th>\n",
              "      <th>negativeTestsPeopleAntibody</th>\n",
              "      <th>totalTestsPeopleAntigen</th>\n",
              "      <th>positiveTestsPeopleAntigen</th>\n",
              "      <th>totalTestsAntigen</th>\n",
              "      <th>positiveTestsAntigen</th>\n",
              "      <th>fips</th>\n",
              "      <th>positiveIncrease</th>\n",
              "      <th>negativeIncrease</th>\n",
              "      <th>total</th>\n",
              "      <th>totalTestResultsIncrease</th>\n",
              "      <th>posNeg</th>\n",
              "      <th>dataQualityGrade</th>\n",
              "      <th>deathIncrease</th>\n",
              "      <th>hospitalizedIncrease</th>\n",
              "      <th>hash</th>\n",
              "      <th>commercialScore</th>\n",
              "      <th>negativeRegularScore</th>\n",
              "      <th>negativeScore</th>\n",
              "      <th>positiveScore</th>\n",
              "      <th>score</th>\n",
              "      <th>grade</th>\n",
              "    </tr>\n",
              "  </thead>\n",
              "  <tbody>\n",
              "    <tr>\n",
              "      <th>0</th>\n",
              "      <td>20210307</td>\n",
              "      <td>AK</td>\n",
              "      <td>56886.0</td>\n",
              "      <td>NaN</td>\n",
              "      <td>NaN</td>\n",
              "      <td>NaN</td>\n",
              "      <td>totalTestsViral</td>\n",
              "      <td>1731628.0</td>\n",
              "      <td>33.0</td>\n",
              "      <td>1293.0</td>\n",
              "      <td>NaN</td>\n",
              "      <td>NaN</td>\n",
              "      <td>2.0</td>\n",
              "      <td>NaN</td>\n",
              "      <td>NaN</td>\n",
              "      <td>3/5/2021 03:59</td>\n",
              "      <td>2021-03-05T03:59:00Z</td>\n",
              "      <td>03/04 22:59</td>\n",
              "      <td>305.0</td>\n",
              "      <td>1293.0</td>\n",
              "      <td>NaN</td>\n",
              "      <td>2021-03-05T03:59:00Z</td>\n",
              "      <td>1731628.0</td>\n",
              "      <td>68693.0</td>\n",
              "      <td>1660758.0</td>\n",
              "      <td>NaN</td>\n",
              "      <td>NaN</td>\n",
              "      <td>NaN</td>\n",
              "      <td>NaN</td>\n",
              "      <td>NaN</td>\n",
              "      <td>NaN</td>\n",
              "      <td>NaN</td>\n",
              "      <td>NaN</td>\n",
              "      <td>NaN</td>\n",
              "      <td>NaN</td>\n",
              "      <td>NaN</td>\n",
              "      <td>NaN</td>\n",
              "      <td>NaN</td>\n",
              "      <td>NaN</td>\n",
              "      <td>NaN</td>\n",
              "      <td>2</td>\n",
              "      <td>0</td>\n",
              "      <td>0</td>\n",
              "      <td>56886</td>\n",
              "      <td>0</td>\n",
              "      <td>56886</td>\n",
              "      <td>NaN</td>\n",
              "      <td>0</td>\n",
              "      <td>0</td>\n",
              "      <td>dc4bccd4bb885349d7e94d6fed058e285d4be164</td>\n",
              "      <td>0</td>\n",
              "      <td>0</td>\n",
              "      <td>0</td>\n",
              "      <td>0</td>\n",
              "      <td>0</td>\n",
              "      <td>NaN</td>\n",
              "    </tr>\n",
              "    <tr>\n",
              "      <th>1</th>\n",
              "      <td>20210307</td>\n",
              "      <td>AL</td>\n",
              "      <td>499819.0</td>\n",
              "      <td>107742.0</td>\n",
              "      <td>1931711.0</td>\n",
              "      <td>NaN</td>\n",
              "      <td>totalTestsPeopleViral</td>\n",
              "      <td>2323788.0</td>\n",
              "      <td>494.0</td>\n",
              "      <td>45976.0</td>\n",
              "      <td>NaN</td>\n",
              "      <td>2676.0</td>\n",
              "      <td>NaN</td>\n",
              "      <td>1515.0</td>\n",
              "      <td>295690.0</td>\n",
              "      <td>3/7/2021 11:00</td>\n",
              "      <td>2021-03-07T11:00:00Z</td>\n",
              "      <td>03/07 06:00</td>\n",
              "      <td>10148.0</td>\n",
              "      <td>45976.0</td>\n",
              "      <td>NaN</td>\n",
              "      <td>2021-03-07T11:00:00Z</td>\n",
              "      <td>NaN</td>\n",
              "      <td>NaN</td>\n",
              "      <td>NaN</td>\n",
              "      <td>392077.0</td>\n",
              "      <td>7963.0</td>\n",
              "      <td>2185.0</td>\n",
              "      <td>NaN</td>\n",
              "      <td>2323788.0</td>\n",
              "      <td>NaN</td>\n",
              "      <td>NaN</td>\n",
              "      <td>NaN</td>\n",
              "      <td>119757.0</td>\n",
              "      <td>NaN</td>\n",
              "      <td>NaN</td>\n",
              "      <td>NaN</td>\n",
              "      <td>NaN</td>\n",
              "      <td>NaN</td>\n",
              "      <td>NaN</td>\n",
              "      <td>1</td>\n",
              "      <td>408</td>\n",
              "      <td>2087</td>\n",
              "      <td>2431530</td>\n",
              "      <td>2347</td>\n",
              "      <td>2431530</td>\n",
              "      <td>NaN</td>\n",
              "      <td>-1</td>\n",
              "      <td>0</td>\n",
              "      <td>997207b430824ea40b8eb8506c19a93e07bc972e</td>\n",
              "      <td>0</td>\n",
              "      <td>0</td>\n",
              "      <td>0</td>\n",
              "      <td>0</td>\n",
              "      <td>0</td>\n",
              "      <td>NaN</td>\n",
              "    </tr>\n",
              "    <tr>\n",
              "      <th>2</th>\n",
              "      <td>20210307</td>\n",
              "      <td>AR</td>\n",
              "      <td>324818.0</td>\n",
              "      <td>69092.0</td>\n",
              "      <td>2480716.0</td>\n",
              "      <td>NaN</td>\n",
              "      <td>totalTestsViral</td>\n",
              "      <td>2736442.0</td>\n",
              "      <td>335.0</td>\n",
              "      <td>14926.0</td>\n",
              "      <td>141.0</td>\n",
              "      <td>NaN</td>\n",
              "      <td>65.0</td>\n",
              "      <td>1533.0</td>\n",
              "      <td>315517.0</td>\n",
              "      <td>3/7/2021 00:00</td>\n",
              "      <td>2021-03-07T00:00:00Z</td>\n",
              "      <td>03/06 19:00</td>\n",
              "      <td>5319.0</td>\n",
              "      <td>14926.0</td>\n",
              "      <td>NaN</td>\n",
              "      <td>2021-03-07T00:00:00Z</td>\n",
              "      <td>2736442.0</td>\n",
              "      <td>NaN</td>\n",
              "      <td>2480716.0</td>\n",
              "      <td>255726.0</td>\n",
              "      <td>4308.0</td>\n",
              "      <td>1011.0</td>\n",
              "      <td>NaN</td>\n",
              "      <td>NaN</td>\n",
              "      <td>NaN</td>\n",
              "      <td>NaN</td>\n",
              "      <td>NaN</td>\n",
              "      <td>NaN</td>\n",
              "      <td>NaN</td>\n",
              "      <td>NaN</td>\n",
              "      <td>481311.0</td>\n",
              "      <td>81803.0</td>\n",
              "      <td>NaN</td>\n",
              "      <td>NaN</td>\n",
              "      <td>5</td>\n",
              "      <td>165</td>\n",
              "      <td>3267</td>\n",
              "      <td>2805534</td>\n",
              "      <td>3380</td>\n",
              "      <td>2805534</td>\n",
              "      <td>NaN</td>\n",
              "      <td>22</td>\n",
              "      <td>11</td>\n",
              "      <td>50921aeefba3e30d31623aa495b47fb2ecc72fae</td>\n",
              "      <td>0</td>\n",
              "      <td>0</td>\n",
              "      <td>0</td>\n",
              "      <td>0</td>\n",
              "      <td>0</td>\n",
              "      <td>NaN</td>\n",
              "    </tr>\n",
              "    <tr>\n",
              "      <th>3</th>\n",
              "      <td>20210307</td>\n",
              "      <td>AS</td>\n",
              "      <td>0.0</td>\n",
              "      <td>NaN</td>\n",
              "      <td>2140.0</td>\n",
              "      <td>NaN</td>\n",
              "      <td>totalTestsViral</td>\n",
              "      <td>2140.0</td>\n",
              "      <td>NaN</td>\n",
              "      <td>NaN</td>\n",
              "      <td>NaN</td>\n",
              "      <td>NaN</td>\n",
              "      <td>NaN</td>\n",
              "      <td>NaN</td>\n",
              "      <td>NaN</td>\n",
              "      <td>12/1/2020 00:00</td>\n",
              "      <td>2020-12-01T00:00:00Z</td>\n",
              "      <td>11/30 19:00</td>\n",
              "      <td>0.0</td>\n",
              "      <td>NaN</td>\n",
              "      <td>NaN</td>\n",
              "      <td>2020-12-01T00:00:00Z</td>\n",
              "      <td>2140.0</td>\n",
              "      <td>NaN</td>\n",
              "      <td>NaN</td>\n",
              "      <td>0.0</td>\n",
              "      <td>NaN</td>\n",
              "      <td>NaN</td>\n",
              "      <td>NaN</td>\n",
              "      <td>NaN</td>\n",
              "      <td>NaN</td>\n",
              "      <td>NaN</td>\n",
              "      <td>NaN</td>\n",
              "      <td>NaN</td>\n",
              "      <td>NaN</td>\n",
              "      <td>NaN</td>\n",
              "      <td>NaN</td>\n",
              "      <td>NaN</td>\n",
              "      <td>NaN</td>\n",
              "      <td>NaN</td>\n",
              "      <td>60</td>\n",
              "      <td>0</td>\n",
              "      <td>0</td>\n",
              "      <td>2140</td>\n",
              "      <td>0</td>\n",
              "      <td>2140</td>\n",
              "      <td>NaN</td>\n",
              "      <td>0</td>\n",
              "      <td>0</td>\n",
              "      <td>f77912d0b80d579fbb6202fa1a90554fc4dc1443</td>\n",
              "      <td>0</td>\n",
              "      <td>0</td>\n",
              "      <td>0</td>\n",
              "      <td>0</td>\n",
              "      <td>0</td>\n",
              "      <td>NaN</td>\n",
              "    </tr>\n",
              "    <tr>\n",
              "      <th>4</th>\n",
              "      <td>20210307</td>\n",
              "      <td>AZ</td>\n",
              "      <td>826454.0</td>\n",
              "      <td>56519.0</td>\n",
              "      <td>3073010.0</td>\n",
              "      <td>NaN</td>\n",
              "      <td>totalTestsViral</td>\n",
              "      <td>7908105.0</td>\n",
              "      <td>963.0</td>\n",
              "      <td>57907.0</td>\n",
              "      <td>273.0</td>\n",
              "      <td>NaN</td>\n",
              "      <td>143.0</td>\n",
              "      <td>NaN</td>\n",
              "      <td>NaN</td>\n",
              "      <td>3/7/2021 00:00</td>\n",
              "      <td>2021-03-07T00:00:00Z</td>\n",
              "      <td>03/06 19:00</td>\n",
              "      <td>16328.0</td>\n",
              "      <td>57907.0</td>\n",
              "      <td>118932.0</td>\n",
              "      <td>2021-03-07T00:00:00Z</td>\n",
              "      <td>7908105.0</td>\n",
              "      <td>NaN</td>\n",
              "      <td>NaN</td>\n",
              "      <td>769935.0</td>\n",
              "      <td>14403.0</td>\n",
              "      <td>1925.0</td>\n",
              "      <td>NaN</td>\n",
              "      <td>3842945.0</td>\n",
              "      <td>580569.0</td>\n",
              "      <td>NaN</td>\n",
              "      <td>NaN</td>\n",
              "      <td>444089.0</td>\n",
              "      <td>NaN</td>\n",
              "      <td>NaN</td>\n",
              "      <td>NaN</td>\n",
              "      <td>NaN</td>\n",
              "      <td>NaN</td>\n",
              "      <td>NaN</td>\n",
              "      <td>4</td>\n",
              "      <td>1335</td>\n",
              "      <td>13678</td>\n",
              "      <td>3899464</td>\n",
              "      <td>45110</td>\n",
              "      <td>3899464</td>\n",
              "      <td>NaN</td>\n",
              "      <td>5</td>\n",
              "      <td>44</td>\n",
              "      <td>0437a7a96f4471666f775e63e86923eb5cbd8cdf</td>\n",
              "      <td>0</td>\n",
              "      <td>0</td>\n",
              "      <td>0</td>\n",
              "      <td>0</td>\n",
              "      <td>0</td>\n",
              "      <td>NaN</td>\n",
              "    </tr>\n",
              "  </tbody>\n",
              "</table>\n",
              "</div>\n",
              "    <div class=\"colab-df-buttons\">\n",
              "\n",
              "  <div class=\"colab-df-container\">\n",
              "    <button class=\"colab-df-convert\" onclick=\"convertToInteractive('df-96c8cce6-a918-4625-8ed9-df55943d8f5a')\"\n",
              "            title=\"Convert this dataframe to an interactive table.\"\n",
              "            style=\"display:none;\">\n",
              "\n",
              "  <svg xmlns=\"http://www.w3.org/2000/svg\" height=\"24px\" viewBox=\"0 -960 960 960\">\n",
              "    <path d=\"M120-120v-720h720v720H120Zm60-500h600v-160H180v160Zm220 220h160v-160H400v160Zm0 220h160v-160H400v160ZM180-400h160v-160H180v160Zm440 0h160v-160H620v160ZM180-180h160v-160H180v160Zm440 0h160v-160H620v160Z\"/>\n",
              "  </svg>\n",
              "    </button>\n",
              "\n",
              "  <style>\n",
              "    .colab-df-container {\n",
              "      display:flex;\n",
              "      gap: 12px;\n",
              "    }\n",
              "\n",
              "    .colab-df-convert {\n",
              "      background-color: #E8F0FE;\n",
              "      border: none;\n",
              "      border-radius: 50%;\n",
              "      cursor: pointer;\n",
              "      display: none;\n",
              "      fill: #1967D2;\n",
              "      height: 32px;\n",
              "      padding: 0 0 0 0;\n",
              "      width: 32px;\n",
              "    }\n",
              "\n",
              "    .colab-df-convert:hover {\n",
              "      background-color: #E2EBFA;\n",
              "      box-shadow: 0px 1px 2px rgba(60, 64, 67, 0.3), 0px 1px 3px 1px rgba(60, 64, 67, 0.15);\n",
              "      fill: #174EA6;\n",
              "    }\n",
              "\n",
              "    .colab-df-buttons div {\n",
              "      margin-bottom: 4px;\n",
              "    }\n",
              "\n",
              "    [theme=dark] .colab-df-convert {\n",
              "      background-color: #3B4455;\n",
              "      fill: #D2E3FC;\n",
              "    }\n",
              "\n",
              "    [theme=dark] .colab-df-convert:hover {\n",
              "      background-color: #434B5C;\n",
              "      box-shadow: 0px 1px 3px 1px rgba(0, 0, 0, 0.15);\n",
              "      filter: drop-shadow(0px 1px 2px rgba(0, 0, 0, 0.3));\n",
              "      fill: #FFFFFF;\n",
              "    }\n",
              "  </style>\n",
              "\n",
              "    <script>\n",
              "      const buttonEl =\n",
              "        document.querySelector('#df-96c8cce6-a918-4625-8ed9-df55943d8f5a button.colab-df-convert');\n",
              "      buttonEl.style.display =\n",
              "        google.colab.kernel.accessAllowed ? 'block' : 'none';\n",
              "\n",
              "      async function convertToInteractive(key) {\n",
              "        const element = document.querySelector('#df-96c8cce6-a918-4625-8ed9-df55943d8f5a');\n",
              "        const dataTable =\n",
              "          await google.colab.kernel.invokeFunction('convertToInteractive',\n",
              "                                                    [key], {});\n",
              "        if (!dataTable) return;\n",
              "\n",
              "        const docLinkHtml = 'Like what you see? Visit the ' +\n",
              "          '<a target=\"_blank\" href=https://colab.research.google.com/notebooks/data_table.ipynb>data table notebook</a>'\n",
              "          + ' to learn more about interactive tables.';\n",
              "        element.innerHTML = '';\n",
              "        dataTable['output_type'] = 'display_data';\n",
              "        await google.colab.output.renderOutput(dataTable, element);\n",
              "        const docLink = document.createElement('div');\n",
              "        docLink.innerHTML = docLinkHtml;\n",
              "        element.appendChild(docLink);\n",
              "      }\n",
              "    </script>\n",
              "  </div>\n",
              "\n",
              "\n",
              "<div id=\"df-d1904380-91b9-4a9a-8dbd-eb339e8065bd\">\n",
              "  <button class=\"colab-df-quickchart\" onclick=\"quickchart('df-d1904380-91b9-4a9a-8dbd-eb339e8065bd')\"\n",
              "            title=\"Suggest charts\"\n",
              "            style=\"display:none;\">\n",
              "\n",
              "<svg xmlns=\"http://www.w3.org/2000/svg\" height=\"24px\"viewBox=\"0 0 24 24\"\n",
              "     width=\"24px\">\n",
              "    <g>\n",
              "        <path d=\"M19 3H5c-1.1 0-2 .9-2 2v14c0 1.1.9 2 2 2h14c1.1 0 2-.9 2-2V5c0-1.1-.9-2-2-2zM9 17H7v-7h2v7zm4 0h-2V7h2v10zm4 0h-2v-4h2v4z\"/>\n",
              "    </g>\n",
              "</svg>\n",
              "  </button>\n",
              "\n",
              "<style>\n",
              "  .colab-df-quickchart {\n",
              "      --bg-color: #E8F0FE;\n",
              "      --fill-color: #1967D2;\n",
              "      --hover-bg-color: #E2EBFA;\n",
              "      --hover-fill-color: #174EA6;\n",
              "      --disabled-fill-color: #AAA;\n",
              "      --disabled-bg-color: #DDD;\n",
              "  }\n",
              "\n",
              "  [theme=dark] .colab-df-quickchart {\n",
              "      --bg-color: #3B4455;\n",
              "      --fill-color: #D2E3FC;\n",
              "      --hover-bg-color: #434B5C;\n",
              "      --hover-fill-color: #FFFFFF;\n",
              "      --disabled-bg-color: #3B4455;\n",
              "      --disabled-fill-color: #666;\n",
              "  }\n",
              "\n",
              "  .colab-df-quickchart {\n",
              "    background-color: var(--bg-color);\n",
              "    border: none;\n",
              "    border-radius: 50%;\n",
              "    cursor: pointer;\n",
              "    display: none;\n",
              "    fill: var(--fill-color);\n",
              "    height: 32px;\n",
              "    padding: 0;\n",
              "    width: 32px;\n",
              "  }\n",
              "\n",
              "  .colab-df-quickchart:hover {\n",
              "    background-color: var(--hover-bg-color);\n",
              "    box-shadow: 0 1px 2px rgba(60, 64, 67, 0.3), 0 1px 3px 1px rgba(60, 64, 67, 0.15);\n",
              "    fill: var(--button-hover-fill-color);\n",
              "  }\n",
              "\n",
              "  .colab-df-quickchart-complete:disabled,\n",
              "  .colab-df-quickchart-complete:disabled:hover {\n",
              "    background-color: var(--disabled-bg-color);\n",
              "    fill: var(--disabled-fill-color);\n",
              "    box-shadow: none;\n",
              "  }\n",
              "\n",
              "  .colab-df-spinner {\n",
              "    border: 2px solid var(--fill-color);\n",
              "    border-color: transparent;\n",
              "    border-bottom-color: var(--fill-color);\n",
              "    animation:\n",
              "      spin 1s steps(1) infinite;\n",
              "  }\n",
              "\n",
              "  @keyframes spin {\n",
              "    0% {\n",
              "      border-color: transparent;\n",
              "      border-bottom-color: var(--fill-color);\n",
              "      border-left-color: var(--fill-color);\n",
              "    }\n",
              "    20% {\n",
              "      border-color: transparent;\n",
              "      border-left-color: var(--fill-color);\n",
              "      border-top-color: var(--fill-color);\n",
              "    }\n",
              "    30% {\n",
              "      border-color: transparent;\n",
              "      border-left-color: var(--fill-color);\n",
              "      border-top-color: var(--fill-color);\n",
              "      border-right-color: var(--fill-color);\n",
              "    }\n",
              "    40% {\n",
              "      border-color: transparent;\n",
              "      border-right-color: var(--fill-color);\n",
              "      border-top-color: var(--fill-color);\n",
              "    }\n",
              "    60% {\n",
              "      border-color: transparent;\n",
              "      border-right-color: var(--fill-color);\n",
              "    }\n",
              "    80% {\n",
              "      border-color: transparent;\n",
              "      border-right-color: var(--fill-color);\n",
              "      border-bottom-color: var(--fill-color);\n",
              "    }\n",
              "    90% {\n",
              "      border-color: transparent;\n",
              "      border-bottom-color: var(--fill-color);\n",
              "    }\n",
              "  }\n",
              "</style>\n",
              "\n",
              "  <script>\n",
              "    async function quickchart(key) {\n",
              "      const quickchartButtonEl =\n",
              "        document.querySelector('#' + key + ' button');\n",
              "      quickchartButtonEl.disabled = true;  // To prevent multiple clicks.\n",
              "      quickchartButtonEl.classList.add('colab-df-spinner');\n",
              "      try {\n",
              "        const charts = await google.colab.kernel.invokeFunction(\n",
              "            'suggestCharts', [key], {});\n",
              "      } catch (error) {\n",
              "        console.error('Error during call to suggestCharts:', error);\n",
              "      }\n",
              "      quickchartButtonEl.classList.remove('colab-df-spinner');\n",
              "      quickchartButtonEl.classList.add('colab-df-quickchart-complete');\n",
              "    }\n",
              "    (() => {\n",
              "      let quickchartButtonEl =\n",
              "        document.querySelector('#df-d1904380-91b9-4a9a-8dbd-eb339e8065bd button');\n",
              "      quickchartButtonEl.style.display =\n",
              "        google.colab.kernel.accessAllowed ? 'block' : 'none';\n",
              "    })();\n",
              "  </script>\n",
              "</div>\n",
              "\n",
              "    </div>\n",
              "  </div>\n"
            ],
            "application/vnd.google.colaboratory.intrinsic+json": {
              "type": "dataframe",
              "variable_name": "data"
            }
          },
          "metadata": {},
          "execution_count": 45
        }
      ]
    },
    {
      "cell_type": "code",
      "source": [
        "# Mostrar las ultimas filas del DataFrame\n",
        "data.tail()\n"
      ],
      "metadata": {
        "colab": {
          "base_uri": "https://localhost:8080/",
          "height": 226
        },
        "outputId": "a47c5e5f-b14f-43ba-c08b-9f18b4fb0b7d",
        "id": "PNryssV9IcFa",
        "collapsed": true
      },
      "execution_count": 46,
      "outputs": [
        {
          "output_type": "execute_result",
          "data": {
            "text/plain": [
              "           date state  positive  probableCases  negative  pending  \\\n",
              "20775  20200117    WA       0.0            NaN       NaN      NaN   \n",
              "20776  20200116    WA       0.0            NaN       NaN      NaN   \n",
              "20777  20200115    WA       0.0            NaN       NaN      NaN   \n",
              "20778  20200114    WA       0.0            NaN       NaN      NaN   \n",
              "20779  20200113    WA       NaN            NaN       NaN      NaN   \n",
              "\n",
              "         totalTestResultsSource  totalTestResults  hospitalizedCurrently  \\\n",
              "20775  totalTestEncountersViral               NaN                    NaN   \n",
              "20776  totalTestEncountersViral               NaN                    NaN   \n",
              "20777  totalTestEncountersViral               NaN                    NaN   \n",
              "20778  totalTestEncountersViral               NaN                    NaN   \n",
              "20779  totalTestEncountersViral               NaN                    NaN   \n",
              "\n",
              "       hospitalizedCumulative  inIcuCurrently  inIcuCumulative  \\\n",
              "20775                     NaN             NaN              NaN   \n",
              "20776                     NaN             NaN              NaN   \n",
              "20777                     NaN             NaN              NaN   \n",
              "20778                     NaN             NaN              NaN   \n",
              "20779                     NaN             NaN              NaN   \n",
              "\n",
              "       onVentilatorCurrently  onVentilatorCumulative  recovered lastUpdateEt  \\\n",
              "20775                    NaN                     NaN        NaN          NaN   \n",
              "20776                    NaN                     NaN        NaN          NaN   \n",
              "20777                    NaN                     NaN        NaN          NaN   \n",
              "20778                    NaN                     NaN        NaN          NaN   \n",
              "20779                    NaN                     NaN        NaN          NaN   \n",
              "\n",
              "      dateModified checkTimeEt  death  hospitalized  hospitalizedDischarged  \\\n",
              "20775          NaN         NaN    NaN           NaN                     NaN   \n",
              "20776          NaN         NaN    NaN           NaN                     NaN   \n",
              "20777          NaN         NaN    NaN           NaN                     NaN   \n",
              "20778          NaN         NaN    NaN           NaN                     NaN   \n",
              "20779          NaN         NaN    NaN           NaN                     NaN   \n",
              "\n",
              "      dateChecked  totalTestsViral  positiveTestsViral  negativeTestsViral  \\\n",
              "20775         NaN              NaN                 NaN                 NaN   \n",
              "20776         NaN              NaN                 NaN                 NaN   \n",
              "20777         NaN              NaN                 NaN                 NaN   \n",
              "20778         NaN              NaN                 NaN                 NaN   \n",
              "20779         NaN              NaN                 NaN                 NaN   \n",
              "\n",
              "       positiveCasesViral  deathConfirmed  deathProbable  \\\n",
              "20775                 0.0             NaN            NaN   \n",
              "20776                 0.0             NaN            NaN   \n",
              "20777                 0.0             NaN            NaN   \n",
              "20778                 0.0             NaN            NaN   \n",
              "20779                 NaN             NaN            NaN   \n",
              "\n",
              "       totalTestEncountersViral  totalTestsPeopleViral  totalTestsAntibody  \\\n",
              "20775                       NaN                    NaN                 NaN   \n",
              "20776                       NaN                    NaN                 NaN   \n",
              "20777                       NaN                    NaN                 NaN   \n",
              "20778                       NaN                    NaN                 NaN   \n",
              "20779                       NaN                    NaN                 NaN   \n",
              "\n",
              "       positiveTestsAntibody  negativeTestsAntibody  totalTestsPeopleAntibody  \\\n",
              "20775                    NaN                    NaN                       NaN   \n",
              "20776                    NaN                    NaN                       NaN   \n",
              "20777                    NaN                    NaN                       NaN   \n",
              "20778                    NaN                    NaN                       NaN   \n",
              "20779                    NaN                    NaN                       NaN   \n",
              "\n",
              "       positiveTestsPeopleAntibody  negativeTestsPeopleAntibody  \\\n",
              "20775                          NaN                          NaN   \n",
              "20776                          NaN                          NaN   \n",
              "20777                          NaN                          NaN   \n",
              "20778                          NaN                          NaN   \n",
              "20779                          NaN                          NaN   \n",
              "\n",
              "       totalTestsPeopleAntigen  positiveTestsPeopleAntigen  totalTestsAntigen  \\\n",
              "20775                      NaN                         NaN                NaN   \n",
              "20776                      NaN                         NaN                NaN   \n",
              "20777                      NaN                         NaN                NaN   \n",
              "20778                      NaN                         NaN                NaN   \n",
              "20779                      NaN                         NaN                NaN   \n",
              "\n",
              "       positiveTestsAntigen  fips  positiveIncrease  negativeIncrease  total  \\\n",
              "20775                   NaN    53                 0                 0      0   \n",
              "20776                   NaN    53                 0                 0      0   \n",
              "20777                   NaN    53                 0                 0      0   \n",
              "20778                   NaN    53                 0                 0      0   \n",
              "20779                   NaN    53                 0                 0      0   \n",
              "\n",
              "       totalTestResultsIncrease  posNeg  dataQualityGrade  deathIncrease  \\\n",
              "20775                         0       0               NaN              0   \n",
              "20776                         0       0               NaN              0   \n",
              "20777                         0       0               NaN              0   \n",
              "20778                         0       0               NaN              0   \n",
              "20779                         0       0               NaN              0   \n",
              "\n",
              "       hospitalizedIncrease                                      hash  \\\n",
              "20775                     0  7cefac6b3681020741ca30f45399a7b22f2e45b4   \n",
              "20776                     0  650501e005a5ee86d93c5f32dda56735ea2af967   \n",
              "20777                     0  4987e61aad88182abfe641033b597304c2153d4f   \n",
              "20778                     0  1881c8a2f0d337b22066b4f05df06eb2259e8d57   \n",
              "20779                     0  12b994ad07c276a5278a2465e081751688739765   \n",
              "\n",
              "       commercialScore  negativeRegularScore  negativeScore  positiveScore  \\\n",
              "20775                0                     0              0              0   \n",
              "20776                0                     0              0              0   \n",
              "20777                0                     0              0              0   \n",
              "20778                0                     0              0              0   \n",
              "20779                0                     0              0              0   \n",
              "\n",
              "       score  grade  \n",
              "20775      0    NaN  \n",
              "20776      0    NaN  \n",
              "20777      0    NaN  \n",
              "20778      0    NaN  \n",
              "20779      0    NaN  "
            ],
            "text/html": [
              "\n",
              "  <div id=\"df-4f30deae-7bd8-41a1-ac04-f46ccf64e346\" class=\"colab-df-container\">\n",
              "    <div>\n",
              "<style scoped>\n",
              "    .dataframe tbody tr th:only-of-type {\n",
              "        vertical-align: middle;\n",
              "    }\n",
              "\n",
              "    .dataframe tbody tr th {\n",
              "        vertical-align: top;\n",
              "    }\n",
              "\n",
              "    .dataframe thead th {\n",
              "        text-align: right;\n",
              "    }\n",
              "</style>\n",
              "<table border=\"1\" class=\"dataframe\">\n",
              "  <thead>\n",
              "    <tr style=\"text-align: right;\">\n",
              "      <th></th>\n",
              "      <th>date</th>\n",
              "      <th>state</th>\n",
              "      <th>positive</th>\n",
              "      <th>probableCases</th>\n",
              "      <th>negative</th>\n",
              "      <th>pending</th>\n",
              "      <th>totalTestResultsSource</th>\n",
              "      <th>totalTestResults</th>\n",
              "      <th>hospitalizedCurrently</th>\n",
              "      <th>hospitalizedCumulative</th>\n",
              "      <th>inIcuCurrently</th>\n",
              "      <th>inIcuCumulative</th>\n",
              "      <th>onVentilatorCurrently</th>\n",
              "      <th>onVentilatorCumulative</th>\n",
              "      <th>recovered</th>\n",
              "      <th>lastUpdateEt</th>\n",
              "      <th>dateModified</th>\n",
              "      <th>checkTimeEt</th>\n",
              "      <th>death</th>\n",
              "      <th>hospitalized</th>\n",
              "      <th>hospitalizedDischarged</th>\n",
              "      <th>dateChecked</th>\n",
              "      <th>totalTestsViral</th>\n",
              "      <th>positiveTestsViral</th>\n",
              "      <th>negativeTestsViral</th>\n",
              "      <th>positiveCasesViral</th>\n",
              "      <th>deathConfirmed</th>\n",
              "      <th>deathProbable</th>\n",
              "      <th>totalTestEncountersViral</th>\n",
              "      <th>totalTestsPeopleViral</th>\n",
              "      <th>totalTestsAntibody</th>\n",
              "      <th>positiveTestsAntibody</th>\n",
              "      <th>negativeTestsAntibody</th>\n",
              "      <th>totalTestsPeopleAntibody</th>\n",
              "      <th>positiveTestsPeopleAntibody</th>\n",
              "      <th>negativeTestsPeopleAntibody</th>\n",
              "      <th>totalTestsPeopleAntigen</th>\n",
              "      <th>positiveTestsPeopleAntigen</th>\n",
              "      <th>totalTestsAntigen</th>\n",
              "      <th>positiveTestsAntigen</th>\n",
              "      <th>fips</th>\n",
              "      <th>positiveIncrease</th>\n",
              "      <th>negativeIncrease</th>\n",
              "      <th>total</th>\n",
              "      <th>totalTestResultsIncrease</th>\n",
              "      <th>posNeg</th>\n",
              "      <th>dataQualityGrade</th>\n",
              "      <th>deathIncrease</th>\n",
              "      <th>hospitalizedIncrease</th>\n",
              "      <th>hash</th>\n",
              "      <th>commercialScore</th>\n",
              "      <th>negativeRegularScore</th>\n",
              "      <th>negativeScore</th>\n",
              "      <th>positiveScore</th>\n",
              "      <th>score</th>\n",
              "      <th>grade</th>\n",
              "    </tr>\n",
              "  </thead>\n",
              "  <tbody>\n",
              "    <tr>\n",
              "      <th>20775</th>\n",
              "      <td>20200117</td>\n",
              "      <td>WA</td>\n",
              "      <td>0.0</td>\n",
              "      <td>NaN</td>\n",
              "      <td>NaN</td>\n",
              "      <td>NaN</td>\n",
              "      <td>totalTestEncountersViral</td>\n",
              "      <td>NaN</td>\n",
              "      <td>NaN</td>\n",
              "      <td>NaN</td>\n",
              "      <td>NaN</td>\n",
              "      <td>NaN</td>\n",
              "      <td>NaN</td>\n",
              "      <td>NaN</td>\n",
              "      <td>NaN</td>\n",
              "      <td>NaN</td>\n",
              "      <td>NaN</td>\n",
              "      <td>NaN</td>\n",
              "      <td>NaN</td>\n",
              "      <td>NaN</td>\n",
              "      <td>NaN</td>\n",
              "      <td>NaN</td>\n",
              "      <td>NaN</td>\n",
              "      <td>NaN</td>\n",
              "      <td>NaN</td>\n",
              "      <td>0.0</td>\n",
              "      <td>NaN</td>\n",
              "      <td>NaN</td>\n",
              "      <td>NaN</td>\n",
              "      <td>NaN</td>\n",
              "      <td>NaN</td>\n",
              "      <td>NaN</td>\n",
              "      <td>NaN</td>\n",
              "      <td>NaN</td>\n",
              "      <td>NaN</td>\n",
              "      <td>NaN</td>\n",
              "      <td>NaN</td>\n",
              "      <td>NaN</td>\n",
              "      <td>NaN</td>\n",
              "      <td>NaN</td>\n",
              "      <td>53</td>\n",
              "      <td>0</td>\n",
              "      <td>0</td>\n",
              "      <td>0</td>\n",
              "      <td>0</td>\n",
              "      <td>0</td>\n",
              "      <td>NaN</td>\n",
              "      <td>0</td>\n",
              "      <td>0</td>\n",
              "      <td>7cefac6b3681020741ca30f45399a7b22f2e45b4</td>\n",
              "      <td>0</td>\n",
              "      <td>0</td>\n",
              "      <td>0</td>\n",
              "      <td>0</td>\n",
              "      <td>0</td>\n",
              "      <td>NaN</td>\n",
              "    </tr>\n",
              "    <tr>\n",
              "      <th>20776</th>\n",
              "      <td>20200116</td>\n",
              "      <td>WA</td>\n",
              "      <td>0.0</td>\n",
              "      <td>NaN</td>\n",
              "      <td>NaN</td>\n",
              "      <td>NaN</td>\n",
              "      <td>totalTestEncountersViral</td>\n",
              "      <td>NaN</td>\n",
              "      <td>NaN</td>\n",
              "      <td>NaN</td>\n",
              "      <td>NaN</td>\n",
              "      <td>NaN</td>\n",
              "      <td>NaN</td>\n",
              "      <td>NaN</td>\n",
              "      <td>NaN</td>\n",
              "      <td>NaN</td>\n",
              "      <td>NaN</td>\n",
              "      <td>NaN</td>\n",
              "      <td>NaN</td>\n",
              "      <td>NaN</td>\n",
              "      <td>NaN</td>\n",
              "      <td>NaN</td>\n",
              "      <td>NaN</td>\n",
              "      <td>NaN</td>\n",
              "      <td>NaN</td>\n",
              "      <td>0.0</td>\n",
              "      <td>NaN</td>\n",
              "      <td>NaN</td>\n",
              "      <td>NaN</td>\n",
              "      <td>NaN</td>\n",
              "      <td>NaN</td>\n",
              "      <td>NaN</td>\n",
              "      <td>NaN</td>\n",
              "      <td>NaN</td>\n",
              "      <td>NaN</td>\n",
              "      <td>NaN</td>\n",
              "      <td>NaN</td>\n",
              "      <td>NaN</td>\n",
              "      <td>NaN</td>\n",
              "      <td>NaN</td>\n",
              "      <td>53</td>\n",
              "      <td>0</td>\n",
              "      <td>0</td>\n",
              "      <td>0</td>\n",
              "      <td>0</td>\n",
              "      <td>0</td>\n",
              "      <td>NaN</td>\n",
              "      <td>0</td>\n",
              "      <td>0</td>\n",
              "      <td>650501e005a5ee86d93c5f32dda56735ea2af967</td>\n",
              "      <td>0</td>\n",
              "      <td>0</td>\n",
              "      <td>0</td>\n",
              "      <td>0</td>\n",
              "      <td>0</td>\n",
              "      <td>NaN</td>\n",
              "    </tr>\n",
              "    <tr>\n",
              "      <th>20777</th>\n",
              "      <td>20200115</td>\n",
              "      <td>WA</td>\n",
              "      <td>0.0</td>\n",
              "      <td>NaN</td>\n",
              "      <td>NaN</td>\n",
              "      <td>NaN</td>\n",
              "      <td>totalTestEncountersViral</td>\n",
              "      <td>NaN</td>\n",
              "      <td>NaN</td>\n",
              "      <td>NaN</td>\n",
              "      <td>NaN</td>\n",
              "      <td>NaN</td>\n",
              "      <td>NaN</td>\n",
              "      <td>NaN</td>\n",
              "      <td>NaN</td>\n",
              "      <td>NaN</td>\n",
              "      <td>NaN</td>\n",
              "      <td>NaN</td>\n",
              "      <td>NaN</td>\n",
              "      <td>NaN</td>\n",
              "      <td>NaN</td>\n",
              "      <td>NaN</td>\n",
              "      <td>NaN</td>\n",
              "      <td>NaN</td>\n",
              "      <td>NaN</td>\n",
              "      <td>0.0</td>\n",
              "      <td>NaN</td>\n",
              "      <td>NaN</td>\n",
              "      <td>NaN</td>\n",
              "      <td>NaN</td>\n",
              "      <td>NaN</td>\n",
              "      <td>NaN</td>\n",
              "      <td>NaN</td>\n",
              "      <td>NaN</td>\n",
              "      <td>NaN</td>\n",
              "      <td>NaN</td>\n",
              "      <td>NaN</td>\n",
              "      <td>NaN</td>\n",
              "      <td>NaN</td>\n",
              "      <td>NaN</td>\n",
              "      <td>53</td>\n",
              "      <td>0</td>\n",
              "      <td>0</td>\n",
              "      <td>0</td>\n",
              "      <td>0</td>\n",
              "      <td>0</td>\n",
              "      <td>NaN</td>\n",
              "      <td>0</td>\n",
              "      <td>0</td>\n",
              "      <td>4987e61aad88182abfe641033b597304c2153d4f</td>\n",
              "      <td>0</td>\n",
              "      <td>0</td>\n",
              "      <td>0</td>\n",
              "      <td>0</td>\n",
              "      <td>0</td>\n",
              "      <td>NaN</td>\n",
              "    </tr>\n",
              "    <tr>\n",
              "      <th>20778</th>\n",
              "      <td>20200114</td>\n",
              "      <td>WA</td>\n",
              "      <td>0.0</td>\n",
              "      <td>NaN</td>\n",
              "      <td>NaN</td>\n",
              "      <td>NaN</td>\n",
              "      <td>totalTestEncountersViral</td>\n",
              "      <td>NaN</td>\n",
              "      <td>NaN</td>\n",
              "      <td>NaN</td>\n",
              "      <td>NaN</td>\n",
              "      <td>NaN</td>\n",
              "      <td>NaN</td>\n",
              "      <td>NaN</td>\n",
              "      <td>NaN</td>\n",
              "      <td>NaN</td>\n",
              "      <td>NaN</td>\n",
              "      <td>NaN</td>\n",
              "      <td>NaN</td>\n",
              "      <td>NaN</td>\n",
              "      <td>NaN</td>\n",
              "      <td>NaN</td>\n",
              "      <td>NaN</td>\n",
              "      <td>NaN</td>\n",
              "      <td>NaN</td>\n",
              "      <td>0.0</td>\n",
              "      <td>NaN</td>\n",
              "      <td>NaN</td>\n",
              "      <td>NaN</td>\n",
              "      <td>NaN</td>\n",
              "      <td>NaN</td>\n",
              "      <td>NaN</td>\n",
              "      <td>NaN</td>\n",
              "      <td>NaN</td>\n",
              "      <td>NaN</td>\n",
              "      <td>NaN</td>\n",
              "      <td>NaN</td>\n",
              "      <td>NaN</td>\n",
              "      <td>NaN</td>\n",
              "      <td>NaN</td>\n",
              "      <td>53</td>\n",
              "      <td>0</td>\n",
              "      <td>0</td>\n",
              "      <td>0</td>\n",
              "      <td>0</td>\n",
              "      <td>0</td>\n",
              "      <td>NaN</td>\n",
              "      <td>0</td>\n",
              "      <td>0</td>\n",
              "      <td>1881c8a2f0d337b22066b4f05df06eb2259e8d57</td>\n",
              "      <td>0</td>\n",
              "      <td>0</td>\n",
              "      <td>0</td>\n",
              "      <td>0</td>\n",
              "      <td>0</td>\n",
              "      <td>NaN</td>\n",
              "    </tr>\n",
              "    <tr>\n",
              "      <th>20779</th>\n",
              "      <td>20200113</td>\n",
              "      <td>WA</td>\n",
              "      <td>NaN</td>\n",
              "      <td>NaN</td>\n",
              "      <td>NaN</td>\n",
              "      <td>NaN</td>\n",
              "      <td>totalTestEncountersViral</td>\n",
              "      <td>NaN</td>\n",
              "      <td>NaN</td>\n",
              "      <td>NaN</td>\n",
              "      <td>NaN</td>\n",
              "      <td>NaN</td>\n",
              "      <td>NaN</td>\n",
              "      <td>NaN</td>\n",
              "      <td>NaN</td>\n",
              "      <td>NaN</td>\n",
              "      <td>NaN</td>\n",
              "      <td>NaN</td>\n",
              "      <td>NaN</td>\n",
              "      <td>NaN</td>\n",
              "      <td>NaN</td>\n",
              "      <td>NaN</td>\n",
              "      <td>NaN</td>\n",
              "      <td>NaN</td>\n",
              "      <td>NaN</td>\n",
              "      <td>NaN</td>\n",
              "      <td>NaN</td>\n",
              "      <td>NaN</td>\n",
              "      <td>NaN</td>\n",
              "      <td>NaN</td>\n",
              "      <td>NaN</td>\n",
              "      <td>NaN</td>\n",
              "      <td>NaN</td>\n",
              "      <td>NaN</td>\n",
              "      <td>NaN</td>\n",
              "      <td>NaN</td>\n",
              "      <td>NaN</td>\n",
              "      <td>NaN</td>\n",
              "      <td>NaN</td>\n",
              "      <td>NaN</td>\n",
              "      <td>53</td>\n",
              "      <td>0</td>\n",
              "      <td>0</td>\n",
              "      <td>0</td>\n",
              "      <td>0</td>\n",
              "      <td>0</td>\n",
              "      <td>NaN</td>\n",
              "      <td>0</td>\n",
              "      <td>0</td>\n",
              "      <td>12b994ad07c276a5278a2465e081751688739765</td>\n",
              "      <td>0</td>\n",
              "      <td>0</td>\n",
              "      <td>0</td>\n",
              "      <td>0</td>\n",
              "      <td>0</td>\n",
              "      <td>NaN</td>\n",
              "    </tr>\n",
              "  </tbody>\n",
              "</table>\n",
              "</div>\n",
              "    <div class=\"colab-df-buttons\">\n",
              "\n",
              "  <div class=\"colab-df-container\">\n",
              "    <button class=\"colab-df-convert\" onclick=\"convertToInteractive('df-4f30deae-7bd8-41a1-ac04-f46ccf64e346')\"\n",
              "            title=\"Convert this dataframe to an interactive table.\"\n",
              "            style=\"display:none;\">\n",
              "\n",
              "  <svg xmlns=\"http://www.w3.org/2000/svg\" height=\"24px\" viewBox=\"0 -960 960 960\">\n",
              "    <path d=\"M120-120v-720h720v720H120Zm60-500h600v-160H180v160Zm220 220h160v-160H400v160Zm0 220h160v-160H400v160ZM180-400h160v-160H180v160Zm440 0h160v-160H620v160ZM180-180h160v-160H180v160Zm440 0h160v-160H620v160Z\"/>\n",
              "  </svg>\n",
              "    </button>\n",
              "\n",
              "  <style>\n",
              "    .colab-df-container {\n",
              "      display:flex;\n",
              "      gap: 12px;\n",
              "    }\n",
              "\n",
              "    .colab-df-convert {\n",
              "      background-color: #E8F0FE;\n",
              "      border: none;\n",
              "      border-radius: 50%;\n",
              "      cursor: pointer;\n",
              "      display: none;\n",
              "      fill: #1967D2;\n",
              "      height: 32px;\n",
              "      padding: 0 0 0 0;\n",
              "      width: 32px;\n",
              "    }\n",
              "\n",
              "    .colab-df-convert:hover {\n",
              "      background-color: #E2EBFA;\n",
              "      box-shadow: 0px 1px 2px rgba(60, 64, 67, 0.3), 0px 1px 3px 1px rgba(60, 64, 67, 0.15);\n",
              "      fill: #174EA6;\n",
              "    }\n",
              "\n",
              "    .colab-df-buttons div {\n",
              "      margin-bottom: 4px;\n",
              "    }\n",
              "\n",
              "    [theme=dark] .colab-df-convert {\n",
              "      background-color: #3B4455;\n",
              "      fill: #D2E3FC;\n",
              "    }\n",
              "\n",
              "    [theme=dark] .colab-df-convert:hover {\n",
              "      background-color: #434B5C;\n",
              "      box-shadow: 0px 1px 3px 1px rgba(0, 0, 0, 0.15);\n",
              "      filter: drop-shadow(0px 1px 2px rgba(0, 0, 0, 0.3));\n",
              "      fill: #FFFFFF;\n",
              "    }\n",
              "  </style>\n",
              "\n",
              "    <script>\n",
              "      const buttonEl =\n",
              "        document.querySelector('#df-4f30deae-7bd8-41a1-ac04-f46ccf64e346 button.colab-df-convert');\n",
              "      buttonEl.style.display =\n",
              "        google.colab.kernel.accessAllowed ? 'block' : 'none';\n",
              "\n",
              "      async function convertToInteractive(key) {\n",
              "        const element = document.querySelector('#df-4f30deae-7bd8-41a1-ac04-f46ccf64e346');\n",
              "        const dataTable =\n",
              "          await google.colab.kernel.invokeFunction('convertToInteractive',\n",
              "                                                    [key], {});\n",
              "        if (!dataTable) return;\n",
              "\n",
              "        const docLinkHtml = 'Like what you see? Visit the ' +\n",
              "          '<a target=\"_blank\" href=https://colab.research.google.com/notebooks/data_table.ipynb>data table notebook</a>'\n",
              "          + ' to learn more about interactive tables.';\n",
              "        element.innerHTML = '';\n",
              "        dataTable['output_type'] = 'display_data';\n",
              "        await google.colab.output.renderOutput(dataTable, element);\n",
              "        const docLink = document.createElement('div');\n",
              "        docLink.innerHTML = docLinkHtml;\n",
              "        element.appendChild(docLink);\n",
              "      }\n",
              "    </script>\n",
              "  </div>\n",
              "\n",
              "\n",
              "<div id=\"df-61d9de97-fa68-480f-82c7-5e53aa75f890\">\n",
              "  <button class=\"colab-df-quickchart\" onclick=\"quickchart('df-61d9de97-fa68-480f-82c7-5e53aa75f890')\"\n",
              "            title=\"Suggest charts\"\n",
              "            style=\"display:none;\">\n",
              "\n",
              "<svg xmlns=\"http://www.w3.org/2000/svg\" height=\"24px\"viewBox=\"0 0 24 24\"\n",
              "     width=\"24px\">\n",
              "    <g>\n",
              "        <path d=\"M19 3H5c-1.1 0-2 .9-2 2v14c0 1.1.9 2 2 2h14c1.1 0 2-.9 2-2V5c0-1.1-.9-2-2-2zM9 17H7v-7h2v7zm4 0h-2V7h2v10zm4 0h-2v-4h2v4z\"/>\n",
              "    </g>\n",
              "</svg>\n",
              "  </button>\n",
              "\n",
              "<style>\n",
              "  .colab-df-quickchart {\n",
              "      --bg-color: #E8F0FE;\n",
              "      --fill-color: #1967D2;\n",
              "      --hover-bg-color: #E2EBFA;\n",
              "      --hover-fill-color: #174EA6;\n",
              "      --disabled-fill-color: #AAA;\n",
              "      --disabled-bg-color: #DDD;\n",
              "  }\n",
              "\n",
              "  [theme=dark] .colab-df-quickchart {\n",
              "      --bg-color: #3B4455;\n",
              "      --fill-color: #D2E3FC;\n",
              "      --hover-bg-color: #434B5C;\n",
              "      --hover-fill-color: #FFFFFF;\n",
              "      --disabled-bg-color: #3B4455;\n",
              "      --disabled-fill-color: #666;\n",
              "  }\n",
              "\n",
              "  .colab-df-quickchart {\n",
              "    background-color: var(--bg-color);\n",
              "    border: none;\n",
              "    border-radius: 50%;\n",
              "    cursor: pointer;\n",
              "    display: none;\n",
              "    fill: var(--fill-color);\n",
              "    height: 32px;\n",
              "    padding: 0;\n",
              "    width: 32px;\n",
              "  }\n",
              "\n",
              "  .colab-df-quickchart:hover {\n",
              "    background-color: var(--hover-bg-color);\n",
              "    box-shadow: 0 1px 2px rgba(60, 64, 67, 0.3), 0 1px 3px 1px rgba(60, 64, 67, 0.15);\n",
              "    fill: var(--button-hover-fill-color);\n",
              "  }\n",
              "\n",
              "  .colab-df-quickchart-complete:disabled,\n",
              "  .colab-df-quickchart-complete:disabled:hover {\n",
              "    background-color: var(--disabled-bg-color);\n",
              "    fill: var(--disabled-fill-color);\n",
              "    box-shadow: none;\n",
              "  }\n",
              "\n",
              "  .colab-df-spinner {\n",
              "    border: 2px solid var(--fill-color);\n",
              "    border-color: transparent;\n",
              "    border-bottom-color: var(--fill-color);\n",
              "    animation:\n",
              "      spin 1s steps(1) infinite;\n",
              "  }\n",
              "\n",
              "  @keyframes spin {\n",
              "    0% {\n",
              "      border-color: transparent;\n",
              "      border-bottom-color: var(--fill-color);\n",
              "      border-left-color: var(--fill-color);\n",
              "    }\n",
              "    20% {\n",
              "      border-color: transparent;\n",
              "      border-left-color: var(--fill-color);\n",
              "      border-top-color: var(--fill-color);\n",
              "    }\n",
              "    30% {\n",
              "      border-color: transparent;\n",
              "      border-left-color: var(--fill-color);\n",
              "      border-top-color: var(--fill-color);\n",
              "      border-right-color: var(--fill-color);\n",
              "    }\n",
              "    40% {\n",
              "      border-color: transparent;\n",
              "      border-right-color: var(--fill-color);\n",
              "      border-top-color: var(--fill-color);\n",
              "    }\n",
              "    60% {\n",
              "      border-color: transparent;\n",
              "      border-right-color: var(--fill-color);\n",
              "    }\n",
              "    80% {\n",
              "      border-color: transparent;\n",
              "      border-right-color: var(--fill-color);\n",
              "      border-bottom-color: var(--fill-color);\n",
              "    }\n",
              "    90% {\n",
              "      border-color: transparent;\n",
              "      border-bottom-color: var(--fill-color);\n",
              "    }\n",
              "  }\n",
              "</style>\n",
              "\n",
              "  <script>\n",
              "    async function quickchart(key) {\n",
              "      const quickchartButtonEl =\n",
              "        document.querySelector('#' + key + ' button');\n",
              "      quickchartButtonEl.disabled = true;  // To prevent multiple clicks.\n",
              "      quickchartButtonEl.classList.add('colab-df-spinner');\n",
              "      try {\n",
              "        const charts = await google.colab.kernel.invokeFunction(\n",
              "            'suggestCharts', [key], {});\n",
              "      } catch (error) {\n",
              "        console.error('Error during call to suggestCharts:', error);\n",
              "      }\n",
              "      quickchartButtonEl.classList.remove('colab-df-spinner');\n",
              "      quickchartButtonEl.classList.add('colab-df-quickchart-complete');\n",
              "    }\n",
              "    (() => {\n",
              "      let quickchartButtonEl =\n",
              "        document.querySelector('#df-61d9de97-fa68-480f-82c7-5e53aa75f890 button');\n",
              "      quickchartButtonEl.style.display =\n",
              "        google.colab.kernel.accessAllowed ? 'block' : 'none';\n",
              "    })();\n",
              "  </script>\n",
              "</div>\n",
              "\n",
              "    </div>\n",
              "  </div>\n"
            ],
            "application/vnd.google.colaboratory.intrinsic+json": {
              "type": "dataframe"
            }
          },
          "metadata": {},
          "execution_count": 46
        }
      ]
    },
    {
      "cell_type": "code",
      "source": [
        "# Información general del DataFrame (incluir tipos de datos y si hay datos faltantes en las columnas)\n",
        "data.info()"
      ],
      "metadata": {
        "colab": {
          "base_uri": "https://localhost:8080/"
        },
        "collapsed": true,
        "id": "xj1Amyp56lNz",
        "outputId": "b64aa74b-ff98-44f7-aede-181f826cc7aa"
      },
      "execution_count": 47,
      "outputs": [
        {
          "output_type": "stream",
          "name": "stdout",
          "text": [
            "<class 'pandas.core.frame.DataFrame'>\n",
            "RangeIndex: 20780 entries, 0 to 20779\n",
            "Data columns (total 56 columns):\n",
            " #   Column                       Non-Null Count  Dtype  \n",
            "---  ------                       --------------  -----  \n",
            " 0   date                         20780 non-null  int64  \n",
            " 1   state                        20780 non-null  object \n",
            " 2   positive                     20592 non-null  float64\n",
            " 3   probableCases                9271 non-null   float64\n",
            " 4   negative                     13290 non-null  float64\n",
            " 5   pending                      2138 non-null   float64\n",
            " 6   totalTestResultsSource       20780 non-null  object \n",
            " 7   totalTestResults             20614 non-null  float64\n",
            " 8   hospitalizedCurrently        17339 non-null  float64\n",
            " 9   hospitalizedCumulative       12382 non-null  float64\n",
            " 10  inIcuCurrently               11636 non-null  float64\n",
            " 11  inIcuCumulative              3789 non-null   float64\n",
            " 12  onVentilatorCurrently        9126 non-null   float64\n",
            " 13  onVentilatorCumulative       1290 non-null   float64\n",
            " 14  recovered                    12003 non-null  float64\n",
            " 15  lastUpdateEt                 20164 non-null  object \n",
            " 16  dateModified                 20164 non-null  object \n",
            " 17  checkTimeEt                  20164 non-null  object \n",
            " 18  death                        19930 non-null  float64\n",
            " 19  hospitalized                 12382 non-null  float64\n",
            " 20  hospitalizedDischarged       3070 non-null   float64\n",
            " 21  dateChecked                  20164 non-null  object \n",
            " 22  totalTestsViral              14516 non-null  float64\n",
            " 23  positiveTestsViral           8958 non-null   float64\n",
            " 24  negativeTestsViral           5024 non-null   float64\n",
            " 25  positiveCasesViral           14246 non-null  float64\n",
            " 26  deathConfirmed               9422 non-null   float64\n",
            " 27  deathProbable                7593 non-null   float64\n",
            " 28  totalTestEncountersViral     5231 non-null   float64\n",
            " 29  totalTestsPeopleViral        9197 non-null   float64\n",
            " 30  totalTestsAntibody           4789 non-null   float64\n",
            " 31  positiveTestsAntibody        3346 non-null   float64\n",
            " 32  negativeTestsAntibody        1458 non-null   float64\n",
            " 33  totalTestsPeopleAntibody     2200 non-null   float64\n",
            " 34  positiveTestsPeopleAntibody  1094 non-null   float64\n",
            " 35  negativeTestsPeopleAntibody  972 non-null    float64\n",
            " 36  totalTestsPeopleAntigen      999 non-null    float64\n",
            " 37  positiveTestsPeopleAntigen   633 non-null    float64\n",
            " 38  totalTestsAntigen            3421 non-null   float64\n",
            " 39  positiveTestsAntigen         2233 non-null   float64\n",
            " 40  fips                         20780 non-null  int64  \n",
            " 41  positiveIncrease             20780 non-null  int64  \n",
            " 42  negativeIncrease             20780 non-null  int64  \n",
            " 43  total                        20780 non-null  int64  \n",
            " 44  totalTestResultsIncrease     20780 non-null  int64  \n",
            " 45  posNeg                       20780 non-null  int64  \n",
            " 46  dataQualityGrade             0 non-null      float64\n",
            " 47  deathIncrease                20780 non-null  int64  \n",
            " 48  hospitalizedIncrease         20780 non-null  int64  \n",
            " 49  hash                         20780 non-null  object \n",
            " 50  commercialScore              20780 non-null  int64  \n",
            " 51  negativeRegularScore         20780 non-null  int64  \n",
            " 52  negativeScore                20780 non-null  int64  \n",
            " 53  positiveScore                20780 non-null  int64  \n",
            " 54  score                        20780 non-null  int64  \n",
            " 55  grade                        0 non-null      float64\n",
            "dtypes: float64(35), int64(14), object(7)\n",
            "memory usage: 8.9+ MB\n"
          ]
        }
      ]
    },
    {
      "cell_type": "code",
      "source": [
        "# Listar todas las columnas del dataset\n",
        "data.columns"
      ],
      "metadata": {
        "colab": {
          "base_uri": "https://localhost:8080/"
        },
        "collapsed": true,
        "id": "FFYAZYri7-gU",
        "outputId": "dd86a060-2d70-4068-d8ec-21de90e3d5f2"
      },
      "execution_count": 48,
      "outputs": [
        {
          "output_type": "execute_result",
          "data": {
            "text/plain": [
              "Index(['date', 'state', 'positive', 'probableCases', 'negative', 'pending',\n",
              "       'totalTestResultsSource', 'totalTestResults', 'hospitalizedCurrently',\n",
              "       'hospitalizedCumulative', 'inIcuCurrently', 'inIcuCumulative',\n",
              "       'onVentilatorCurrently', 'onVentilatorCumulative', 'recovered',\n",
              "       'lastUpdateEt', 'dateModified', 'checkTimeEt', 'death', 'hospitalized',\n",
              "       'hospitalizedDischarged', 'dateChecked', 'totalTestsViral',\n",
              "       'positiveTestsViral', 'negativeTestsViral', 'positiveCasesViral',\n",
              "       'deathConfirmed', 'deathProbable', 'totalTestEncountersViral',\n",
              "       'totalTestsPeopleViral', 'totalTestsAntibody', 'positiveTestsAntibody',\n",
              "       'negativeTestsAntibody', 'totalTestsPeopleAntibody',\n",
              "       'positiveTestsPeopleAntibody', 'negativeTestsPeopleAntibody',\n",
              "       'totalTestsPeopleAntigen', 'positiveTestsPeopleAntigen',\n",
              "       'totalTestsAntigen', 'positiveTestsAntigen', 'fips', 'positiveIncrease',\n",
              "       'negativeIncrease', 'total', 'totalTestResultsIncrease', 'posNeg',\n",
              "       'dataQualityGrade', 'deathIncrease', 'hospitalizedIncrease', 'hash',\n",
              "       'commercialScore', 'negativeRegularScore', 'negativeScore',\n",
              "       'positiveScore', 'score', 'grade'],\n",
              "      dtype='object')"
            ]
          },
          "metadata": {},
          "execution_count": 48
        }
      ]
    },
    {
      "cell_type": "markdown",
      "source": [
        "## 👁 **Observaciones**\n",
        "Al revisar las primeras filas, podemos ver que los **datos están organizados por fecha y estado**. Las **columnas positive  y death ** son de interés para nuestro análisis."
      ],
      "metadata": {
        "id": "Ta9E5hpU-iul"
      }
    },
    {
      "cell_type": "markdown",
      "source": [
        "# ▶ **Paso 3: Limpieza de Datos y Preparación de los Datos**"
      ],
      "metadata": {
        "id": "Bs7-qLThqwkG"
      }
    },
    {
      "cell_type": "markdown",
      "source": [
        "## **1 - Conversión de Tipos de Datos y Manejo de Fechas**\n",
        "\n",
        "Para facilitar el análisis temporal, convertiremos la columna date al tipo de dato datetime."
      ],
      "metadata": {
        "id": "UX49Vl8x_7W4"
      }
    },
    {
      "cell_type": "code",
      "source": [
        "# Convertir la columna 'date' a formato datetime\n",
        "data_interes['date'] = pd.to_datetime(data_interes['date'], format='%Y%m%d')\n",
        "\n",
        "# Verificar que la conversión fue exitosa\n",
        "data_interes.dtypes[['date', 'state', 'positive', 'death', 'hospitalizedCurrently']]\n"
      ],
      "metadata": {
        "colab": {
          "base_uri": "https://localhost:8080/",
          "height": 241
        },
        "id": "u--XPRTcAIqG",
        "outputId": "9866a9b7-8c6a-449f-c192-288376c066bc"
      },
      "execution_count": 49,
      "outputs": [
        {
          "output_type": "execute_result",
          "data": {
            "text/plain": [
              "date                     datetime64[ns]\n",
              "state                            object\n",
              "positive                        float64\n",
              "death                           float64\n",
              "hospitalizedCurrently           float64\n",
              "dtype: object"
            ],
            "text/html": [
              "<div>\n",
              "<style scoped>\n",
              "    .dataframe tbody tr th:only-of-type {\n",
              "        vertical-align: middle;\n",
              "    }\n",
              "\n",
              "    .dataframe tbody tr th {\n",
              "        vertical-align: top;\n",
              "    }\n",
              "\n",
              "    .dataframe thead th {\n",
              "        text-align: right;\n",
              "    }\n",
              "</style>\n",
              "<table border=\"1\" class=\"dataframe\">\n",
              "  <thead>\n",
              "    <tr style=\"text-align: right;\">\n",
              "      <th></th>\n",
              "      <th>0</th>\n",
              "    </tr>\n",
              "  </thead>\n",
              "  <tbody>\n",
              "    <tr>\n",
              "      <th>date</th>\n",
              "      <td>datetime64[ns]</td>\n",
              "    </tr>\n",
              "    <tr>\n",
              "      <th>state</th>\n",
              "      <td>object</td>\n",
              "    </tr>\n",
              "    <tr>\n",
              "      <th>positive</th>\n",
              "      <td>float64</td>\n",
              "    </tr>\n",
              "    <tr>\n",
              "      <th>death</th>\n",
              "      <td>float64</td>\n",
              "    </tr>\n",
              "    <tr>\n",
              "      <th>hospitalizedCurrently</th>\n",
              "      <td>float64</td>\n",
              "    </tr>\n",
              "  </tbody>\n",
              "</table>\n",
              "</div><br><label><b>dtype:</b> object</label>"
            ]
          },
          "metadata": {},
          "execution_count": 49
        }
      ]
    },
    {
      "cell_type": "markdown",
      "source": [
        "## 👁  **Observaciones:**\n",
        "\n",
        "La conversión fue exitosa. Ahora podemos proceder con el análisis temporal."
      ],
      "metadata": {
        "id": "Qv8mBWp7AX4_"
      }
    },
    {
      "cell_type": "markdown",
      "source": [
        "## **2 - Verificación de Valores Duplicados**"
      ],
      "metadata": {
        "id": "UdUvDQBd83rD"
      }
    },
    {
      "cell_type": "code",
      "source": [
        "# Verificar si hay filas duplicadas en el DataFrame\n",
        "duplicados = data_interes.duplicated()\n",
        "\n",
        "# Imprimir la cantidad de duplicados encontrados\n",
        "print(f\"Filas duplicadas encontradas: {duplicados.sum()}\")"
      ],
      "metadata": {
        "colab": {
          "base_uri": "https://localhost:8080/"
        },
        "id": "OYK65cmG9EYW",
        "outputId": "33164086-94d5-4eff-b118-a5af0dd19324"
      },
      "execution_count": 50,
      "outputs": [
        {
          "output_type": "stream",
          "name": "stdout",
          "text": [
            "Filas duplicadas encontradas: 0\n"
          ]
        }
      ]
    },
    {
      "cell_type": "code",
      "source": [
        "# Eliminar las filas duplicadas, si las hay\n",
        "data_interes.drop_duplicates(inplace=True)"
      ],
      "metadata": {
        "id": "xvbXj7WF_jIo"
      },
      "execution_count": 51,
      "outputs": []
    },
    {
      "cell_type": "markdown",
      "source": [
        "## **3 - Identificación y Tratamiento de Valores Atípicos (Outliers)**\n",
        "Los valores atípicos son datos que se desvían significativamente de otros puntos de datos en el conjunto. Pueden indicar errores en la entrada de datos o eventos excepcionales que requieren un análisis más detallado.\n",
        "\n",
        "- **Identificar outliers:** Utiliza métodos como el rango intercuartílico (IQR) o la visualización a través de gráficos de caja (boxplots) para detectar outliers.\n",
        "- **Decidir cómo manejarlos:** Los outliers pueden ser excluidos, transformados, o investigados más a fondo, dependiendo del contexto y del objetivo del análisis."
      ],
      "metadata": {
        "id": "jK37VHelAJTr"
      }
    },
    {
      "cell_type": "markdown",
      "source": [
        "#### **Explicación del código**"
      ],
      "metadata": {
        "id": "JjzOU5QYDe_F"
      }
    },
    {
      "cell_type": "markdown",
      "source": [
        "El código analiza los outliers en positive, death, y hospitalizedCurrently, y proporciona sugerencias específicas para cada columna basada en el número y porcentaje de outliers detectados.\n",
        "\n",
        "**Función sugerir_acciones:**\n",
        "\n",
        "Calcula el número de outliers y su porcentaje respecto al total de registros en el DataFrame.\n",
        "\n",
        "**Basado en el porcentaje de outliers, se sugieren diferentes acciones:**\n",
        "- **< 1% de outliers:** El número es bajo, se sugiere ignorarlos o analizarlos individualmente.\n",
        "- **1% - 5% de outliers:** Es moderado, se sugiere mantenerlos, transformarlos o analizarlos.\n",
        "- **> 5% de outliers:** Es significativo, se sugiere considerar su eliminación o transformación, especialmente si podrían ser errores."
      ],
      "metadata": {
        "id": "EK-DQMaRDstz"
      }
    },
    {
      "cell_type": "markdown",
      "source": [
        "#### **Ejecutar código**"
      ],
      "metadata": {
        "id": "lm5dMUdlDgZT"
      }
    },
    {
      "cell_type": "code",
      "source": [
        "import numpy as np\n",
        "from IPython.display import display, Markdown\n",
        "\n",
        "# Función para identificar outliers utilizando el método IQR\n",
        "def detectar_outliers_iqr(data, columna):\n",
        "    Q1 = data[columna].quantile(0.25)\n",
        "    Q3 = data[columna].quantile(0.75)\n",
        "    IQR = Q3 - Q1\n",
        "    umbral_inferior = Q1 - 1.5 * IQR\n",
        "    umbral_superior = Q3 + 1.5 * IQR\n",
        "    outliers = data[(data[columna] < umbral_inferior) | (data[columna] > umbral_superior)]\n",
        "    return outliers\n",
        "\n",
        "# Identificar outliers en las columnas 'positive', 'death', y 'hospitalizedCurrently'\n",
        "outliers_positive = detectar_outliers_iqr(data_interes, 'positive')\n",
        "outliers_death = detectar_outliers_iqr(data_interes, 'death')\n",
        "outliers_hospitalized = detectar_outliers_iqr(data_interes, 'hospitalizedCurrently')\n",
        "\n",
        "# Función para sugerir acciones basadas en el número de outliers encontrados\n",
        "def sugerir_acciones(columna, outliers):\n",
        "    num_outliers = len(outliers)\n",
        "    total_registros = len(data_interes)\n",
        "    porcentaje_outliers = (num_outliers / total_registros) * 100\n",
        "\n",
        "    display(Markdown(f\"**Outliers en '{columna}':** {num_outliers} ({porcentaje_outliers:.2f}% de los registros)\"))\n",
        "\n",
        "    # Sugerencias basadas en el porcentaje de outliers\n",
        "    if porcentaje_outliers < 1:\n",
        "        display(Markdown(f\"**Sugerencia:** El número de outliers en '{columna}' es bajo. Es posible ignorarlos o analizarlos individualmente si son relevantes.\"))\n",
        "    elif 1 <= porcentaje_outliers <= 5:\n",
        "        display(Markdown(f\"**Sugerencia:** Hay un número moderado de outliers en '{columna}'. Puedes considerar mantenerlos si son importantes, o transformarlos (e.g., logaritmo) para minimizar su impacto.\"))\n",
        "    else:\n",
        "        display(Markdown(f\"**Sugerencia:** El número de outliers en '{columna}' es significativo. Deberías considerar si representan errores de datos y si es apropiado eliminarlos o tratarlos con transformaciones.\"))\n",
        "\n",
        "# Sugerencias para cada columna analizada\n",
        "sugerir_acciones('positive', outliers_positive)\n",
        "sugerir_acciones('death', outliers_death)\n",
        "sugerir_acciones('hospitalizedCurrently', outliers_hospitalized)\n"
      ],
      "metadata": {
        "colab": {
          "base_uri": "https://localhost:8080/",
          "height": 215
        },
        "id": "Vglqkc-CF6hK",
        "outputId": "8990ba91-a7b0-40c9-c9a0-c66c3cd08482"
      },
      "execution_count": 52,
      "outputs": [
        {
          "output_type": "display_data",
          "data": {
            "text/plain": [
              "<IPython.core.display.Markdown object>"
            ],
            "text/markdown": "**Outliers en 'positive':** 2169 (10.44% de los registros)"
          },
          "metadata": {}
        },
        {
          "output_type": "display_data",
          "data": {
            "text/plain": [
              "<IPython.core.display.Markdown object>"
            ],
            "text/markdown": "**Sugerencia:** El número de outliers en 'positive' es significativo. Deberías considerar si representan errores de datos y si es apropiado eliminarlos o tratarlos con transformaciones."
          },
          "metadata": {}
        },
        {
          "output_type": "display_data",
          "data": {
            "text/plain": [
              "<IPython.core.display.Markdown object>"
            ],
            "text/markdown": "**Outliers en 'death':** 1870 (9.00% de los registros)"
          },
          "metadata": {}
        },
        {
          "output_type": "display_data",
          "data": {
            "text/plain": [
              "<IPython.core.display.Markdown object>"
            ],
            "text/markdown": "**Sugerencia:** El número de outliers en 'death' es significativo. Deberías considerar si representan errores de datos y si es apropiado eliminarlos o tratarlos con transformaciones."
          },
          "metadata": {}
        },
        {
          "output_type": "display_data",
          "data": {
            "text/plain": [
              "<IPython.core.display.Markdown object>"
            ],
            "text/markdown": "**Outliers en 'hospitalizedCurrently':** 1775 (8.54% de los registros)"
          },
          "metadata": {}
        },
        {
          "output_type": "display_data",
          "data": {
            "text/plain": [
              "<IPython.core.display.Markdown object>"
            ],
            "text/markdown": "**Sugerencia:** El número de outliers en 'hospitalizedCurrently' es significativo. Deberías considerar si representan errores de datos y si es apropiado eliminarlos o tratarlos con transformaciones."
          },
          "metadata": {}
        }
      ]
    },
    {
      "cell_type": "markdown",
      "source": [
        "## **4 - Verificación de Valores Nulos**\n",
        "\n",
        "Es importante entender la integridad de los datos, así que revisaremos la presencia de valores nulos."
      ],
      "metadata": {
        "id": "zJVRxJTkAm1W"
      }
    },
    {
      "cell_type": "markdown",
      "source": [
        "### **Visualizar datos faltantes de manera general**"
      ],
      "metadata": {
        "id": "V_ewk3vNU63W"
      }
    },
    {
      "cell_type": "markdown",
      "source": [
        "**Vamos usar dos gráficas para visualizar los datos faltantes. Ambas gráficas son complementarias:**\n",
        "- **msno.matrix()** es ideal para entender patrones de datos faltantes en su contexto, mientras que **msno.bar()** es más útil para obtener una visión cuantitativa clara de la cantidad de datos faltantes en cada columna."
      ],
      "metadata": {
        "id": "MrnV6p2mRDNf"
      }
    },
    {
      "cell_type": "markdown",
      "source": [
        "Visualizamos el diagrama de barras con los valores faltantes para las columnas seleccionadas en nuestro conjunto de datos (sub conjunto de datos de interés)"
      ],
      "metadata": {
        "id": "LVdhA35OOMEU"
      }
    },
    {
      "cell_type": "code",
      "source": [
        "# msno.bar: Nos muestra cuántos valores están presentes en cada columna en un\n",
        "# formato de barra, proporcionando una visión clara del volumen de datos\n",
        "# faltantes en términos absolutos.\n",
        "\n",
        "## Usamos la librería de missingno para por medio de la grafica visualizar los valores nulos, faltantes\n",
        "import missingno as msno\n",
        "\n",
        "#Visualizamos los valores nulos en las columnas seleccionadas\n",
        "msno.bar(data_interes)\n"
      ],
      "metadata": {
        "colab": {
          "base_uri": "https://localhost:8080/",
          "height": 792
        },
        "id": "-agyT7arN4g3",
        "outputId": "52954215-998d-4bf4-db8b-ea7b97155b9e"
      },
      "execution_count": 72,
      "outputs": [
        {
          "output_type": "execute_result",
          "data": {
            "text/plain": [
              "<Axes: >"
            ]
          },
          "metadata": {},
          "execution_count": 72
        },
        {
          "output_type": "display_data",
          "data": {
            "text/plain": [
              "<Figure size 2500x1000 with 3 Axes>"
            ],
            "image/png": "[encoded data removed]"
          },
          "metadata": {}
        }
      ]
    },
    {
      "cell_type": "markdown",
      "source": [
        "Visualizamos la matriz de valores faltantes en las columnas seleccionadas en nuestro conjunto de datos de interés)"
      ],
      "metadata": {
        "id": "dFiwtKZFNFGY"
      }
    },
    {
      "cell_type": "code",
      "source": [
        "# msno.matrix(): Nos da una visión general de la presencia y ausencia de datos\n",
        "# a lo largo de todo el dataset. Es útil para ver patrones de valores faltantes\n",
        "# y cómo están distribuidos a lo largo del dataset.\n",
        "\n",
        "msno.matrix(data_interes)"
      ],
      "metadata": {
        "colab": {
          "base_uri": "https://localhost:8080/",
          "height": 756
        },
        "id": "UNdUv1M2RXKT",
        "outputId": "402849f6-4e35-4e0d-e3b0-d527c3000cfe"
      },
      "execution_count": 55,
      "outputs": [
        {
          "output_type": "execute_result",
          "data": {
            "text/plain": [
              "<Axes: >"
            ]
          },
          "metadata": {},
          "execution_count": 55
        },
        {
          "output_type": "display_data",
          "data": {
            "text/plain": [
              "<Figure size 2500x1000 with 2 Axes>"
            ],
            "image/png": "[encoded data removed]"
          },
          "metadata": {}
        }
      ]
    },
    {
      "cell_type": "markdown",
      "source": [
        "**Interpretación de la Gráfica msno.matrix**\n",
        "\n",
        "Ejes X e Y:\n",
        "\n",
        "- **Eje X:** Representa cada una de las columnas de nuestro DataFrame (date, state, positive , death , hospitalizedCurrently).\n",
        "\n",
        "- **Eje Y:** Representa cada una de las filas de nuestro DataFrame (cada fila es un registro de datos correspondiente a un estado en una fecha específica).\n",
        "\n",
        "- **Líneas Horizontales:** Cada línea horizontal en la gráfica representa un registro en el DataFrame (es decir, un conjunto de datos para un estado en una fecha específica).\n",
        "\n",
        "Los **números \"2\" y \"5\" que aparecen en la barra derecha** se refieren al número de columnas que tienen valores faltantes consecutivos o contiguos en el dataset:\n",
        "\n",
        "- **Número 2:** Indica que hay una región en la gráfica donde 2 columnas tienen valores faltantes en las mismas filas de manera consecutiva. Esto significa que hay registros en los cuales, por ejemplo, tanto positive  como death  podrían estar ausentes simultáneamente en esas filas.\n",
        "\n",
        "- **Número 5:** Indica que hay otra región donde hasta 5 columnas (en este caso, todas las seleccionadas) tienen valores faltantes en las mismas filas. Esto podría corresponder a un conjunto de registros donde todas las columnas seleccionadas (date, state, positive , death , hospitalizedCurrently) están presentes, pero en otras filas estas mismas columnas podrían estar ausentes simultáneamente.\n",
        "\n",
        "*Esta información ayuda a identificar si los valores faltantes están distribuidos de manera aleatoria o si tienden a agruparse en ciertas filas o secciones del dataset, lo que puede ser clave para decidir cómo debemos manejar estos valores nulos en el análisis.*\n",
        "\n",
        "**1. Colores:**\n",
        "- **Negro:** Representa la presencia de datos (valores no nulos).\n",
        "- **Blanco:** Representa la ausencia de datos (valores nulos).\n",
        "\n",
        "**2. Distribución de Valores Faltantes:**\n",
        "\n",
        "- **Columna date y state:** Estas columnas están completamente negras, lo que indica que no hay valores faltantes; es decir, todos los registros tienen fecha y estado correspondientes.\n",
        "- **Columna positive  y death :** Estas columnas muestran secciones blancas, lo que significa que existen valores faltantes en esas columnas.\n",
        "- **Columna hospitalizedCurrently:** Esta columna también tiene secciones blancas, lo que indica que hay una cantidad significativa de valores faltantes.\n",
        "\n",
        "**3. Barra a la Derecha:**\n",
        "Esta barra indica la proporción de valores faltantes.\n",
        "\n",
        "**Conclusión sobre los Valores Faltantes:**\n",
        "- **date y state:** No presentan problemas de valores faltantes.\n",
        "- **positive , death , y hospitalizedCurrently:** Tienen valores faltantes significativos, como lo indican las secciones blancas en la gráfica."
      ],
      "metadata": {
        "id": "w7QNo5HBD3ta"
      }
    },
    {
      "cell_type": "markdown",
      "source": [],
      "metadata": {
        "id": "YKltyXPmSluv"
      }
    },
    {
      "cell_type": "markdown",
      "source": [
        "### **Consultar la Cantidad de Valores Faltantes|Nulos**\n",
        "Para determinar exactamente cuántos valores faltantes hay en cada columna, hacemos un conteo directo usando pandas:"
      ],
      "metadata": {
        "id": "cRXVF-3QKoGn"
      }
    },
    {
      "cell_type": "code",
      "source": [
        "# Verificar valores nulos solamente para las columnas de interés en esta investigación\n",
        "data.isnull().sum()[['date', 'state', 'positive', 'death', 'hospitalizedCurrently']]\n"
      ],
      "metadata": {
        "colab": {
          "base_uri": "https://localhost:8080/",
          "height": 241
        },
        "id": "1IyWsUhrAyTX",
        "outputId": "9d474860-d569-4585-9c92-42b875cea013"
      },
      "execution_count": 56,
      "outputs": [
        {
          "output_type": "execute_result",
          "data": {
            "text/plain": [
              "date                        0\n",
              "state                       0\n",
              "positive                  188\n",
              "death                     850\n",
              "hospitalizedCurrently    3441\n",
              "dtype: int64"
            ],
            "text/html": [
              "<div>\n",
              "<style scoped>\n",
              "    .dataframe tbody tr th:only-of-type {\n",
              "        vertical-align: middle;\n",
              "    }\n",
              "\n",
              "    .dataframe tbody tr th {\n",
              "        vertical-align: top;\n",
              "    }\n",
              "\n",
              "    .dataframe thead th {\n",
              "        text-align: right;\n",
              "    }\n",
              "</style>\n",
              "<table border=\"1\" class=\"dataframe\">\n",
              "  <thead>\n",
              "    <tr style=\"text-align: right;\">\n",
              "      <th></th>\n",
              "      <th>0</th>\n",
              "    </tr>\n",
              "  </thead>\n",
              "  <tbody>\n",
              "    <tr>\n",
              "      <th>date</th>\n",
              "      <td>0</td>\n",
              "    </tr>\n",
              "    <tr>\n",
              "      <th>state</th>\n",
              "      <td>0</td>\n",
              "    </tr>\n",
              "    <tr>\n",
              "      <th>positive</th>\n",
              "      <td>188</td>\n",
              "    </tr>\n",
              "    <tr>\n",
              "      <th>death</th>\n",
              "      <td>850</td>\n",
              "    </tr>\n",
              "    <tr>\n",
              "      <th>hospitalizedCurrently</th>\n",
              "      <td>3441</td>\n",
              "    </tr>\n",
              "  </tbody>\n",
              "</table>\n",
              "</div><br><label><b>dtype:</b> int64</label>"
            ]
          },
          "metadata": {},
          "execution_count": 56
        }
      ]
    },
    {
      "cell_type": "markdown",
      "source": [
        "### **Orientaciones para seguir con los proximos pasos**\n",
        "\n",
        "**Decidir que método estadístico usar para tratar los valores nulos segun el percentual de datos faltantes en el conjunto de datos**\n",
        "\n",
        "-> **Si el porcentaje de valores faltantes es bajo (menos del 5-10%)**, esto justifica la eliminación de las filas nulas. En cambio, si el porcentaje es alto, sería mejor considerar métodos de imputación.\n",
        "\n",
        "- **Prueba de Shapiro-Wilk:** Esta prueba estadística (stats.shapiro) se utiliza para verificar si los datos están distribuidos normalmente. Si el valor p (p-value) es mayor que 0.05, se considera que los datos siguen una distribución normal.\n",
        "\n",
        "-> **Sugerencia de Imputación Basada en la Distribución:**\n",
        "\n",
        "- **Si los datos son normalmente distribuidos:** Se sugiere imputar con la media.\n",
        "- **Si los datos no son normalmente distribuidos (tienen sesgo):** Se sugiere imputar con la mediana.\n",
        "- **Para columnas categóricas (object):** Se sugiere imputar con la moda.\n"
      ],
      "metadata": {
        "id": "xQKGygEWaKaH"
      }
    },
    {
      "cell_type": "markdown",
      "source": [
        "### **Análisis automática de los datos faltantes (nulos)**"
      ],
      "metadata": {
        "id": "clWcZbAbUDwu"
      }
    },
    {
      "cell_type": "markdown",
      "source": [
        "#### **Explicación del código**"
      ],
      "metadata": {
        "id": "a0jkoleUdumu"
      }
    },
    {
      "cell_type": "markdown",
      "source": [
        "El objetivo del código es determinar si los datos en columnas con valores nulos están distribuidos normalmente o no, y luego sugerir la mejor manera de tratar esos valores nulos (imputación por media, mediana, moda, o eliminación de filas).\n",
        "\n",
        "Para hacer esto, el código utiliza diferentes pruebas de normalidad según el tamaño de la muestra y las características de la distribución de los datos  (tamaño de la muestra y sesgo).\n",
        "\n",
        " -> **Pruebas Usadas:**\n",
        "\n",
        "**Prueba de Shapiro-Wilk:**\n",
        "- **Uso:** Esta prueba se usa cuando el tamaño de la **muestra es pequeño (N ≤ 5000)** y no hay un sesgo significativo en los datos.\n",
        "- **Propósito:** Detectar si los datos están normalmente distribuidos.\n",
        "- **Resultado:** Devuelve True si los datos son normales, y False si no lo son.\n",
        "\n",
        "**Prueba de Anderson-Darling:**\n",
        "- **Uso:** Se utiliza cuando la **muestra es pequeña (N ≤ 5000)** pero se detecta un sesgo significativo en los datos (skewness > 0.5).\n",
        "- **Propósito:** Detectar si los datos siguen una distribución normal, con mayor sensibilidad en las colas (extremos) de la distribución.\n",
        "- **Resultado:** Devuelve True si los datos son normales, basándose en el estadístico de la prueba comparado con los valores críticos.\n",
        "\n",
        "**Prueba de Kolmogorov-Smirnov (K-S):**\n",
        "- **Uso:** Se utiliza para **muestras grandes (N > 5000)**.\n",
        "- **Propósito:** Comparar la distribución de los datos con una distribución normal de referencia.\n",
        "- **Resultado:** Devuelve True si los datos son normales, basado en el p-valor de la prueba.\n",
        "\n",
        "-> **Pasos ejecutados en el código:**\n",
        "\n",
        "1. **Cálculo del Porcentaje de Valores Faltantes:**\n",
        "Este código calcula el porcentaje de valores faltantes para cada columna en el DataFrame data_interes. Esto es importante para determinar si se debe imputar o eliminar filas con valores nulos.\n",
        "\n",
        "2. **Función (check_distribution(column)) para Verificar la Normalidad de los Datos:**\n",
        "La función es clave para evaluar si los datos están distribuidos normalmente y decide automáticamente qué prueba de normalidad utilizar.\n",
        "\n",
        "3. **Sugerir el Mejor Método de Imputación:**\n",
        "Una vez que se determina si los datos son normales o no, la función suggest_imputation_method sugiere el método de imputación más adecuado:\n",
        "- **Media:** Se sugiere si los datos están normalmente distribuidos.\n",
        "- **Mediana:** Se sugiere si los datos no están normalmente distribuidos o presentan sesgo.\n",
        "- **Moda:** Se sugiere para datos categóricos.\n",
        "- **Métodos avanzados:** Se consideran si las columnas son complejas y podrían beneficiarse de técnicas más sofisticadas."
      ],
      "metadata": {
        "id": "D5Z4LM-LhoLB"
      }
    },
    {
      "cell_type": "markdown",
      "source": [
        "#### **Ejecutar código**"
      ],
      "metadata": {
        "id": "tgiBSrS2hw7v"
      }
    },
    {
      "cell_type": "code",
      "source": [
        "import scipy.stats as stats\n",
        "import matplotlib.pyplot as plt\n",
        "import seaborn as sns\n",
        "\n",
        "# Definir el umbral (en porcentaje) para decidir si eliminar filas nulas es\n",
        "# justificable\n",
        "threshold = 10  # Umbral para imputación o eliminación de filas\n",
        "\n",
        "# Calcular el porcentaje de valores faltantes\n",
        "missing_percentage = data_interes.isnull().mean() * 100\n",
        "\n",
        "# Mostrar el porcentaje de valores faltantes\n",
        "print(\"Porcentaje de valores faltantes por columna:\")\n",
        "print(missing_percentage)\n",
        "\n",
        "# Crear una lista para acumular las conclusiones\n",
        "conclusiones = []\n",
        "\n",
        "# Función para verificar la normalidad de los datos\n",
        "def check_distribution(column):\n",
        "    n = len(data_interes[column].dropna())\n",
        "    if n <= 5000:\n",
        "        # Decidir entre Shapiro-Wilk o Anderson-Darling\n",
        "        skewness = data_interes[column].skew()\n",
        "        if abs(skewness) > 0.5:  # Valor empírico para detectar sesgo significativo\n",
        "            print(f\"Usando la prueba de Anderson-Darling para la columna '{column}' con {n} registros debido a sesgo en la distribución (skewness = {skewness}).\")\n",
        "            # Prueba de normalidad (Anderson-Darling)\n",
        "            result = stats.anderson(data_interes[column].dropna(), dist='norm')\n",
        "            return result.statistic < result.critical_values[2]  # Usar un nivel de significancia del 5%\n",
        "        else:\n",
        "            print(f\"Usando la prueba de Shapiro-Wilk para la columna '{column}' con {n} registros.\")\n",
        "            # Prueba de normalidad (Shapiro-Wilk)\n",
        "            stat, p_value = stats.shapiro(data_interes[column].dropna())\n",
        "            return p_value > 0.05  # Retorna True si los datos son normalmente distribuidos\n",
        "    else:\n",
        "        print(f\"Usando la prueba de Kolmogorov-Smirnov (K-S) para la columna '{column}' con {n} registros.\")\n",
        "        # Prueba de normalidad (Kolmogorov-Smirnov)\n",
        "        stat, p_value = stats.kstest(data_interes[column].dropna(), 'norm')\n",
        "        return p_value > 0.05  # Retorna True si los datos son normalmente distribuidos\n",
        "\n",
        "# Sugerir el mejor método para tratar los valores faltantes\n",
        "def suggest_imputation_method(column_name, dtype, is_normal):\n",
        "    if dtype == 'float64' or dtype == 'int64':\n",
        "        if is_normal:\n",
        "            return \"Imputar usando la media, ya que los datos están distribuidos normalmente.\"\n",
        "        else:\n",
        "            return \"Imputar usando la mediana, ya que los datos no están distribuidos normalmente y pueden tener sesgo.\"\n",
        "    elif dtype == 'object':\n",
        "        return \"Imputar usando la moda (valor más frecuente) porque es una columna categórica.\"\n",
        "    else:\n",
        "        return \"Considerar técnicas avanzadas de imputación como k-NN o regresión dependiendo de la correlación con otras columnas.\"\n",
        "\n",
        "# Analizar cada columna con datos faltantes\n",
        "for column in missing_percentage.index:\n",
        "    if missing_percentage[column] > 0:\n",
        "        if missing_percentage[column] > threshold:\n",
        "            is_normal = check_distribution(column)\n",
        "            method = suggest_imputation_method(column, data_interes[column].dtype, is_normal)\n",
        "            conclusiones.append(f\"- **{column} ({round(missing_percentage[column], 2)}% faltantes):** {method}\")\n",
        "        else:\n",
        "            conclusiones.append(f\"- **{column} ({round(missing_percentage[column], 2)}% faltantes):** Eliminar filas con valores nulos, ya que el porcentaje es bajo.\")\n",
        "\n",
        "# Imprimir todas las conclusiones al final con formato Markdown\n",
        "from IPython.display import display, Markdown\n",
        "\n",
        "display(Markdown(\"**Conclusiones para el tratamiento de valores nulos:**\"))\n",
        "for conclusion in conclusiones:\n",
        "    display(Markdown(conclusion))\n"
      ],
      "metadata": {
        "colab": {
          "base_uri": "https://localhost:8080/",
          "height": 255
        },
        "id": "zqWKy0isc9m4",
        "outputId": "404fc16e-8a5a-409a-9606-4872d2346617"
      },
      "execution_count": 57,
      "outputs": [
        {
          "output_type": "stream",
          "name": "stdout",
          "text": [
            "Porcentaje de valores faltantes por columna:\n",
            "date                      0.000000\n",
            "state                     0.000000\n",
            "positive                  0.904716\n",
            "death                     4.090472\n",
            "hospitalizedCurrently    16.559192\n",
            "dtype: float64\n",
            "Usando la prueba de Kolmogorov-Smirnov (K-S) para la columna 'hospitalizedCurrently' con 17339 registros.\n"
          ]
        },
        {
          "output_type": "display_data",
          "data": {
            "text/plain": [
              "<IPython.core.display.Markdown object>"
            ],
            "text/markdown": "**Conclusiones para el tratamiento de valores nulos:**"
          },
          "metadata": {}
        },
        {
          "output_type": "display_data",
          "data": {
            "text/plain": [
              "<IPython.core.display.Markdown object>"
            ],
            "text/markdown": "- **positive (0.9% faltantes):** Eliminar filas con valores nulos, ya que el porcentaje es bajo."
          },
          "metadata": {}
        },
        {
          "output_type": "display_data",
          "data": {
            "text/plain": [
              "<IPython.core.display.Markdown object>"
            ],
            "text/markdown": "- **death (4.09% faltantes):** Eliminar filas con valores nulos, ya que el porcentaje es bajo."
          },
          "metadata": {}
        },
        {
          "output_type": "display_data",
          "data": {
            "text/plain": [
              "<IPython.core.display.Markdown object>"
            ],
            "text/markdown": "- **hospitalizedCurrently (16.56% faltantes):** Imputar usando la mediana, ya que los datos no están distribuidos normalmente y pueden tener sesgo."
          },
          "metadata": {}
        }
      ]
    },
    {
      "cell_type": "markdown",
      "source": [
        "**Eliminar Filas con Valores Nulos en las columnas \"positive \" y \"death \"**\n",
        "\n",
        "Dado que el porcentaje de valores nulos en las columnas positive  y death  es bajo (0.9% y 4.09%, respectivamente), es razonable eliminar estas filas sin que ello afecte significativamente la validez del análisis."
      ],
      "metadata": {
        "id": "aGCWzLtzd9CA"
      }
    },
    {
      "cell_type": "code",
      "source": [
        "# Eliminar filas con valores nulos en 'positive ' y 'death' directamente en data_interes\n",
        "data_interes.dropna(subset=['positive', 'death'], inplace=True)"
      ],
      "metadata": {
        "id": "9doZm2S0i08f"
      },
      "execution_count": 58,
      "outputs": []
    },
    {
      "cell_type": "markdown",
      "source": [
        "**Verificar si los valores nulos en las columnas \"positive \" y \"death \" han sido eliminados correctamente**"
      ],
      "metadata": {
        "id": "g_r20mdmjYvF"
      }
    },
    {
      "cell_type": "code",
      "source": [
        "# Verificar valores nulos solamente para las columnas de interés en esta investigación\n",
        "data_interes.isnull().sum()"
      ],
      "metadata": {
        "colab": {
          "base_uri": "https://localhost:8080/",
          "height": 241
        },
        "id": "3VFtpP1EirA1",
        "outputId": "2ad4951d-4e12-420f-d3bb-a8c46ee8d33e"
      },
      "execution_count": 59,
      "outputs": [
        {
          "output_type": "execute_result",
          "data": {
            "text/plain": [
              "date                        0\n",
              "state                       0\n",
              "positive                    0\n",
              "death                       0\n",
              "hospitalizedCurrently    2547\n",
              "dtype: int64"
            ],
            "text/html": [
              "<div>\n",
              "<style scoped>\n",
              "    .dataframe tbody tr th:only-of-type {\n",
              "        vertical-align: middle;\n",
              "    }\n",
              "\n",
              "    .dataframe tbody tr th {\n",
              "        vertical-align: top;\n",
              "    }\n",
              "\n",
              "    .dataframe thead th {\n",
              "        text-align: right;\n",
              "    }\n",
              "</style>\n",
              "<table border=\"1\" class=\"dataframe\">\n",
              "  <thead>\n",
              "    <tr style=\"text-align: right;\">\n",
              "      <th></th>\n",
              "      <th>0</th>\n",
              "    </tr>\n",
              "  </thead>\n",
              "  <tbody>\n",
              "    <tr>\n",
              "      <th>date</th>\n",
              "      <td>0</td>\n",
              "    </tr>\n",
              "    <tr>\n",
              "      <th>state</th>\n",
              "      <td>0</td>\n",
              "    </tr>\n",
              "    <tr>\n",
              "      <th>positive</th>\n",
              "      <td>0</td>\n",
              "    </tr>\n",
              "    <tr>\n",
              "      <th>death</th>\n",
              "      <td>0</td>\n",
              "    </tr>\n",
              "    <tr>\n",
              "      <th>hospitalizedCurrently</th>\n",
              "      <td>2547</td>\n",
              "    </tr>\n",
              "  </tbody>\n",
              "</table>\n",
              "</div><br><label><b>dtype:</b> int64</label>"
            ]
          },
          "metadata": {},
          "execution_count": 59
        }
      ]
    },
    {
      "cell_type": "markdown",
      "source": [
        "**Observaciones:**\n",
        "\n",
        "Luego de tener eliminado los datos nulos en las 2 columnas ('positive ', 'death Confirmed ') notamos que la cantidade de valores nulos en la columna 'hospitalizedCurrently' ha bajado de 3441 para 2547 valores nulos los cuales vamos a tratar a seguir.\n"
      ],
      "metadata": {
        "id": "PpZ3f62gi1gi"
      }
    },
    {
      "cell_type": "markdown",
      "source": [
        "**Imputar la Mediana en los Valores Nulos de \"hospitalizedCurrently\"**\n",
        "Dado que el 16.56% de los valores en la columna hospitalizedCurrently son nulos y se ha determinado que la distribución no es normal (tiene sesgo), imputaremos la mediana en lugar de la media."
      ],
      "metadata": {
        "id": "W3-FyU3yjz64"
      }
    },
    {
      "cell_type": "code",
      "source": [
        "# Imputar valores nulos en 'hospitalizedCurrently' usando la mediana\n",
        "median_value = data_interes['hospitalizedCurrently'].median()\n",
        "data_interes['hospitalizedCurrently'].fillna(median_value, inplace=True)\n"
      ],
      "metadata": {
        "id": "wrYyxpabi1_W"
      },
      "execution_count": 60,
      "outputs": []
    },
    {
      "cell_type": "markdown",
      "source": [
        "**Verificar si los valores nulos en la columna \"hospitalizedCurrently\" han sido eliminados correctamente**"
      ],
      "metadata": {
        "id": "khTFC6P9lcbs"
      }
    },
    {
      "cell_type": "code",
      "source": [
        "# Verificar valores nulos solamente para las columnas de interés en esta investigación\n",
        "data_interes.isnull().sum()\n"
      ],
      "metadata": {
        "colab": {
          "base_uri": "https://localhost:8080/",
          "height": 241
        },
        "id": "c21pyASslc4m",
        "outputId": "51e09502-6b14-4a60-cd13-ea48f1cf2e99"
      },
      "execution_count": 61,
      "outputs": [
        {
          "output_type": "execute_result",
          "data": {
            "text/plain": [
              "date                     0\n",
              "state                    0\n",
              "positive                 0\n",
              "death                    0\n",
              "hospitalizedCurrently    0\n",
              "dtype: int64"
            ],
            "text/html": [
              "<div>\n",
              "<style scoped>\n",
              "    .dataframe tbody tr th:only-of-type {\n",
              "        vertical-align: middle;\n",
              "    }\n",
              "\n",
              "    .dataframe tbody tr th {\n",
              "        vertical-align: top;\n",
              "    }\n",
              "\n",
              "    .dataframe thead th {\n",
              "        text-align: right;\n",
              "    }\n",
              "</style>\n",
              "<table border=\"1\" class=\"dataframe\">\n",
              "  <thead>\n",
              "    <tr style=\"text-align: right;\">\n",
              "      <th></th>\n",
              "      <th>0</th>\n",
              "    </tr>\n",
              "  </thead>\n",
              "  <tbody>\n",
              "    <tr>\n",
              "      <th>date</th>\n",
              "      <td>0</td>\n",
              "    </tr>\n",
              "    <tr>\n",
              "      <th>state</th>\n",
              "      <td>0</td>\n",
              "    </tr>\n",
              "    <tr>\n",
              "      <th>positive</th>\n",
              "      <td>0</td>\n",
              "    </tr>\n",
              "    <tr>\n",
              "      <th>death</th>\n",
              "      <td>0</td>\n",
              "    </tr>\n",
              "    <tr>\n",
              "      <th>hospitalizedCurrently</th>\n",
              "      <td>0</td>\n",
              "    </tr>\n",
              "  </tbody>\n",
              "</table>\n",
              "</div><br><label><b>dtype:</b> int64</label>"
            ]
          },
          "metadata": {},
          "execution_count": 61
        }
      ]
    },
    {
      "cell_type": "markdown",
      "source": [
        "## 👁 **Observaciones**\n",
        "- Se ha notado una cantidad considerable de valores atípicos en las columnas 'state', 'positive', 'death', 'hospitalizedCurrently', en el análisis exploratorio y en las visualizacionaes mas adelantes vamos copmreender estos datos y decidir como debemos enfocarlos en nuestro proyecto.\n",
        "\n",
        "- Se ha notado una cantidad considerable de valores nulos (faltantes) en las columnas 'state', 'positive', 'death', 'hospitalizedCurrently' las cuales hemos tratado en este paso."
      ],
      "metadata": {
        "id": "pIQgGC9pGVWJ"
      }
    },
    {
      "cell_type": "markdown",
      "source": [
        "# ▶ **Paso 4: Análisis Estadístico Descriptivo**"
      ],
      "metadata": {
        "id": "TUKbOgRhtPtZ"
      }
    },
    {
      "cell_type": "code",
      "source": [
        "# Estadísticas descriptivas de las columnas numéricas\n",
        "print(\"\\nEstadísticas descriptivas:\")\n",
        "data_interes.describe().round()\n"
      ],
      "metadata": {
        "colab": {
          "base_uri": "https://localhost:8080/",
          "height": 335
        },
        "id": "BJ6fxeKU4_jH",
        "outputId": "e5216759-e9ba-48aa-93a0-064e4d21ca8b"
      },
      "execution_count": 62,
      "outputs": [
        {
          "output_type": "stream",
          "name": "stdout",
          "text": [
            "\n",
            "Estadísticas descriptivas:\n"
          ]
        },
        {
          "output_type": "execute_result",
          "data": {
            "text/plain": [
              "                                date   positive    death  \\\n",
              "count                          19882    19882.0  19882.0   \n",
              "mean   2020-09-10 22:01:30.534151424   171053.0   3691.0   \n",
              "min              2020-02-26 00:00:00        0.0      0.0   \n",
              "25%              2020-06-14 00:00:00     7442.0    165.0   \n",
              "50%              2020-09-11 00:00:00    51148.0   1116.0   \n",
              "75%              2020-12-09 00:00:00   185978.0   4398.0   \n",
              "max              2021-03-07 00:00:00  3501394.0  54124.0   \n",
              "std                              NaN   331049.0   6286.0   \n",
              "\n",
              "       hospitalizedCurrently  \n",
              "count                19882.0  \n",
              "mean                  1106.0  \n",
              "min                      0.0  \n",
              "25%                    207.0  \n",
              "50%                    532.0  \n",
              "75%                   1102.0  \n",
              "max                  22851.0  \n",
              "std                   1936.0  "
            ],
            "text/html": [
              "\n",
              "  <div id=\"df-7b15058c-5a9b-4ed0-9ef6-92562d0471c9\" class=\"colab-df-container\">\n",
              "    <div>\n",
              "<style scoped>\n",
              "    .dataframe tbody tr th:only-of-type {\n",
              "        vertical-align: middle;\n",
              "    }\n",
              "\n",
              "    .dataframe tbody tr th {\n",
              "        vertical-align: top;\n",
              "    }\n",
              "\n",
              "    .dataframe thead th {\n",
              "        text-align: right;\n",
              "    }\n",
              "</style>\n",
              "<table border=\"1\" class=\"dataframe\">\n",
              "  <thead>\n",
              "    <tr style=\"text-align: right;\">\n",
              "      <th></th>\n",
              "      <th>date</th>\n",
              "      <th>positive</th>\n",
              "      <th>death</th>\n",
              "      <th>hospitalizedCurrently</th>\n",
              "    </tr>\n",
              "  </thead>\n",
              "  <tbody>\n",
              "    <tr>\n",
              "      <th>count</th>\n",
              "      <td>19882</td>\n",
              "      <td>19882.0</td>\n",
              "      <td>19882.0</td>\n",
              "      <td>19882.0</td>\n",
              "    </tr>\n",
              "    <tr>\n",
              "      <th>mean</th>\n",
              "      <td>2020-09-10 22:01:30.534151424</td>\n",
              "      <td>171053.0</td>\n",
              "      <td>3691.0</td>\n",
              "      <td>1106.0</td>\n",
              "    </tr>\n",
              "    <tr>\n",
              "      <th>min</th>\n",
              "      <td>2020-02-26 00:00:00</td>\n",
              "      <td>0.0</td>\n",
              "      <td>0.0</td>\n",
              "      <td>0.0</td>\n",
              "    </tr>\n",
              "    <tr>\n",
              "      <th>25%</th>\n",
              "      <td>2020-06-14 00:00:00</td>\n",
              "      <td>7442.0</td>\n",
              "      <td>165.0</td>\n",
              "      <td>207.0</td>\n",
              "    </tr>\n",
              "    <tr>\n",
              "      <th>50%</th>\n",
              "      <td>2020-09-11 00:00:00</td>\n",
              "      <td>51148.0</td>\n",
              "      <td>1116.0</td>\n",
              "      <td>532.0</td>\n",
              "    </tr>\n",
              "    <tr>\n",
              "      <th>75%</th>\n",
              "      <td>2020-12-09 00:00:00</td>\n",
              "      <td>185978.0</td>\n",
              "      <td>4398.0</td>\n",
              "      <td>1102.0</td>\n",
              "    </tr>\n",
              "    <tr>\n",
              "      <th>max</th>\n",
              "      <td>2021-03-07 00:00:00</td>\n",
              "      <td>3501394.0</td>\n",
              "      <td>54124.0</td>\n",
              "      <td>22851.0</td>\n",
              "    </tr>\n",
              "    <tr>\n",
              "      <th>std</th>\n",
              "      <td>NaN</td>\n",
              "      <td>331049.0</td>\n",
              "      <td>6286.0</td>\n",
              "      <td>1936.0</td>\n",
              "    </tr>\n",
              "  </tbody>\n",
              "</table>\n",
              "</div>\n",
              "    <div class=\"colab-df-buttons\">\n",
              "\n",
              "  <div class=\"colab-df-container\">\n",
              "    <button class=\"colab-df-convert\" onclick=\"convertToInteractive('df-7b15058c-5a9b-4ed0-9ef6-92562d0471c9')\"\n",
              "            title=\"Convert this dataframe to an interactive table.\"\n",
              "            style=\"display:none;\">\n",
              "\n",
              "  <svg xmlns=\"http://www.w3.org/2000/svg\" height=\"24px\" viewBox=\"0 -960 960 960\">\n",
              "    <path d=\"M120-120v-720h720v720H120Zm60-500h600v-160H180v160Zm220 220h160v-160H400v160Zm0 220h160v-160H400v160ZM180-400h160v-160H180v160Zm440 0h160v-160H620v160ZM180-180h160v-160H180v160Zm440 0h160v-160H620v160Z\"/>\n",
              "  </svg>\n",
              "    </button>\n",
              "\n",
              "  <style>\n",
              "    .colab-df-container {\n",
              "      display:flex;\n",
              "      gap: 12px;\n",
              "    }\n",
              "\n",
              "    .colab-df-convert {\n",
              "      background-color: #E8F0FE;\n",
              "      border: none;\n",
              "      border-radius: 50%;\n",
              "      cursor: pointer;\n",
              "      display: none;\n",
              "      fill: #1967D2;\n",
              "      height: 32px;\n",
              "      padding: 0 0 0 0;\n",
              "      width: 32px;\n",
              "    }\n",
              "\n",
              "    .colab-df-convert:hover {\n",
              "      background-color: #E2EBFA;\n",
              "      box-shadow: 0px 1px 2px rgba(60, 64, 67, 0.3), 0px 1px 3px 1px rgba(60, 64, 67, 0.15);\n",
              "      fill: #174EA6;\n",
              "    }\n",
              "\n",
              "    .colab-df-buttons div {\n",
              "      margin-bottom: 4px;\n",
              "    }\n",
              "\n",
              "    [theme=dark] .colab-df-convert {\n",
              "      background-color: #3B4455;\n",
              "      fill: #D2E3FC;\n",
              "    }\n",
              "\n",
              "    [theme=dark] .colab-df-convert:hover {\n",
              "      background-color: #434B5C;\n",
              "      box-shadow: 0px 1px 3px 1px rgba(0, 0, 0, 0.15);\n",
              "      filter: drop-shadow(0px 1px 2px rgba(0, 0, 0, 0.3));\n",
              "      fill: #FFFFFF;\n",
              "    }\n",
              "  </style>\n",
              "\n",
              "    <script>\n",
              "      const buttonEl =\n",
              "        document.querySelector('#df-7b15058c-5a9b-4ed0-9ef6-92562d0471c9 button.colab-df-convert');\n",
              "      buttonEl.style.display =\n",
              "        google.colab.kernel.accessAllowed ? 'block' : 'none';\n",
              "\n",
              "      async function convertToInteractive(key) {\n",
              "        const element = document.querySelector('#df-7b15058c-5a9b-4ed0-9ef6-92562d0471c9');\n",
              "        const dataTable =\n",
              "          await google.colab.kernel.invokeFunction('convertToInteractive',\n",
              "                                                    [key], {});\n",
              "        if (!dataTable) return;\n",
              "\n",
              "        const docLinkHtml = 'Like what you see? Visit the ' +\n",
              "          '<a target=\"_blank\" href=https://colab.research.google.com/notebooks/data_table.ipynb>data table notebook</a>'\n",
              "          + ' to learn more about interactive tables.';\n",
              "        element.innerHTML = '';\n",
              "        dataTable['output_type'] = 'display_data';\n",
              "        await google.colab.output.renderOutput(dataTable, element);\n",
              "        const docLink = document.createElement('div');\n",
              "        docLink.innerHTML = docLinkHtml;\n",
              "        element.appendChild(docLink);\n",
              "      }\n",
              "    </script>\n",
              "  </div>\n",
              "\n",
              "\n",
              "<div id=\"df-8cf27599-1e82-4534-83af-0b1f22aae83c\">\n",
              "  <button class=\"colab-df-quickchart\" onclick=\"quickchart('df-8cf27599-1e82-4534-83af-0b1f22aae83c')\"\n",
              "            title=\"Suggest charts\"\n",
              "            style=\"display:none;\">\n",
              "\n",
              "<svg xmlns=\"http://www.w3.org/2000/svg\" height=\"24px\"viewBox=\"0 0 24 24\"\n",
              "     width=\"24px\">\n",
              "    <g>\n",
              "        <path d=\"M19 3H5c-1.1 0-2 .9-2 2v14c0 1.1.9 2 2 2h14c1.1 0 2-.9 2-2V5c0-1.1-.9-2-2-2zM9 17H7v-7h2v7zm4 0h-2V7h2v10zm4 0h-2v-4h2v4z\"/>\n",
              "    </g>\n",
              "</svg>\n",
              "  </button>\n",
              "\n",
              "<style>\n",
              "  .colab-df-quickchart {\n",
              "      --bg-color: #E8F0FE;\n",
              "      --fill-color: #1967D2;\n",
              "      --hover-bg-color: #E2EBFA;\n",
              "      --hover-fill-color: #174EA6;\n",
              "      --disabled-fill-color: #AAA;\n",
              "      --disabled-bg-color: #DDD;\n",
              "  }\n",
              "\n",
              "  [theme=dark] .colab-df-quickchart {\n",
              "      --bg-color: #3B4455;\n",
              "      --fill-color: #D2E3FC;\n",
              "      --hover-bg-color: #434B5C;\n",
              "      --hover-fill-color: #FFFFFF;\n",
              "      --disabled-bg-color: #3B4455;\n",
              "      --disabled-fill-color: #666;\n",
              "  }\n",
              "\n",
              "  .colab-df-quickchart {\n",
              "    background-color: var(--bg-color);\n",
              "    border: none;\n",
              "    border-radius: 50%;\n",
              "    cursor: pointer;\n",
              "    display: none;\n",
              "    fill: var(--fill-color);\n",
              "    height: 32px;\n",
              "    padding: 0;\n",
              "    width: 32px;\n",
              "  }\n",
              "\n",
              "  .colab-df-quickchart:hover {\n",
              "    background-color: var(--hover-bg-color);\n",
              "    box-shadow: 0 1px 2px rgba(60, 64, 67, 0.3), 0 1px 3px 1px rgba(60, 64, 67, 0.15);\n",
              "    fill: var(--button-hover-fill-color);\n",
              "  }\n",
              "\n",
              "  .colab-df-quickchart-complete:disabled,\n",
              "  .colab-df-quickchart-complete:disabled:hover {\n",
              "    background-color: var(--disabled-bg-color);\n",
              "    fill: var(--disabled-fill-color);\n",
              "    box-shadow: none;\n",
              "  }\n",
              "\n",
              "  .colab-df-spinner {\n",
              "    border: 2px solid var(--fill-color);\n",
              "    border-color: transparent;\n",
              "    border-bottom-color: var(--fill-color);\n",
              "    animation:\n",
              "      spin 1s steps(1) infinite;\n",
              "  }\n",
              "\n",
              "  @keyframes spin {\n",
              "    0% {\n",
              "      border-color: transparent;\n",
              "      border-bottom-color: var(--fill-color);\n",
              "      border-left-color: var(--fill-color);\n",
              "    }\n",
              "    20% {\n",
              "      border-color: transparent;\n",
              "      border-left-color: var(--fill-color);\n",
              "      border-top-color: var(--fill-color);\n",
              "    }\n",
              "    30% {\n",
              "      border-color: transparent;\n",
              "      border-left-color: var(--fill-color);\n",
              "      border-top-color: var(--fill-color);\n",
              "      border-right-color: var(--fill-color);\n",
              "    }\n",
              "    40% {\n",
              "      border-color: transparent;\n",
              "      border-right-color: var(--fill-color);\n",
              "      border-top-color: var(--fill-color);\n",
              "    }\n",
              "    60% {\n",
              "      border-color: transparent;\n",
              "      border-right-color: var(--fill-color);\n",
              "    }\n",
              "    80% {\n",
              "      border-color: transparent;\n",
              "      border-right-color: var(--fill-color);\n",
              "      border-bottom-color: var(--fill-color);\n",
              "    }\n",
              "    90% {\n",
              "      border-color: transparent;\n",
              "      border-bottom-color: var(--fill-color);\n",
              "    }\n",
              "  }\n",
              "</style>\n",
              "\n",
              "  <script>\n",
              "    async function quickchart(key) {\n",
              "      const quickchartButtonEl =\n",
              "        document.querySelector('#' + key + ' button');\n",
              "      quickchartButtonEl.disabled = true;  // To prevent multiple clicks.\n",
              "      quickchartButtonEl.classList.add('colab-df-spinner');\n",
              "      try {\n",
              "        const charts = await google.colab.kernel.invokeFunction(\n",
              "            'suggestCharts', [key], {});\n",
              "      } catch (error) {\n",
              "        console.error('Error during call to suggestCharts:', error);\n",
              "      }\n",
              "      quickchartButtonEl.classList.remove('colab-df-spinner');\n",
              "      quickchartButtonEl.classList.add('colab-df-quickchart-complete');\n",
              "    }\n",
              "    (() => {\n",
              "      let quickchartButtonEl =\n",
              "        document.querySelector('#df-8cf27599-1e82-4534-83af-0b1f22aae83c button');\n",
              "      quickchartButtonEl.style.display =\n",
              "        google.colab.kernel.accessAllowed ? 'block' : 'none';\n",
              "    })();\n",
              "  </script>\n",
              "</div>\n",
              "\n",
              "    </div>\n",
              "  </div>\n"
            ],
            "application/vnd.google.colaboratory.intrinsic+json": {
              "type": "dataframe",
              "summary": "{\n  \"name\": \"data_interes\",\n  \"rows\": 8,\n  \"fields\": [\n    {\n      \"column\": \"date\",\n      \"properties\": {\n        \"dtype\": \"date\",\n        \"min\": \"1970-01-01 00:00:00.000019882\",\n        \"max\": \"2021-03-07 00:00:00\",\n        \"num_unique_values\": 7,\n        \"samples\": [\n          \"19882\",\n          \"2020-09-10 22:01:30.534151424\",\n          \"2020-12-09 00:00:00\"\n        ],\n        \"semantic_type\": \"\",\n        \"description\": \"\"\n      }\n    },\n    {\n      \"column\": \"positive\",\n      \"properties\": {\n        \"dtype\": \"number\",\n        \"std\": 1204713.7621951946,\n        \"min\": 0.0,\n        \"max\": 3501394.0,\n        \"num_unique_values\": 8,\n        \"samples\": [\n          171053.0,\n          185978.0,\n          19882.0\n        ],\n        \"semantic_type\": \"\",\n        \"description\": \"\"\n      }\n    },\n    {\n      \"column\": \"death\",\n      \"properties\": {\n        \"dtype\": \"number\",\n        \"std\": 18491.482137537194,\n        \"min\": 0.0,\n        \"max\": 54124.0,\n        \"num_unique_values\": 8,\n        \"samples\": [\n          3691.0,\n          4398.0,\n          19882.0\n        ],\n        \"semantic_type\": \"\",\n        \"description\": \"\"\n      }\n    },\n    {\n      \"column\": \"hospitalizedCurrently\",\n      \"properties\": {\n        \"dtype\": \"number\",\n        \"std\": 9566.035915825172,\n        \"min\": 0.0,\n        \"max\": 22851.0,\n        \"num_unique_values\": 8,\n        \"samples\": [\n          1106.0,\n          1102.0,\n          19882.0\n        ],\n        \"semantic_type\": \"\",\n        \"description\": \"\"\n      }\n    }\n  ]\n}"
            }
          },
          "metadata": {},
          "execution_count": 62
        }
      ]
    },
    {
      "cell_type": "code",
      "source": [],
      "metadata": {
        "id": "Lvtztgz_7MqM"
      },
      "execution_count": 62,
      "outputs": []
    },
    {
      "cell_type": "markdown",
      "source": [],
      "metadata": {
        "id": "CzLITPxFqIeS"
      }
    },
    {
      "cell_type": "markdown",
      "source": [
        "**Resumen de los datos de interés**"
      ],
      "metadata": {
        "id": "EPerLmUK4_L-"
      }
    },
    {
      "cell_type": "code",
      "source": [
        "print(\"Primeras filas del DataFrame:\")\n",
        "data_interes.head()"
      ],
      "metadata": {
        "colab": {
          "base_uri": "https://localhost:8080/",
          "height": 224
        },
        "id": "jhYeOUP36r4e",
        "outputId": "c2b11f1d-1673-4d99-82f1-ca29a22f74a4"
      },
      "execution_count": 63,
      "outputs": [
        {
          "output_type": "stream",
          "name": "stdout",
          "text": [
            "Primeras filas del DataFrame:\n"
          ]
        },
        {
          "output_type": "execute_result",
          "data": {
            "text/plain": [
              "        date state  positive    death  hospitalizedCurrently\n",
              "0 2021-03-07    AK   56886.0    305.0                   33.0\n",
              "1 2021-03-07    AL  499819.0  10148.0                  494.0\n",
              "2 2021-03-07    AR  324818.0   5319.0                  335.0\n",
              "3 2021-03-07    AS       0.0      0.0                  532.0\n",
              "4 2021-03-07    AZ  826454.0  16328.0                  963.0"
            ],
            "text/html": [
              "\n",
              "  <div id=\"df-05714cf0-085a-4d01-9163-50cd5deeba74\" class=\"colab-df-container\">\n",
              "    <div>\n",
              "<style scoped>\n",
              "    .dataframe tbody tr th:only-of-type {\n",
              "        vertical-align: middle;\n",
              "    }\n",
              "\n",
              "    .dataframe tbody tr th {\n",
              "        vertical-align: top;\n",
              "    }\n",
              "\n",
              "    .dataframe thead th {\n",
              "        text-align: right;\n",
              "    }\n",
              "</style>\n",
              "<table border=\"1\" class=\"dataframe\">\n",
              "  <thead>\n",
              "    <tr style=\"text-align: right;\">\n",
              "      <th></th>\n",
              "      <th>date</th>\n",
              "      <th>state</th>\n",
              "      <th>positive</th>\n",
              "      <th>death</th>\n",
              "      <th>hospitalizedCurrently</th>\n",
              "    </tr>\n",
              "  </thead>\n",
              "  <tbody>\n",
              "    <tr>\n",
              "      <th>0</th>\n",
              "      <td>2021-03-07</td>\n",
              "      <td>AK</td>\n",
              "      <td>56886.0</td>\n",
              "      <td>305.0</td>\n",
              "      <td>33.0</td>\n",
              "    </tr>\n",
              "    <tr>\n",
              "      <th>1</th>\n",
              "      <td>2021-03-07</td>\n",
              "      <td>AL</td>\n",
              "      <td>499819.0</td>\n",
              "      <td>10148.0</td>\n",
              "      <td>494.0</td>\n",
              "    </tr>\n",
              "    <tr>\n",
              "      <th>2</th>\n",
              "      <td>2021-03-07</td>\n",
              "      <td>AR</td>\n",
              "      <td>324818.0</td>\n",
              "      <td>5319.0</td>\n",
              "      <td>335.0</td>\n",
              "    </tr>\n",
              "    <tr>\n",
              "      <th>3</th>\n",
              "      <td>2021-03-07</td>\n",
              "      <td>AS</td>\n",
              "      <td>0.0</td>\n",
              "      <td>0.0</td>\n",
              "      <td>532.0</td>\n",
              "    </tr>\n",
              "    <tr>\n",
              "      <th>4</th>\n",
              "      <td>2021-03-07</td>\n",
              "      <td>AZ</td>\n",
              "      <td>826454.0</td>\n",
              "      <td>16328.0</td>\n",
              "      <td>963.0</td>\n",
              "    </tr>\n",
              "  </tbody>\n",
              "</table>\n",
              "</div>\n",
              "    <div class=\"colab-df-buttons\">\n",
              "\n",
              "  <div class=\"colab-df-container\">\n",
              "    <button class=\"colab-df-convert\" onclick=\"convertToInteractive('df-05714cf0-085a-4d01-9163-50cd5deeba74')\"\n",
              "            title=\"Convert this dataframe to an interactive table.\"\n",
              "            style=\"display:none;\">\n",
              "\n",
              "  <svg xmlns=\"http://www.w3.org/2000/svg\" height=\"24px\" viewBox=\"0 -960 960 960\">\n",
              "    <path d=\"M120-120v-720h720v720H120Zm60-500h600v-160H180v160Zm220 220h160v-160H400v160Zm0 220h160v-160H400v160ZM180-400h160v-160H180v160Zm440 0h160v-160H620v160ZM180-180h160v-160H180v160Zm440 0h160v-160H620v160Z\"/>\n",
              "  </svg>\n",
              "    </button>\n",
              "\n",
              "  <style>\n",
              "    .colab-df-container {\n",
              "      display:flex;\n",
              "      gap: 12px;\n",
              "    }\n",
              "\n",
              "    .colab-df-convert {\n",
              "      background-color: #E8F0FE;\n",
              "      border: none;\n",
              "      border-radius: 50%;\n",
              "      cursor: pointer;\n",
              "      display: none;\n",
              "      fill: #1967D2;\n",
              "      height: 32px;\n",
              "      padding: 0 0 0 0;\n",
              "      width: 32px;\n",
              "    }\n",
              "\n",
              "    .colab-df-convert:hover {\n",
              "      background-color: #E2EBFA;\n",
              "      box-shadow: 0px 1px 2px rgba(60, 64, 67, 0.3), 0px 1px 3px 1px rgba(60, 64, 67, 0.15);\n",
              "      fill: #174EA6;\n",
              "    }\n",
              "\n",
              "    .colab-df-buttons div {\n",
              "      margin-bottom: 4px;\n",
              "    }\n",
              "\n",
              "    [theme=dark] .colab-df-convert {\n",
              "      background-color: #3B4455;\n",
              "      fill: #D2E3FC;\n",
              "    }\n",
              "\n",
              "    [theme=dark] .colab-df-convert:hover {\n",
              "      background-color: #434B5C;\n",
              "      box-shadow: 0px 1px 3px 1px rgba(0, 0, 0, 0.15);\n",
              "      filter: drop-shadow(0px 1px 2px rgba(0, 0, 0, 0.3));\n",
              "      fill: #FFFFFF;\n",
              "    }\n",
              "  </style>\n",
              "\n",
              "    <script>\n",
              "      const buttonEl =\n",
              "        document.querySelector('#df-05714cf0-085a-4d01-9163-50cd5deeba74 button.colab-df-convert');\n",
              "      buttonEl.style.display =\n",
              "        google.colab.kernel.accessAllowed ? 'block' : 'none';\n",
              "\n",
              "      async function convertToInteractive(key) {\n",
              "        const element = document.querySelector('#df-05714cf0-085a-4d01-9163-50cd5deeba74');\n",
              "        const dataTable =\n",
              "          await google.colab.kernel.invokeFunction('convertToInteractive',\n",
              "                                                    [key], {});\n",
              "        if (!dataTable) return;\n",
              "\n",
              "        const docLinkHtml = 'Like what you see? Visit the ' +\n",
              "          '<a target=\"_blank\" href=https://colab.research.google.com/notebooks/data_table.ipynb>data table notebook</a>'\n",
              "          + ' to learn more about interactive tables.';\n",
              "        element.innerHTML = '';\n",
              "        dataTable['output_type'] = 'display_data';\n",
              "        await google.colab.output.renderOutput(dataTable, element);\n",
              "        const docLink = document.createElement('div');\n",
              "        docLink.innerHTML = docLinkHtml;\n",
              "        element.appendChild(docLink);\n",
              "      }\n",
              "    </script>\n",
              "  </div>\n",
              "\n",
              "\n",
              "<div id=\"df-e4214caa-17e7-4b3c-9d39-9843e63729a3\">\n",
              "  <button class=\"colab-df-quickchart\" onclick=\"quickchart('df-e4214caa-17e7-4b3c-9d39-9843e63729a3')\"\n",
              "            title=\"Suggest charts\"\n",
              "            style=\"display:none;\">\n",
              "\n",
              "<svg xmlns=\"http://www.w3.org/2000/svg\" height=\"24px\"viewBox=\"0 0 24 24\"\n",
              "     width=\"24px\">\n",
              "    <g>\n",
              "        <path d=\"M19 3H5c-1.1 0-2 .9-2 2v14c0 1.1.9 2 2 2h14c1.1 0 2-.9 2-2V5c0-1.1-.9-2-2-2zM9 17H7v-7h2v7zm4 0h-2V7h2v10zm4 0h-2v-4h2v4z\"/>\n",
              "    </g>\n",
              "</svg>\n",
              "  </button>\n",
              "\n",
              "<style>\n",
              "  .colab-df-quickchart {\n",
              "      --bg-color: #E8F0FE;\n",
              "      --fill-color: #1967D2;\n",
              "      --hover-bg-color: #E2EBFA;\n",
              "      --hover-fill-color: #174EA6;\n",
              "      --disabled-fill-color: #AAA;\n",
              "      --disabled-bg-color: #DDD;\n",
              "  }\n",
              "\n",
              "  [theme=dark] .colab-df-quickchart {\n",
              "      --bg-color: #3B4455;\n",
              "      --fill-color: #D2E3FC;\n",
              "      --hover-bg-color: #434B5C;\n",
              "      --hover-fill-color: #FFFFFF;\n",
              "      --disabled-bg-color: #3B4455;\n",
              "      --disabled-fill-color: #666;\n",
              "  }\n",
              "\n",
              "  .colab-df-quickchart {\n",
              "    background-color: var(--bg-color);\n",
              "    border: none;\n",
              "    border-radius: 50%;\n",
              "    cursor: pointer;\n",
              "    display: none;\n",
              "    fill: var(--fill-color);\n",
              "    height: 32px;\n",
              "    padding: 0;\n",
              "    width: 32px;\n",
              "  }\n",
              "\n",
              "  .colab-df-quickchart:hover {\n",
              "    background-color: var(--hover-bg-color);\n",
              "    box-shadow: 0 1px 2px rgba(60, 64, 67, 0.3), 0 1px 3px 1px rgba(60, 64, 67, 0.15);\n",
              "    fill: var(--button-hover-fill-color);\n",
              "  }\n",
              "\n",
              "  .colab-df-quickchart-complete:disabled,\n",
              "  .colab-df-quickchart-complete:disabled:hover {\n",
              "    background-color: var(--disabled-bg-color);\n",
              "    fill: var(--disabled-fill-color);\n",
              "    box-shadow: none;\n",
              "  }\n",
              "\n",
              "  .colab-df-spinner {\n",
              "    border: 2px solid var(--fill-color);\n",
              "    border-color: transparent;\n",
              "    border-bottom-color: var(--fill-color);\n",
              "    animation:\n",
              "      spin 1s steps(1) infinite;\n",
              "  }\n",
              "\n",
              "  @keyframes spin {\n",
              "    0% {\n",
              "      border-color: transparent;\n",
              "      border-bottom-color: var(--fill-color);\n",
              "      border-left-color: var(--fill-color);\n",
              "    }\n",
              "    20% {\n",
              "      border-color: transparent;\n",
              "      border-left-color: var(--fill-color);\n",
              "      border-top-color: var(--fill-color);\n",
              "    }\n",
              "    30% {\n",
              "      border-color: transparent;\n",
              "      border-left-color: var(--fill-color);\n",
              "      border-top-color: var(--fill-color);\n",
              "      border-right-color: var(--fill-color);\n",
              "    }\n",
              "    40% {\n",
              "      border-color: transparent;\n",
              "      border-right-color: var(--fill-color);\n",
              "      border-top-color: var(--fill-color);\n",
              "    }\n",
              "    60% {\n",
              "      border-color: transparent;\n",
              "      border-right-color: var(--fill-color);\n",
              "    }\n",
              "    80% {\n",
              "      border-color: transparent;\n",
              "      border-right-color: var(--fill-color);\n",
              "      border-bottom-color: var(--fill-color);\n",
              "    }\n",
              "    90% {\n",
              "      border-color: transparent;\n",
              "      border-bottom-color: var(--fill-color);\n",
              "    }\n",
              "  }\n",
              "</style>\n",
              "\n",
              "  <script>\n",
              "    async function quickchart(key) {\n",
              "      const quickchartButtonEl =\n",
              "        document.querySelector('#' + key + ' button');\n",
              "      quickchartButtonEl.disabled = true;  // To prevent multiple clicks.\n",
              "      quickchartButtonEl.classList.add('colab-df-spinner');\n",
              "      try {\n",
              "        const charts = await google.colab.kernel.invokeFunction(\n",
              "            'suggestCharts', [key], {});\n",
              "      } catch (error) {\n",
              "        console.error('Error during call to suggestCharts:', error);\n",
              "      }\n",
              "      quickchartButtonEl.classList.remove('colab-df-spinner');\n",
              "      quickchartButtonEl.classList.add('colab-df-quickchart-complete');\n",
              "    }\n",
              "    (() => {\n",
              "      let quickchartButtonEl =\n",
              "        document.querySelector('#df-e4214caa-17e7-4b3c-9d39-9843e63729a3 button');\n",
              "      quickchartButtonEl.style.display =\n",
              "        google.colab.kernel.accessAllowed ? 'block' : 'none';\n",
              "    })();\n",
              "  </script>\n",
              "</div>\n",
              "\n",
              "    </div>\n",
              "  </div>\n"
            ],
            "application/vnd.google.colaboratory.intrinsic+json": {
              "type": "dataframe",
              "variable_name": "data_interes",
              "summary": "{\n  \"name\": \"data_interes\",\n  \"rows\": 19882,\n  \"fields\": [\n    {\n      \"column\": \"date\",\n      \"properties\": {\n        \"dtype\": \"date\",\n        \"min\": \"2020-02-26 00:00:00\",\n        \"max\": \"2021-03-07 00:00:00\",\n        \"num_unique_values\": 376,\n        \"samples\": [\n          \"2020-05-21 00:00:00\",\n          \"2020-03-15 00:00:00\",\n          \"2020-06-19 00:00:00\"\n        ],\n        \"semantic_type\": \"\",\n        \"description\": \"\"\n      }\n    },\n    {\n      \"column\": \"state\",\n      \"properties\": {\n        \"dtype\": \"category\",\n        \"num_unique_values\": 56,\n        \"samples\": [\n          \"AK\",\n          \"CA\",\n          \"NH\"\n        ],\n        \"semantic_type\": \"\",\n        \"description\": \"\"\n      }\n    },\n    {\n      \"column\": \"positive\",\n      \"properties\": {\n        \"dtype\": \"number\",\n        \"std\": 331049.40862827975,\n        \"min\": 0.0,\n        \"max\": 3501394.0,\n        \"num_unique_values\": 16843,\n        \"samples\": [\n          2349.0,\n          78279.0,\n          14730.0\n        ],\n        \"semantic_type\": \"\",\n        \"description\": \"\"\n      }\n    },\n    {\n      \"column\": \"death\",\n      \"properties\": {\n        \"dtype\": \"number\",\n        \"std\": 6286.335042789641,\n        \"min\": 0.0,\n        \"max\": 54124.0,\n        \"num_unique_values\": 7476,\n        \"samples\": [\n          14550.0,\n          5019.0,\n          1721.0\n        ],\n        \"semantic_type\": \"\",\n        \"description\": \"\"\n      }\n    },\n    {\n      \"column\": \"hospitalizedCurrently\",\n      \"properties\": {\n        \"dtype\": \"number\",\n        \"std\": 1936.2740870030423,\n        \"min\": 0.0,\n        \"max\": 22851.0,\n        \"num_unique_values\": 3885,\n        \"samples\": [\n          1604.0,\n          672.0,\n          3379.0\n        ],\n        \"semantic_type\": \"\",\n        \"description\": \"\"\n      }\n    }\n  ]\n}"
            }
          },
          "metadata": {},
          "execution_count": 63
        }
      ]
    },
    {
      "cell_type": "code",
      "source": [
        "print(\"\\nNúmero de valores nulos por columna:\")\n",
        "data_interes.isnull().sum()"
      ],
      "metadata": {
        "colab": {
          "base_uri": "https://localhost:8080/",
          "height": 276
        },
        "id": "4hyNy9F667vA",
        "outputId": "5d27c296-a311-4caa-e034-dbeb30600caf"
      },
      "execution_count": 64,
      "outputs": [
        {
          "output_type": "stream",
          "name": "stdout",
          "text": [
            "\n",
            "Número de valores nulos por columna:\n"
          ]
        },
        {
          "output_type": "execute_result",
          "data": {
            "text/plain": [
              "date                     0\n",
              "state                    0\n",
              "positive                 0\n",
              "death                    0\n",
              "hospitalizedCurrently    0\n",
              "dtype: int64"
            ],
            "text/html": [
              "<div>\n",
              "<style scoped>\n",
              "    .dataframe tbody tr th:only-of-type {\n",
              "        vertical-align: middle;\n",
              "    }\n",
              "\n",
              "    .dataframe tbody tr th {\n",
              "        vertical-align: top;\n",
              "    }\n",
              "\n",
              "    .dataframe thead th {\n",
              "        text-align: right;\n",
              "    }\n",
              "</style>\n",
              "<table border=\"1\" class=\"dataframe\">\n",
              "  <thead>\n",
              "    <tr style=\"text-align: right;\">\n",
              "      <th></th>\n",
              "      <th>0</th>\n",
              "    </tr>\n",
              "  </thead>\n",
              "  <tbody>\n",
              "    <tr>\n",
              "      <th>date</th>\n",
              "      <td>0</td>\n",
              "    </tr>\n",
              "    <tr>\n",
              "      <th>state</th>\n",
              "      <td>0</td>\n",
              "    </tr>\n",
              "    <tr>\n",
              "      <th>positive</th>\n",
              "      <td>0</td>\n",
              "    </tr>\n",
              "    <tr>\n",
              "      <th>death</th>\n",
              "      <td>0</td>\n",
              "    </tr>\n",
              "    <tr>\n",
              "      <th>hospitalizedCurrently</th>\n",
              "      <td>0</td>\n",
              "    </tr>\n",
              "  </tbody>\n",
              "</table>\n",
              "</div><br><label><b>dtype:</b> int64</label>"
            ]
          },
          "metadata": {},
          "execution_count": 64
        }
      ]
    },
    {
      "cell_type": "code",
      "source": [
        "print(\"\\nInformación general del DataFrame:\")\n",
        "data_interes.info()"
      ],
      "metadata": {
        "colab": {
          "base_uri": "https://localhost:8080/"
        },
        "id": "e_ttHQfo6vnv",
        "outputId": "55c2902b-13df-4759-adea-f4dc8694f2c3"
      },
      "execution_count": 65,
      "outputs": [
        {
          "output_type": "stream",
          "name": "stdout",
          "text": [
            "\n",
            "Información general del DataFrame:\n",
            "<class 'pandas.core.frame.DataFrame'>\n",
            "Index: 19882 entries, 0 to 20615\n",
            "Data columns (total 5 columns):\n",
            " #   Column                 Non-Null Count  Dtype         \n",
            "---  ------                 --------------  -----         \n",
            " 0   date                   19882 non-null  datetime64[ns]\n",
            " 1   state                  19882 non-null  object        \n",
            " 2   positive               19882 non-null  float64       \n",
            " 3   death                  19882 non-null  float64       \n",
            " 4   hospitalizedCurrently  19882 non-null  float64       \n",
            "dtypes: datetime64[ns](1), float64(3), object(1)\n",
            "memory usage: 932.0+ KB\n"
          ]
        }
      ]
    },
    {
      "cell_type": "code",
      "source": [
        "print(\"\\nNombres de las columnas:\")\n",
        "data_interes.columns"
      ],
      "metadata": {
        "colab": {
          "base_uri": "https://localhost:8080/"
        },
        "id": "qLTxmvxO6xws",
        "outputId": "b924fab5-4186-402a-c528-f9ceeae0a4d7"
      },
      "execution_count": 66,
      "outputs": [
        {
          "output_type": "stream",
          "name": "stdout",
          "text": [
            "\n",
            "Nombres de las columnas:\n"
          ]
        },
        {
          "output_type": "execute_result",
          "data": {
            "text/plain": [
              "Index(['date', 'state', 'positive', 'death', 'hospitalizedCurrently'], dtype='object')"
            ]
          },
          "metadata": {},
          "execution_count": 66
        }
      ]
    },
    {
      "cell_type": "code",
      "source": [
        "print(\"\\nNúmero de filas y columnas:\")\n",
        "data_interes.shape"
      ],
      "metadata": {
        "colab": {
          "base_uri": "https://localhost:8080/"
        },
        "id": "8fThFH4n62yA",
        "outputId": "71a920ac-59be-4acc-d6bb-c5257f1e14a9"
      },
      "execution_count": 67,
      "outputs": [
        {
          "output_type": "stream",
          "name": "stdout",
          "text": [
            "\n",
            "Número de filas y columnas:\n"
          ]
        },
        {
          "output_type": "execute_result",
          "data": {
            "text/plain": [
              "(19882, 5)"
            ]
          },
          "metadata": {},
          "execution_count": 67
        }
      ]
    },
    {
      "cell_type": "code",
      "source": [
        "print(\"\\nTipos de datos por columna:\")\n",
        "data_interes.dtypes"
      ],
      "metadata": {
        "colab": {
          "base_uri": "https://localhost:8080/",
          "height": 276
        },
        "id": "uh9pV0ER5ym7",
        "outputId": "cee016f4-1723-48ad-e1d0-7cdee3772473"
      },
      "execution_count": 73,
      "outputs": [
        {
          "output_type": "stream",
          "name": "stdout",
          "text": [
            "\n",
            "Tipos de datos por columna:\n"
          ]
        },
        {
          "output_type": "execute_result",
          "data": {
            "text/plain": [
              "date                       int64\n",
              "state                     object\n",
              "positive                 float64\n",
              "death                    float64\n",
              "hospitalizedCurrently    float64\n",
              "dtype: object"
            ],
            "text/html": [
              "<div>\n",
              "<style scoped>\n",
              "    .dataframe tbody tr th:only-of-type {\n",
              "        vertical-align: middle;\n",
              "    }\n",
              "\n",
              "    .dataframe tbody tr th {\n",
              "        vertical-align: top;\n",
              "    }\n",
              "\n",
              "    .dataframe thead th {\n",
              "        text-align: right;\n",
              "    }\n",
              "</style>\n",
              "<table border=\"1\" class=\"dataframe\">\n",
              "  <thead>\n",
              "    <tr style=\"text-align: right;\">\n",
              "      <th></th>\n",
              "      <th>0</th>\n",
              "    </tr>\n",
              "  </thead>\n",
              "  <tbody>\n",
              "    <tr>\n",
              "      <th>date</th>\n",
              "      <td>int64</td>\n",
              "    </tr>\n",
              "    <tr>\n",
              "      <th>state</th>\n",
              "      <td>object</td>\n",
              "    </tr>\n",
              "    <tr>\n",
              "      <th>positive</th>\n",
              "      <td>float64</td>\n",
              "    </tr>\n",
              "    <tr>\n",
              "      <th>death</th>\n",
              "      <td>float64</td>\n",
              "    </tr>\n",
              "    <tr>\n",
              "      <th>hospitalizedCurrently</th>\n",
              "      <td>float64</td>\n",
              "    </tr>\n",
              "  </tbody>\n",
              "</table>\n",
              "</div><br><label><b>dtype:</b> object</label>"
            ]
          },
          "metadata": {},
          "execution_count": 73
        }
      ]
    },
    {
      "cell_type": "markdown",
      "source": [
        "### Resumen de casos positivos y muertes por estado"
      ],
      "metadata": {
        "id": "n8XN-siw3_B7"
      }
    },
    {
      "cell_type": "code",
      "source": [
        "\n",
        "summary = data.groupby('state')[['positive', 'death']].sum().sort_values(by='positive', ascending=False)\n",
        "print(\"Resumen de casos positivos y muertes por estado:\")\n",
        "print(summary)"
      ],
      "metadata": {
        "colab": {
          "base_uri": "https://localhost:8080/"
        },
        "collapsed": true,
        "id": "aRJkETGl3_SE",
        "outputId": "4a5dca2e-b1ab-4021-f453-13d64e813462"
      },
      "execution_count": 69,
      "outputs": [
        {
          "output_type": "stream",
          "name": "stdout",
          "text": [
            "Resumen de casos positivos y muertes por estado:\n",
            "          positive      death\n",
            "state                        \n",
            "CA     379100459.0  5733089.0\n",
            "TX     311242452.0  5256010.0\n",
            "FL     246537443.0  4471991.0\n",
            "NY     216883639.0  8854467.0\n",
            "IL     155523687.0  3601219.0\n",
            "GA     123499113.0  2349202.0\n",
            "NJ     105084623.0  5352148.0\n",
            "OH     103133347.0  1909606.0\n",
            "PA     101072365.0  3384139.0\n",
            "NC      95648366.0  1347142.0\n",
            "AZ      95464371.0  1918434.0\n",
            "TN      92154114.0  1185922.0\n",
            "MI      82832274.0  2892062.0\n",
            "WI      76813945.0   829707.0\n",
            "IN      76263758.0  1629501.0\n",
            "MA      71309732.0  3195657.0\n",
            "VA      65585628.0  1111918.0\n",
            "AL      62062326.0  1038264.0\n",
            "LA      61057115.0  1765795.0\n",
            "MN      60388446.0   931536.0\n",
            "MO      60088249.0   966302.0\n",
            "SC      58314269.0  1092259.0\n",
            "MD      52034356.0  1386198.0\n",
            "CO      49413695.0   908462.0\n",
            "OK      45753488.0   469890.0\n",
            "UT      42543265.0   221121.0\n",
            "WA      42162428.0   770213.0\n",
            "KY      41966662.0   519333.0\n",
            "IA      38856604.0   652451.0\n",
            "MS      38297901.0   968406.0\n",
            "AR      37622536.0   601561.0\n",
            "NV      36317473.0   601874.0\n",
            "CT      33618419.0  1584666.0\n",
            "KS      33617591.0   446973.0\n",
            "NE      25447329.0   255624.0\n",
            "ID      21044768.0   219713.0\n",
            "NM      20928827.0   431992.0\n",
            "OR      17532076.0   254171.0\n",
            "RI      14950160.0   408127.0\n",
            "SD      14345234.0   202061.0\n",
            "ND      13141421.0   181229.0\n",
            "WV      12471865.0   214943.0\n",
            "PR      11411714.0   255184.0\n",
            "MT      11167518.0   139255.0\n",
            "DE      10219638.0   228375.0\n",
            "NH       6979193.0   171074.0\n",
            "AK       6158147.0    31486.0\n",
            "DC       6050063.0   207067.0\n",
            "WY       5974723.0    59935.0\n",
            "ME       4064643.0    73681.0\n",
            "HI       3863626.0    52478.0\n",
            "VT       1361136.0    28218.0\n",
            "GU       1117389.0    18674.0\n",
            "VI        373857.0     5100.0\n",
            "MP         24253.0      677.0\n",
            "AS             0.0        0.0\n"
          ]
        }
      ]
    },
    {
      "cell_type": "markdown",
      "source": [
        "# ▶ **Paso 5: Visualización de Datos**\n",
        "En esta sección, generaremos gráficos para visualizar los datos y obtener insights."
      ],
      "metadata": {
        "id": "KC4YlbrgIl2y"
      }
    },
    {
      "cell_type": "markdown",
      "source": [
        "## **Evolución Temporal de Casos y Muertes Confirmadas**\n",
        "\n",
        "Gráfico: Series temporales para visualizar la evolución de casos (positive) y muertes (death) a lo largo del tiempo."
      ],
      "metadata": {
        "id": "LGPa1EvS4n8P"
      }
    },
    {
      "cell_type": "code",
      "source": [
        "import matplotlib.pyplot as plt\n",
        "import seaborn as sns\n",
        "\n",
        "# Convertir la columna 'date' a formato datetime para facilitar la visualización\n",
        "data_interes['date'] = pd.to_datetime(data_interes['date'], format='%Y%m%d')\n",
        "\n",
        "# Agrupar los datos por fecha y sumar los valores para casos y muertes\n",
        "temporal_data = data_interes.groupby('date').sum()[['positive', 'death']]\n",
        "\n",
        "# Visualizar la evolución temporal\n",
        "plt.figure(figsize=(14, 7))\n",
        "sns.lineplot(data=temporal_data, palette=\"tab10\")\n",
        "plt.title('Evolución Temporal de Casos y Muertes Confirmadas por COVID-19 en EE.UU.')\n",
        "plt.xlabel('Fecha')\n",
        "plt.ylabel('Número de Casos/Muertes')\n",
        "plt.show()\n"
      ],
      "metadata": {
        "colab": {
          "base_uri": "https://localhost:8080/",
          "height": 642
        },
        "id": "u0RFv8G24oPE",
        "outputId": "66957210-965e-4c5c-b117-8bd5e99371fc"
      },
      "execution_count": 75,
      "outputs": [
        {
          "output_type": "display_data",
          "data": {
            "text/plain": [
              "<Figure size 1400x700 with 1 Axes>"
            ],
            "image/png": "[encoded data removed]"
          },
          "metadata": {}
        }
      ]
    },
    {
      "cell_type": "markdown",
      "source": [
        "💡 **Insight:**\n",
        "\n",
        "**Patrones Temporales:** Este gráfico muestra cómo los casos y muertes aumentaron a lo largo del tiempo. Se pueden identificar picos en la curva, que podrían corresponder a las olas del virus.\n",
        "\n",
        "Es crucial observar cuándo ocurrieron los picos y cómo se correlacionan entre casos y muertes, ya que esto puede proporcionar insights sobre la efectividad de las intervenciones de salud pública y la respuesta del sistema de salud en diferentes momentos."
      ],
      "metadata": {
        "id": "GTO6qMw64x2Q"
      }
    },
    {
      "cell_type": "markdown",
      "source": [
        "## **Comparación Geográfica de Casos y Muertes Confirmadas**\n",
        "\n",
        "Gráfico: Gráfico de barras para comparar el total de casos y muertes confirmadas entre diferentes estados."
      ],
      "metadata": {
        "id": "pzUTjELL4x5s"
      }
    },
    {
      "cell_type": "code",
      "source": [],
      "metadata": {
        "id": "LLdgt8CO5Y_J"
      },
      "execution_count": 91,
      "outputs": []
    },
    {
      "cell_type": "code",
      "source": [
        "import matplotlib.pyplot as plt\n",
        "\n",
        "# Agrupar los datos por estado y sumar los valores para casos y muertes\n",
        "state_data = data_interes.groupby('state')[['positive', 'death']].sum()\n",
        "\n",
        "# Ordenar los estados por el número total de casos\n",
        "state_data = state_data.sort_values('positive', ascending=False)\n",
        "\n",
        "# Visualizar la comparación por estado con barras horizontales\n",
        "plt.figure(figsize=(14, 14))  # Aumentar el tamaño de la figura\n",
        "state_data.plot(kind='barh', stacked=True, ax=plt.gca())\n",
        "\n",
        "# Ajustar el título y las etiquetas\n",
        "plt.title('Comparación de Casos y Muertes Confirmadas por COVID-19 entre Estados de EE.UU.')\n",
        "plt.xlabel('Número de Casos/Muertes')\n",
        "plt.ylabel('Estado')\n",
        "\n",
        "# Ajustar la leyenda para que no interfiera con la gráfica\n",
        "plt.legend(title='Variables', bbox_to_anchor=(1.05, 1), loc='upper left')\n",
        "\n",
        "# Mostrar la gráfica\n",
        "plt.tight_layout()\n",
        "plt.show()\n"
      ],
      "metadata": {
        "colab": {
          "base_uri": "https://localhost:8080/",
          "height": 1000
        },
        "id": "VyEwSR2l6Wz8",
        "outputId": "325c1301-7a37-4491-b238-a9dcd01b4a3c"
      },
      "execution_count": 79,
      "outputs": [
        {
          "output_type": "display_data",
          "data": {
            "text/plain": [
              "<Figure size 1400x1400 with 1 Axes>"
            ],
            "image/png": "[encoded data removed]"
          },
          "metadata": {}
        }
      ]
    },
    {
      "cell_type": "markdown",
      "source": [
        "**Insight:**\n",
        "\n",
        "**Patrones Geográficos:** Este gráfico destaca las diferencias en la propagación del virus entre estados.\n",
        "\n",
        "Algunos estados pueden tener un número significativamente mayor de casos y muertes, lo que podría reflejar factores como la densidad de población, políticas de salud pública, o acceso a la atención médica.\n",
        "\n",
        "Es importante notar si los estados con más casos también tienen más muertes, lo que podría indicar una mayor gravedad del impacto o diferencias en la capacidad de respuesta."
      ],
      "metadata": {
        "id": "fh8YoQvl5XyI"
      }
    },
    {
      "cell_type": "markdown",
      "source": [
        "## **Relación entre Hospitalizados, Casos y Muertes**\n",
        "\n",
        "Gráfico: Gráfico de dispersión para explorar la relación entre el número de hospitalizados actualmente (hospitalizedCurrently) y los casos (positive) y muertes (death)."
      ],
      "metadata": {
        "id": "So_CoHZ5-xGO"
      }
    },
    {
      "cell_type": "markdown",
      "source": [
        "**Insight:**\n",
        "\n",
        "- **Presión sobre el Sistema de Salud:** Estos gráficos de dispersión ayudan a entender cómo se relaciona el número de casos y muertes con la cantidad de personas actualmente hospitalizadas.\n",
        "\n",
        "- Una fuerte correlación entre casos/muertes y hospitalizaciones podría indicar que los aumentos en casos resultan en una mayor presión sobre los hospitales, lo que es crucial para planificar la capacidad del sistema de salud."
      ],
      "metadata": {
        "id": "bjStDNeU-xgI"
      }
    },
    {
      "cell_type": "code",
      "source": [
        "import plotly.express as px\n",
        "import pandas as pd\n",
        "import numpy as np\n",
        "\n",
        "# Convertir la columna 'positive' a numérica, manejando posibles errores\n",
        "data_interes['positive'] = pd.to_numeric(data_interes['positive'], errors='coerce')\n",
        "\n",
        "# Manejar valores faltantes o infinitos\n",
        "data_interes.replace([np.inf, -np.inf], np.nan, inplace=True)  # Reemplazar valores infinitos con NaN\n",
        "data_interes.dropna(subset=['positive'], inplace=True)  # Eliminar filas con valores faltantes en 'positive'\n",
        "\n",
        "# Crear una nueva columna para categorizar los casos en grupos\n",
        "data_interes['Casos_Grupo'] = pd.cut(data_interes['positive'], bins=5, labels=['Muy Bajo', 'Bajo', 'Moderado', 'Alto', 'Muy Alto'])\n",
        "\n",
        "# Agrupar por estado y por grupo de casos, luego calcular la media de hospitalizaciones\n",
        "grouped_data = data_interes.groupby(['state', 'Casos_Grupo'])['hospitalizedCurrently'].mean().reset_index()\n",
        "\n",
        "# Filtrar para mostrar solo los 10 estados con mayores hospitalizaciones\n",
        "top_states = grouped_data.groupby('state')['hospitalizedCurrently'].sum().nlargest(10).index\n",
        "filtered_data = grouped_data[grouped_data['state'].isin(top_states)]\n",
        "\n",
        "# Crear la gráfica de barras con Plotly\n",
        "fig = px.bar(filtered_data,\n",
        "             x='state',\n",
        "             y='hospitalizedCurrently',\n",
        "             color='Casos_Grupo',\n",
        "             barmode='group',\n",
        "             title='Promedio de Hospitalizaciones Actuales por Estado y Grupo de Casos Confirmados (Top 10 Estados)',\n",
        "             labels={'hospitalizedCurrently': 'Promedio de Personas Hospitalizadas', 'state': 'Estado', 'Casos_Grupo': 'Grupo de Casos Confirmados'},\n",
        "             height=600,  # Ajustar la altura para mayor claridad\n",
        "             width=1000)  # Ajustar el ancho para acomodar todos los estados\n",
        "\n",
        "# Ajustar la disposición de la leyenda y los labels\n",
        "fig.update_layout(\n",
        "    legend_title_text='Grupo de Casos Confirmados',\n",
        "    xaxis_title='Estado',\n",
        "    yaxis_title='Promedio de Personas Hospitalizadas',\n",
        "    xaxis_tickangle=-45,  # Rotar etiquetas para que sean más legibles\n",
        "    font=dict(size=14),  # Tamaño de la fuente general\n",
        "    bargap=0.2,  # Separar ligeramente las barras para que no se amontonen\n",
        ")\n",
        "\n",
        "# Mostrar la gráfica\n",
        "fig.show()\n"
      ],
      "metadata": {
        "colab": {
          "base_uri": "https://localhost:8080/",
          "height": 776
        },
        "id": "T8pUNFvgB-tT",
        "outputId": "11bad682-bc9e-4ce6-e689-bb6668568fcc"
      },
      "execution_count": 99,
      "outputs": [
        {
          "output_type": "stream",
          "name": "stderr",
          "text": [
            "<ipython-input-99-bd5fd9023611>:16: FutureWarning:\n",
            "\n",
            "The default of observed=False is deprecated and will be changed to True in a future version of pandas. Pass observed=False to retain current behavior or observed=True to adopt the future default and silence this warning.\n",
            "\n",
            "/usr/local/lib/python3.10/dist-packages/plotly/express/_core.py:1971: FutureWarning:\n",
            "\n",
            "The default of observed=False is deprecated and will be changed to True in a future version of pandas. Pass observed=False to retain current behavior or observed=True to adopt the future default and silence this warning.\n",
            "\n"
          ]
        },
        {
          "output_type": "display_data",
          "data": {
            "text/html": [
              "<html>\n",
              "<head><meta charset=\"utf-8\" /></head>\n",
              "<body>\n",
              "    <div>            <script src=\"https://cdnjs.cloudflare.com/ajax/libs/mathjax/2.7.5/MathJax.js?config=TeX-AMS-MML_SVG\"></script><script type=\"text/javascript\">if (window.MathJax && window.MathJax.Hub && window.MathJax.Hub.Config) {window.MathJax.Hub.Config({SVG: {font: \"STIX-Web\"}});}</script>                <script type=\"text/javascript\">window.PlotlyConfig = {MathJaxConfig: 'local'};</script>\n",
              "        <script charset=\"utf-8\" src=\"https://cdn.plot.ly/plotly-2.24.1.min.js\"></script>                <div id=\"8dbb7ad0-f0e2-4585-96d7-ac345489441e\" class=\"plotly-graph-div\" style=\"height:600px; width:1000px;\"></div>            <script type=\"text/javascript\">                                    window.PLOTLYENV=window.PLOTLYENV || {};                                    if (document.getElementById(\"8dbb7ad0-f0e2-4585-96d7-ac345489441e\")) {                    Plotly.newPlot(                        \"8dbb7ad0-f0e2-4585-96d7-ac345489441e\",                        [{\"alignmentgroup\":\"True\",\"hovertemplate\":\"Grupo de Casos Confirmados=Muy Bajo\\u003cbr\\u003eEstado=%{x}\\u003cbr\\u003ePromedio de Personas Hospitalizadas=%{y}\\u003cextra\\u003e\\u003c\\u002fextra\\u003e\",\"legendgroup\":\"Muy Bajo\",\"marker\":{\"color\":\"#636efa\",\"pattern\":{\"shape\":\"\"}},\"name\":\"Muy Bajo\",\"offsetgroup\":\"Muy Bajo\",\"orientation\":\"v\",\"showlegend\":true,\"textposition\":\"auto\",\"x\":[\"AZ\",\"CA\",\"FL\",\"GA\",\"IL\",\"NJ\",\"NY\",\"OH\",\"PA\",\"TX\"],\"xaxis\":\"x\",\"y\":[1859.968309859155,5448.401273885351,5438.746987951808,2161.3493975903616,2714.4700854700855,2339.108974358974,3633.2992424242425,1666.679012345679,1909.7536231884058,4354.542857142857],\"yaxis\":\"y\",\"type\":\"bar\"},{\"alignmentgroup\":\"True\",\"hovertemplate\":\"Grupo de Casos Confirmados=Bajo\\u003cbr\\u003eEstado=%{x}\\u003cbr\\u003ePromedio de Personas Hospitalizadas=%{y}\\u003cextra\\u003e\\u003c\\u002fextra\\u003e\",\"legendgroup\":\"Bajo\",\"marker\":{\"color\":\"#EF553B\",\"pattern\":{\"shape\":\"\"}},\"name\":\"Bajo\",\"offsetgroup\":\"Bajo\",\"orientation\":\"v\",\"showlegend\":true,\"textposition\":\"auto\",\"x\":[\"AZ\",\"CA\",\"FL\",\"GA\",\"IL\",\"NJ\",\"NY\",\"OH\",\"PA\",\"TX\"],\"xaxis\":\"x\",\"y\":[2502.222222222222,4478.64,3705.5714285714284,4181.419354838709,3349.4455445544554,2339.8285714285716,7512.428571428572,2571.402985074627,3173.5254237288136,5779.74025974026],\"yaxis\":\"y\",\"type\":\"bar\"},{\"alignmentgroup\":\"True\",\"hovertemplate\":\"Grupo de Casos Confirmados=Moderado\\u003cbr\\u003eEstado=%{x}\\u003cbr\\u003ePromedio de Personas Hospitalizadas=%{y}\\u003cextra\\u003e\\u003c\\u002fextra\\u003e\",\"legendgroup\":\"Moderado\",\"marker\":{\"color\":\"#00cc96\",\"pattern\":{\"shape\":\"\"}},\"name\":\"Moderado\",\"offsetgroup\":\"Moderado\",\"orientation\":\"v\",\"showlegend\":true,\"textposition\":\"auto\",\"x\":[\"AZ\",\"CA\",\"FL\",\"GA\",\"IL\",\"NJ\",\"NY\",\"OH\",\"PA\",\"TX\"],\"xaxis\":\"x\",\"y\":[null,16387.38888888889,5589.1,null,null,null,6509.722222222223,null,null,11478.375],\"yaxis\":\"y\",\"type\":\"bar\"},{\"alignmentgroup\":\"True\",\"hovertemplate\":\"Grupo de Casos Confirmados=Alto\\u003cbr\\u003eEstado=%{x}\\u003cbr\\u003ePromedio de Personas Hospitalizadas=%{y}\\u003cextra\\u003e\\u003c\\u002fextra\\u003e\",\"legendgroup\":\"Alto\",\"marker\":{\"color\":\"#ab63fa\",\"pattern\":{\"shape\":\"\"}},\"name\":\"Alto\",\"offsetgroup\":\"Alto\",\"orientation\":\"v\",\"showlegend\":true,\"textposition\":\"auto\",\"x\":[\"AZ\",\"CA\",\"FL\",\"GA\",\"IL\",\"NJ\",\"NY\",\"OH\",\"PA\",\"TX\"],\"xaxis\":\"x\",\"y\":[null,21940.833333333332,null,null,null,null,null,null,null,9293.2],\"yaxis\":\"y\",\"type\":\"bar\"},{\"alignmentgroup\":\"True\",\"hovertemplate\":\"Grupo de Casos Confirmados=Muy Alto\\u003cbr\\u003eEstado=%{x}\\u003cbr\\u003ePromedio de Personas Hospitalizadas=%{y}\\u003cextra\\u003e\\u003c\\u002fextra\\u003e\",\"legendgroup\":\"Muy Alto\",\"marker\":{\"color\":\"#FFA15A\",\"pattern\":{\"shape\":\"\"}},\"name\":\"Muy Alto\",\"offsetgroup\":\"Muy Alto\",\"orientation\":\"v\",\"showlegend\":true,\"textposition\":\"auto\",\"x\":[\"AZ\",\"CA\",\"FL\",\"GA\",\"IL\",\"NJ\",\"NY\",\"OH\",\"PA\",\"TX\"],\"xaxis\":\"x\",\"y\":[null,12461.150943396226,null,null,null,null,null,null,null,null],\"yaxis\":\"y\",\"type\":\"bar\"}],                        {\"template\":{\"data\":{\"histogram2dcontour\":[{\"type\":\"histogram2dcontour\",\"colorbar\":{\"outlinewidth\":0,\"ticks\":\"\"},\"colorscale\":[[0.0,\"#0d0887\"],[0.1111111111111111,\"#46039f\"],[0.2222222222222222,\"#7201a8\"],[0.3333333333333333,\"#9c179e\"],[0.4444444444444444,\"#bd3786\"],[0.5555555555555556,\"#d8576b\"],[0.6666666666666666,\"#ed7953\"],[0.7777777777777778,\"#fb9f3a\"],[0.8888888888888888,\"#fdca26\"],[1.0,\"#f0f921\"]]}],\"choropleth\":[{\"type\":\"choropleth\",\"colorbar\":{\"outlinewidth\":0,\"ticks\":\"\"}}],\"histogram2d\":[{\"type\":\"histogram2d\",\"colorbar\":{\"outlinewidth\":0,\"ticks\":\"\"},\"colorscale\":[[0.0,\"#0d0887\"],[0.1111111111111111,\"#46039f\"],[0.2222222222222222,\"#7201a8\"],[0.3333333333333333,\"#9c179e\"],[0.4444444444444444,\"#bd3786\"],[0.5555555555555556,\"#d8576b\"],[0.6666666666666666,\"#ed7953\"],[0.7777777777777778,\"#fb9f3a\"],[0.8888888888888888,\"#fdca26\"],[1.0,\"#f0f921\"]]}],\"heatmap\":[{\"type\":\"heatmap\",\"colorbar\":{\"outlinewidth\":0,\"ticks\":\"\"},\"colorscale\":[[0.0,\"#0d0887\"],[0.1111111111111111,\"#46039f\"],[0.2222222222222222,\"#7201a8\"],[0.3333333333333333,\"#9c179e\"],[0.4444444444444444,\"#bd3786\"],[0.5555555555555556,\"#d8576b\"],[0.6666666666666666,\"#ed7953\"],[0.7777777777777778,\"#fb9f3a\"],[0.8888888888888888,\"#fdca26\"],[1.0,\"#f0f921\"]]}],\"heatmapgl\":[{\"type\":\"heatmapgl\",\"colorbar\":{\"outlinewidth\":0,\"ticks\":\"\"},\"colorscale\":[[0.0,\"#0d0887\"],[0.1111111111111111,\"#46039f\"],[0.2222222222222222,\"#7201a8\"],[0.3333333333333333,\"#9c179e\"],[0.4444444444444444,\"#bd3786\"],[0.5555555555555556,\"#d8576b\"],[0.6666666666666666,\"#ed7953\"],[0.7777777777777778,\"#fb9f3a\"],[0.8888888888888888,\"#fdca26\"],[1.0,\"#f0f921\"]]}],\"contourcarpet\":[{\"type\":\"contourcarpet\",\"colorbar\":{\"outlinewidth\":0,\"ticks\":\"\"}}],\"contour\":[{\"type\":\"contour\",\"colorbar\":{\"outlinewidth\":0,\"ticks\":\"\"},\"colorscale\":[[0.0,\"#0d0887\"],[0.1111111111111111,\"#46039f\"],[0.2222222222222222,\"#7201a8\"],[0.3333333333333333,\"#9c179e\"],[0.4444444444444444,\"#bd3786\"],[0.5555555555555556,\"#d8576b\"],[0.6666666666666666,\"#ed7953\"],[0.7777777777777778,\"#fb9f3a\"],[0.8888888888888888,\"#fdca26\"],[1.0,\"#f0f921\"]]}],\"surface\":[{\"type\":\"surface\",\"colorbar\":{\"outlinewidth\":0,\"ticks\":\"\"},\"colorscale\":[[0.0,\"#0d0887\"],[0.1111111111111111,\"#46039f\"],[0.2222222222222222,\"#7201a8\"],[0.3333333333333333,\"#9c179e\"],[0.4444444444444444,\"#bd3786\"],[0.5555555555555556,\"#d8576b\"],[0.6666666666666666,\"#ed7953\"],[0.7777777777777778,\"#fb9f3a\"],[0.8888888888888888,\"#fdca26\"],[1.0,\"#f0f921\"]]}],\"mesh3d\":[{\"type\":\"mesh3d\",\"colorbar\":{\"outlinewidth\":0,\"ticks\":\"\"}}],\"scatter\":[{\"fillpattern\":{\"fillmode\":\"overlay\",\"size\":10,\"solidity\":0.2},\"type\":\"scatter\"}],\"parcoords\":[{\"type\":\"parcoords\",\"line\":{\"colorbar\":{\"outlinewidth\":0,\"ticks\":\"\"}}}],\"scatterpolargl\":[{\"type\":\"scatterpolargl\",\"marker\":{\"colorbar\":{\"outlinewidth\":0,\"ticks\":\"\"}}}],\"bar\":[{\"error_x\":{\"color\":\"#2a3f5f\"},\"error_y\":{\"color\":\"#2a3f5f\"},\"marker\":{\"line\":{\"color\":\"#E5ECF6\",\"width\":0.5},\"pattern\":{\"fillmode\":\"overlay\",\"size\":10,\"solidity\":0.2}},\"type\":\"bar\"}],\"scattergeo\":[{\"type\":\"scattergeo\",\"marker\":{\"colorbar\":{\"outlinewidth\":0,\"ticks\":\"\"}}}],\"scatterpolar\":[{\"type\":\"scatterpolar\",\"marker\":{\"colorbar\":{\"outlinewidth\":0,\"ticks\":\"\"}}}],\"histogram\":[{\"marker\":{\"pattern\":{\"fillmode\":\"overlay\",\"size\":10,\"solidity\":0.2}},\"type\":\"histogram\"}],\"scattergl\":[{\"type\":\"scattergl\",\"marker\":{\"colorbar\":{\"outlinewidth\":0,\"ticks\":\"\"}}}],\"scatter3d\":[{\"type\":\"scatter3d\",\"line\":{\"colorbar\":{\"outlinewidth\":0,\"ticks\":\"\"}},\"marker\":{\"colorbar\":{\"outlinewidth\":0,\"ticks\":\"\"}}}],\"scattermapbox\":[{\"type\":\"scattermapbox\",\"marker\":{\"colorbar\":{\"outlinewidth\":0,\"ticks\":\"\"}}}],\"scatterternary\":[{\"type\":\"scatterternary\",\"marker\":{\"colorbar\":{\"outlinewidth\":0,\"ticks\":\"\"}}}],\"scattercarpet\":[{\"type\":\"scattercarpet\",\"marker\":{\"colorbar\":{\"outlinewidth\":0,\"ticks\":\"\"}}}],\"carpet\":[{\"aaxis\":{\"endlinecolor\":\"#2a3f5f\",\"gridcolor\":\"white\",\"linecolor\":\"white\",\"minorgridcolor\":\"white\",\"startlinecolor\":\"#2a3f5f\"},\"baxis\":{\"endlinecolor\":\"#2a3f5f\",\"gridcolor\":\"white\",\"linecolor\":\"white\",\"minorgridcolor\":\"white\",\"startlinecolor\":\"#2a3f5f\"},\"type\":\"carpet\"}],\"table\":[{\"cells\":{\"fill\":{\"color\":\"#EBF0F8\"},\"line\":{\"color\":\"white\"}},\"header\":{\"fill\":{\"color\":\"#C8D4E3\"},\"line\":{\"color\":\"white\"}},\"type\":\"table\"}],\"barpolar\":[{\"marker\":{\"line\":{\"color\":\"#E5ECF6\",\"width\":0.5},\"pattern\":{\"fillmode\":\"overlay\",\"size\":10,\"solidity\":0.2}},\"type\":\"barpolar\"}],\"pie\":[{\"automargin\":true,\"type\":\"pie\"}]},\"layout\":{\"autotypenumbers\":\"strict\",\"colorway\":[\"#636efa\",\"#EF553B\",\"#00cc96\",\"#ab63fa\",\"#FFA15A\",\"#19d3f3\",\"#FF6692\",\"#B6E880\",\"#FF97FF\",\"#FECB52\"],\"font\":{\"color\":\"#2a3f5f\"},\"hovermode\":\"closest\",\"hoverlabel\":{\"align\":\"left\"},\"paper_bgcolor\":\"white\",\"plot_bgcolor\":\"#E5ECF6\",\"polar\":{\"bgcolor\":\"#E5ECF6\",\"angularaxis\":{\"gridcolor\":\"white\",\"linecolor\":\"white\",\"ticks\":\"\"},\"radialaxis\":{\"gridcolor\":\"white\",\"linecolor\":\"white\",\"ticks\":\"\"}},\"ternary\":{\"bgcolor\":\"#E5ECF6\",\"aaxis\":{\"gridcolor\":\"white\",\"linecolor\":\"white\",\"ticks\":\"\"},\"baxis\":{\"gridcolor\":\"white\",\"linecolor\":\"white\",\"ticks\":\"\"},\"caxis\":{\"gridcolor\":\"white\",\"linecolor\":\"white\",\"ticks\":\"\"}},\"coloraxis\":{\"colorbar\":{\"outlinewidth\":0,\"ticks\":\"\"}},\"colorscale\":{\"sequential\":[[0.0,\"#0d0887\"],[0.1111111111111111,\"#46039f\"],[0.2222222222222222,\"#7201a8\"],[0.3333333333333333,\"#9c179e\"],[0.4444444444444444,\"#bd3786\"],[0.5555555555555556,\"#d8576b\"],[0.6666666666666666,\"#ed7953\"],[0.7777777777777778,\"#fb9f3a\"],[0.8888888888888888,\"#fdca26\"],[1.0,\"#f0f921\"]],\"sequentialminus\":[[0.0,\"#0d0887\"],[0.1111111111111111,\"#46039f\"],[0.2222222222222222,\"#7201a8\"],[0.3333333333333333,\"#9c179e\"],[0.4444444444444444,\"#bd3786\"],[0.5555555555555556,\"#d8576b\"],[0.6666666666666666,\"#ed7953\"],[0.7777777777777778,\"#fb9f3a\"],[0.8888888888888888,\"#fdca26\"],[1.0,\"#f0f921\"]],\"diverging\":[[0,\"#8e0152\"],[0.1,\"#c51b7d\"],[0.2,\"#de77ae\"],[0.3,\"#f1b6da\"],[0.4,\"#fde0ef\"],[0.5,\"#f7f7f7\"],[0.6,\"#e6f5d0\"],[0.7,\"#b8e186\"],[0.8,\"#7fbc41\"],[0.9,\"#4d9221\"],[1,\"#276419\"]]},\"xaxis\":{\"gridcolor\":\"white\",\"linecolor\":\"white\",\"ticks\":\"\",\"title\":{\"standoff\":15},\"zerolinecolor\":\"white\",\"automargin\":true,\"zerolinewidth\":2},\"yaxis\":{\"gridcolor\":\"white\",\"linecolor\":\"white\",\"ticks\":\"\",\"title\":{\"standoff\":15},\"zerolinecolor\":\"white\",\"automargin\":true,\"zerolinewidth\":2},\"scene\":{\"xaxis\":{\"backgroundcolor\":\"#E5ECF6\",\"gridcolor\":\"white\",\"linecolor\":\"white\",\"showbackground\":true,\"ticks\":\"\",\"zerolinecolor\":\"white\",\"gridwidth\":2},\"yaxis\":{\"backgroundcolor\":\"#E5ECF6\",\"gridcolor\":\"white\",\"linecolor\":\"white\",\"showbackground\":true,\"ticks\":\"\",\"zerolinecolor\":\"white\",\"gridwidth\":2},\"zaxis\":{\"backgroundcolor\":\"#E5ECF6\",\"gridcolor\":\"white\",\"linecolor\":\"white\",\"showbackground\":true,\"ticks\":\"\",\"zerolinecolor\":\"white\",\"gridwidth\":2}},\"shapedefaults\":{\"line\":{\"color\":\"#2a3f5f\"}},\"annotationdefaults\":{\"arrowcolor\":\"#2a3f5f\",\"arrowhead\":0,\"arrowwidth\":1},\"geo\":{\"bgcolor\":\"white\",\"landcolor\":\"#E5ECF6\",\"subunitcolor\":\"white\",\"showland\":true,\"showlakes\":true,\"lakecolor\":\"white\"},\"title\":{\"x\":0.05},\"mapbox\":{\"style\":\"light\"}}},\"xaxis\":{\"anchor\":\"y\",\"domain\":[0.0,1.0],\"title\":{\"text\":\"Estado\"},\"tickangle\":-45},\"yaxis\":{\"anchor\":\"x\",\"domain\":[0.0,1.0],\"title\":{\"text\":\"Promedio de Personas Hospitalizadas\"}},\"legend\":{\"title\":{\"text\":\"Grupo de Casos Confirmados\"},\"tracegroupgap\":0},\"title\":{\"text\":\"Promedio de Hospitalizaciones Actuales por Estado y Grupo de Casos Confirmados (Top 10 Estados)\"},\"barmode\":\"group\",\"height\":600,\"width\":1000,\"font\":{\"size\":14},\"bargap\":0.2},                        {\"responsive\": true}                    ).then(function(){\n",
              "                            \n",
              "var gd = document.getElementById('8dbb7ad0-f0e2-4585-96d7-ac345489441e');\n",
              "var x = new MutationObserver(function (mutations, observer) {{\n",
              "        var display = window.getComputedStyle(gd).display;\n",
              "        if (!display || display === 'none') {{\n",
              "            console.log([gd, 'removed!']);\n",
              "            Plotly.purge(gd);\n",
              "            observer.disconnect();\n",
              "        }}\n",
              "}});\n",
              "\n",
              "// Listen for the removal of the full notebook cells\n",
              "var notebookContainer = gd.closest('#notebook-container');\n",
              "if (notebookContainer) {{\n",
              "    x.observe(notebookContainer, {childList: true});\n",
              "}}\n",
              "\n",
              "// Listen for the clearing of the current output cell\n",
              "var outputEl = gd.closest('.output');\n",
              "if (outputEl) {{\n",
              "    x.observe(outputEl, {childList: true});\n",
              "}}\n",
              "\n",
              "                        })                };                            </script>        </div>\n",
              "</body>\n",
              "</html>"
            ]
          },
          "metadata": {}
        }
      ]
    },
    {
      "cell_type": "markdown",
      "source": [],
      "metadata": {
        "id": "d8J9SPE__nIR"
      }
    },
    {
      "cell_type": "markdown",
      "source": [],
      "metadata": {
        "id": "EhlpbN1Ks2f2"
      }
    }
  ]
}